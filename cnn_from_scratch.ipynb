{
 "cells": [
  {
   "cell_type": "markdown",
   "id": "a0e34d8d",
   "metadata": {},
   "source": [
    "sources:\n",
    "\n",
    "https://www.kaggle.com/datasets/birdy654/cifake-real-and-ai-generated-synthetic-images?resource=download\n",
    "\n",
    "https://medium.com/@vineethrajesh2/loading-in-your-own-image-datasets-in-pytorch-9e4064171074\n",
    "\n",
    "https://www.kaggle.com/code/agnesa/efficientnet-detect-ai-vs-human-generated-images"
   ]
  },
  {
   "cell_type": "code",
   "execution_count": null,
   "id": "eb9439d0",
   "metadata": {},
   "outputs": [],
   "source": [
    "#assorted\n",
    "import numpy as np\n",
    "import os\n",
    "import psutil\n",
    "import matplotlib.pyplot as plt\n",
    "import seaborn as sns #literally only used for the lineplot? surely plt can do that too\n",
    "from tqdm import tqdm\n",
    "import random\n",
    "import typing\n",
    "\n",
    "#torch model\n",
    "import torch\n",
    "from torchvision.datasets import ImageFolder\n",
    "from torchvision import transforms\n",
    "from torch.utils.data import DataLoader\n",
    "from torch.utils.data import Subset\n",
    "import torch.nn as nn\n",
    "import torch.nn.functional as F #difference between that and torch.relu or torch.nn.Module.maxpool2d etc? Not much really just how to use it\n",
    "\n",
    "from typing import NamedTuple\n",
    "\n",
    "#metrics\n",
    "from sklearn.metrics import f1_score, accuracy_score\n",
    "from sklearn.metrics import confusion_matrix\n",
    "from sklearn.metrics import classification_report\n",
    "\n",
    "#torchcam\n",
    "from torchcam.methods import SmoothGradCAMpp\n",
    "from torchcam.utils import overlay_mask\n",
    "from torchvision.transforms.functional import to_pil_image\n",
    "from torch.optim.lr_scheduler import CosineAnnealingLR"
   ]
  },
  {
   "cell_type": "code",
   "execution_count": 14,
   "id": "72928106",
   "metadata": {},
   "outputs": [],
   "source": [
    "#transforms\n",
    "train_transforms = transforms.Compose([\n",
    "    transforms.ToTensor(), #can also do some resizing and normalizing\n",
    "    #transforms.Normalize((0.5, 0.5, 0.5), (0.5, 0.5, 0.5)), #mean and std for normalization\n",
    "\ttransforms.RandomHorizontalFlip(), #randomly flip the image horizontally\n",
    "])\n",
    "\n",
    "test_transforms = transforms.Compose([\n",
    "    transforms.ToTensor(), #can also do some resizing and normalizing\n",
    "    #transforms.Normalize((0.5, 0.5, 0.5), (0.5, 0.5, 0.5)),\n",
    "])"
   ]
  },
  {
   "cell_type": "code",
   "execution_count": 15,
   "id": "973fc812",
   "metadata": {},
   "outputs": [
    {
     "name": "stdout",
     "output_type": "stream",
     "text": [
      "cores: 8, device: mps, batch_size: 128, epochs: 60, learning rate: 0.001\n"
     ]
    }
   ],
   "source": [
    "#get num_workers, device, batch size\n",
    "def count_workers() -> int: \n",
    "\ttry:\n",
    "\t\tvCPUs = os.cpu_count() \n",
    "\t\tif vCPUs is None: \n",
    "\t\t\tvCPUs = psutil.cpu_count(logical = False)\n",
    "\t\treturn vCPUs\n",
    "\texcept Exception as e:\n",
    "\t\treturn 1\n",
    "\t\n",
    "def get_device() -> torch.device:\n",
    "\tif torch.backends.mps.is_available():\n",
    "\t\treturn torch.device(\"mps\")\n",
    "\telse:\n",
    "\t\treturn torch.device(\"cpu\")\n",
    "\n",
    "workers=count_workers()\n",
    "device = get_device()\n",
    "batch_size = 128\n",
    "epochs = 60\n",
    "lr=0.001\n",
    "\n",
    "print(f\"cores: {workers}, device: {device}, batch_size: {batch_size}, epochs: {epochs}, learning rate: {lr}\")"
   ]
  },
  {
   "cell_type": "code",
   "execution_count": 16,
   "id": "7bf240f9",
   "metadata": {},
   "outputs": [],
   "source": [
    "#load actual data\n",
    "train_data = ImageFolder(\"data_test/train\", transform=train_transforms)\n",
    "test_data = ImageFolder(\"data_test/test\", transform=test_transforms)\n",
    "\n",
    "#dataloaders\n",
    "train_loader = DataLoader(\n",
    "    train_data,\n",
    "    batch_size=batch_size,\n",
    "    shuffle=True,\n",
    "    #collate_fn=collate, #collate_fn is used to combine multiple samples into a batch\n",
    "    num_workers=workers, #number of workers to LOAD data in parallel (not to crunch numbers. for some reason it's different)\n",
    "    persistent_workers=True\n",
    "\t)\n",
    "test_loader = DataLoader(\n",
    "    test_data,\n",
    "    batch_size=batch_size,\n",
    "    shuffle=False,\n",
    "    num_workers=workers,\n",
    "    persistent_workers=True\n",
    "    )"
   ]
  },
  {
   "cell_type": "code",
   "execution_count": 17,
   "id": "0fdbfefe",
   "metadata": {},
   "outputs": [
    {
     "data": {
      "text/plain": [
       "True"
      ]
     },
     "execution_count": 17,
     "metadata": {},
     "output_type": "execute_result"
    }
   ],
   "source": [
    "os.path.exists(\"data_test\")"
   ]
  },
  {
   "cell_type": "code",
   "execution_count": 18,
   "id": "42beacf8",
   "metadata": {},
   "outputs": [
    {
     "name": "stdout",
     "output_type": "stream",
     "text": [
      "100000\n",
      "20000\n",
      "<class 'torchvision.datasets.folder.ImageFolder'>\n",
      "torch.Size([3, 32, 32])\n",
      "(tensor([[[0.4471, 0.4667, 0.4588,  ..., 0.4863, 0.4157, 0.2118],\n",
      "         [0.4980, 0.4980, 0.4863,  ..., 0.4039, 0.3176, 0.1804],\n",
      "         [0.5216, 0.5020, 0.4902,  ..., 0.2824, 0.1961, 0.1569],\n",
      "         ...,\n",
      "         [0.1412, 0.1451, 0.1529,  ..., 0.3490, 0.3451, 0.3490],\n",
      "         [0.1412, 0.1490, 0.1569,  ..., 0.3647, 0.3451, 0.3412],\n",
      "         [0.1373, 0.1451, 0.1647,  ..., 0.3922, 0.3882, 0.3843]],\n",
      "\n",
      "        [[0.4392, 0.4588, 0.4588,  ..., 0.4706, 0.4000, 0.1961],\n",
      "         [0.4902, 0.4902, 0.4863,  ..., 0.3882, 0.3020, 0.1647],\n",
      "         [0.5137, 0.4941, 0.4902,  ..., 0.2667, 0.1804, 0.1451],\n",
      "         ...,\n",
      "         [0.1059, 0.1098, 0.1176,  ..., 0.3216, 0.3176, 0.3216],\n",
      "         [0.1137, 0.1216, 0.1294,  ..., 0.3294, 0.3176, 0.3137],\n",
      "         [0.1176, 0.1255, 0.1373,  ..., 0.3569, 0.3569, 0.3529]],\n",
      "\n",
      "        [[0.4431, 0.4627, 0.4510,  ..., 0.4667, 0.3961, 0.1922],\n",
      "         [0.4941, 0.4941, 0.4784,  ..., 0.3843, 0.2980, 0.1529],\n",
      "         [0.5176, 0.4980, 0.4902,  ..., 0.2549, 0.1686, 0.1255],\n",
      "         ...,\n",
      "         [0.0784, 0.0745, 0.0824,  ..., 0.2902, 0.2863, 0.2902],\n",
      "         [0.0902, 0.0902, 0.0980,  ..., 0.3098, 0.2941, 0.2902],\n",
      "         [0.0941, 0.1020, 0.1059,  ..., 0.3373, 0.3451, 0.3412]]]), 0)\n"
     ]
    }
   ],
   "source": [
    "#check how many images in the dataset\n",
    "print(len(train_data)) #100k\n",
    "print(len(test_data)) #20k\n",
    "\n",
    "#check the classes\n",
    "print(type(train_data)) #torchvision.datasets.folder.ImageFolder\n",
    "# print(train_data.classes) #0 is fake and 1 is real\n",
    "# print(test_data.classes)\n",
    "\n",
    "#check the shape of the images\n",
    "print(train_data[0][0].shape) #3 channels, 32 x 32 px\n",
    "print(train_data[0]) #0 or 1, fake or real"
   ]
  },
  {
   "cell_type": "code",
   "execution_count": 19,
   "id": "c6b796c4",
   "metadata": {},
   "outputs": [
    {
     "data": {
      "image/png": "[encoded data removed]",
      "text/plain": [
       "<Figure size 640x480 with 5 Axes>"
      ]
     },
     "metadata": {},
     "output_type": "display_data"
    }
   ],
   "source": [
    "#print n images in train_data starting from starting_index\n",
    "n_images = 5\n",
    "starting_index=3908\n",
    "for i in range(n_images):\n",
    "\tplt.subplot(1, 5, i + 1) #subplot with 1 row and 5 columns\n",
    "\tplt.imshow(train_data[starting_index + i][0].permute(1, 2, 0)) #permute to get channels last\n",
    "\tplt.title(train_data[starting_index + i][1]) #show the label of the image, 0 is the index of the image\n",
    "\tplt.axis('off') #remove axis\n",
    "plt.show()"
   ]
  },
  {
   "cell_type": "code",
   "execution_count": 20,
   "id": "8b592c7c",
   "metadata": {},
   "outputs": [],
   "source": [
    "class CNN(nn.Module):\n",
    "    def __init__(self):\n",
    "        super().__init__()\n",
    "        self.conv1 = nn.Conv2d(3, 6, 5)\n",
    "        self.pool = nn.MaxPool2d(2, 2)\n",
    "        self.conv2 = nn.Conv2d(6, 16, 5)\n",
    "        self.fc1 = nn.Linear(16 * 5 * 5, 120)\n",
    "        self.fc2 = nn.Linear(120, 84)\n",
    "        self.fc3 = nn.Linear(84, 10)\n",
    "\n",
    "    def forward(self, x):\n",
    "        x = self.pool(F.relu(self.conv1(x)))\n",
    "        x = self.pool(F.relu(self.conv2(x)))\n",
    "        x = torch.flatten(x, 1) # flatten all dimensions except batch\n",
    "        x = F.relu(self.fc1(x))\n",
    "        x = F.relu(self.fc2(x))\n",
    "        x = self.fc3(x)\n",
    "        return x"
   ]
  },
  {
   "cell_type": "code",
   "execution_count": 21,
   "id": "972a8db1",
   "metadata": {},
   "outputs": [
    {
     "data": {
      "text/plain": [
       "CNN(\n",
       "  (conv1): Conv2d(3, 6, kernel_size=(5, 5), stride=(1, 1))\n",
       "  (pool): MaxPool2d(kernel_size=2, stride=2, padding=0, dilation=1, ceil_mode=False)\n",
       "  (conv2): Conv2d(6, 16, kernel_size=(5, 5), stride=(1, 1))\n",
       "  (fc1): Linear(in_features=400, out_features=120, bias=True)\n",
       "  (fc2): Linear(in_features=120, out_features=84, bias=True)\n",
       "  (fc3): Linear(in_features=84, out_features=10, bias=True)\n",
       ")"
      ]
     },
     "execution_count": 21,
     "metadata": {},
     "output_type": "execute_result"
    }
   ],
   "source": [
    "#initialize model\n",
    "model = CNN()\n",
    "model"
   ]
  },
  {
   "cell_type": "code",
   "execution_count": null,
   "id": "09efc466",
   "metadata": {},
   "outputs": [],
   "source": [
    "optimizer = torch.optim.AdamW(model.parameters(), lr=lr, weight_decay=0.01)\n",
    "criterion = nn.CrossEntropyLoss()"
   ]
  },
  {
   "cell_type": "code",
   "execution_count": 23,
   "id": "a5977575",
   "metadata": {},
   "outputs": [],
   "source": [
    "#training loop\n",
    "def train_cnn(model: nn.Module, train_loader, test_loader, epochs: int = 1000):\n",
    "\tprint(f\"Training on {device}\")\n",
    "\t# Convert everything to tensors first\n",
    "\tloss_ls = []\n",
    "\tf1_ls = []\n",
    "\taccuracy_score_ls = []\n",
    "\tmodel = model.to(device)\n",
    "\n",
    "\tfor epoch in tqdm(range(epochs)):\n",
    "\t\tmodel.train()\n",
    "\t\tfor features, target in train_loader:\n",
    "\t\t\tfeatures, target = features.to(device), target.to(device)\t\n",
    "\t\t\toptimizer.zero_grad()\n",
    "\t\t\toutputs = model(features)\n",
    "\t\t\tloss = criterion(outputs, target)\n",
    "\t\t\tloss.backward()\n",
    "\t\t\toptimizer.step()\n",
    "\n",
    "\t\tmodel.eval()\n",
    "\t\t#with torch.no_grad():\n",
    "\t\ttotal_loss = 0\n",
    "\t\tcombined = []\n",
    "\t\tfor features, target in test_loader:\n",
    "\t\t\tfeatures, target = features.to(device), target.to(device)\n",
    "\t\t\toutput = model(features)\n",
    "\t\t\tloss = criterion(output, target)\n",
    "\t\t\ttotal_loss += loss.item()\n",
    "\t\t\tlabel_out = torch.argmax(output, dim=1) #argmax returns the index of the maximum value in the tensor\n",
    "\t\t\tcombined.append({\"pred\": label_out, \"true\": target})\n",
    "\t\t\n",
    "\t\tcombined_true = np.concatenate([c[\"true\"].cpu().numpy() for c in combined])\n",
    "\t\tcombined_pred = np.concatenate([c[\"pred\"].cpu().numpy() for c in combined])\n",
    "\n",
    "\t\tf1 = f1_score(combined_true, combined_pred)\n",
    "\t\taccuracy = accuracy_score(combined_true, combined_pred)\n",
    "\t\tloss_ls.append(total_loss / len(test_loader))\n",
    "\t\tf1_ls.append(f1)\n",
    "\t\taccuracy_score_ls.append(accuracy)\n",
    "\t\tprint(f\"Epoch {epoch + 1} \\nLoss: {total_loss / len(test_loader)} \\nF1 Score: {np.mean(f1)} \\nAccuracy: {accuracy}\") #is something wrong with my f1 score here? take fake/fake as true positive or real/real as true positive?\n",
    "\treturn loss_ls, f1_ls, accuracy_score_ls"
   ]
  },
  {
   "cell_type": "code",
   "execution_count": 24,
   "id": "ff4fdf05",
   "metadata": {},
   "outputs": [
    {
     "name": "stdout",
     "output_type": "stream",
     "text": [
      "Training on mps\n"
     ]
    },
    {
     "name": "stderr",
     "output_type": "stream",
     "text": [
      "  2%|▏         | 1/60 [01:00<59:09, 60.17s/it]"
     ]
    },
    {
     "name": "stdout",
     "output_type": "stream",
     "text": [
      "Epoch 1 \n",
      "Loss: 0.46156421654922947 \n",
      "F1 Score: 0.8002126811112588 \n",
      "Accuracy: 0.77455\n"
     ]
    },
    {
     "name": "stderr",
     "output_type": "stream",
     "text": [
      "  3%|▎         | 2/60 [01:21<36:11, 37.44s/it]"
     ]
    },
    {
     "name": "stdout",
     "output_type": "stream",
     "text": [
      "Epoch 2 \n",
      "Loss: 0.3527190724186077 \n",
      "F1 Score: 0.8498242573065626 \n",
      "Accuracy: 0.84405\n"
     ]
    },
    {
     "name": "stderr",
     "output_type": "stream",
     "text": [
      "  5%|▌         | 3/60 [01:43<28:37, 30.13s/it]"
     ]
    },
    {
     "name": "stdout",
     "output_type": "stream",
     "text": [
      "Epoch 3 \n",
      "Loss: 0.3409654155468485 \n",
      "F1 Score: 0.8405390835579515 \n",
      "Accuracy: 0.8521\n"
     ]
    },
    {
     "name": "stderr",
     "output_type": "stream",
     "text": [
      "  7%|▋         | 4/60 [02:06<25:39, 27.49s/it]"
     ]
    },
    {
     "name": "stdout",
     "output_type": "stream",
     "text": [
      "Epoch 4 \n",
      "Loss: 0.29727662217085526 \n",
      "F1 Score: 0.8677569360990648 \n",
      "Accuracy: 0.87345\n"
     ]
    },
    {
     "name": "stderr",
     "output_type": "stream",
     "text": [
      "  8%|▊         | 5/60 [02:34<25:26, 27.75s/it]"
     ]
    },
    {
     "name": "stdout",
     "output_type": "stream",
     "text": [
      "Epoch 5 \n",
      "Loss: 0.26219477053660495 \n",
      "F1 Score: 0.8942006659046862 \n",
      "Accuracy: 0.89355\n"
     ]
    },
    {
     "name": "stderr",
     "output_type": "stream",
     "text": [
      " 10%|█         | 6/60 [02:58<23:39, 26.29s/it]"
     ]
    },
    {
     "name": "stdout",
     "output_type": "stream",
     "text": [
      "Epoch 6 \n",
      "Loss: 0.24852118740795523 \n",
      "F1 Score: 0.9021923244446596 \n",
      "Accuracy: 0.89895\n"
     ]
    },
    {
     "name": "stderr",
     "output_type": "stream",
     "text": [
      " 12%|█▏        | 7/60 [03:29<24:37, 27.88s/it]"
     ]
    },
    {
     "name": "stdout",
     "output_type": "stream",
     "text": [
      "Epoch 7 \n",
      "Loss: 0.25425049031426195 \n",
      "F1 Score: 0.901072705601907 \n",
      "Accuracy: 0.89625\n"
     ]
    },
    {
     "name": "stderr",
     "output_type": "stream",
     "text": [
      " 13%|█▎        | 8/60 [03:50<22:11, 25.61s/it]"
     ]
    },
    {
     "name": "stdout",
     "output_type": "stream",
     "text": [
      "Epoch 8 \n",
      "Loss: 0.22642010270030635 \n",
      "F1 Score: 0.9081779766343525 \n",
      "Accuracy: 0.90765\n"
     ]
    },
    {
     "name": "stderr",
     "output_type": "stream",
     "text": [
      " 15%|█▌        | 9/60 [04:11<20:32, 24.17s/it]"
     ]
    },
    {
     "name": "stdout",
     "output_type": "stream",
     "text": [
      "Epoch 9 \n",
      "Loss: 0.24008975439010913 \n",
      "F1 Score: 0.9057056480637267 \n",
      "Accuracy: 0.90175\n"
     ]
    },
    {
     "name": "stderr",
     "output_type": "stream",
     "text": [
      " 17%|█▋        | 10/60 [04:31<19:16, 23.12s/it]"
     ]
    },
    {
     "name": "stdout",
     "output_type": "stream",
     "text": [
      "Epoch 10 \n",
      "Loss: 0.21576544993622288 \n",
      "F1 Score: 0.9119407527645328 \n",
      "Accuracy: 0.9132\n"
     ]
    },
    {
     "name": "stderr",
     "output_type": "stream",
     "text": [
      " 18%|█▊        | 11/60 [04:52<18:17, 22.40s/it]"
     ]
    },
    {
     "name": "stdout",
     "output_type": "stream",
     "text": [
      "Epoch 11 \n",
      "Loss: 0.2718964682500454 \n",
      "F1 Score: 0.8810313469562426 \n",
      "Accuracy: 0.8888\n"
     ]
    },
    {
     "name": "stderr",
     "output_type": "stream",
     "text": [
      " 20%|██        | 12/60 [05:13<17:27, 21.83s/it]"
     ]
    },
    {
     "name": "stdout",
     "output_type": "stream",
     "text": [
      "Epoch 12 \n",
      "Loss: 0.22864239734069558 \n",
      "F1 Score: 0.9040809936332325 \n",
      "Accuracy: 0.9081\n"
     ]
    },
    {
     "name": "stderr",
     "output_type": "stream",
     "text": [
      " 22%|██▏       | 13/60 [05:33<16:44, 21.36s/it]"
     ]
    },
    {
     "name": "stdout",
     "output_type": "stream",
     "text": [
      "Epoch 13 \n",
      "Loss: 0.2094904283524319 \n",
      "F1 Score: 0.9162596303942797 \n",
      "Accuracy: 0.91685\n"
     ]
    },
    {
     "name": "stderr",
     "output_type": "stream",
     "text": [
      " 23%|██▎       | 14/60 [05:54<16:11, 21.12s/it]"
     ]
    },
    {
     "name": "stdout",
     "output_type": "stream",
     "text": [
      "Epoch 14 \n",
      "Loss: 0.2521176925225622 \n",
      "F1 Score: 0.9045739046701974 \n",
      "Accuracy: 0.9009\n"
     ]
    },
    {
     "name": "stderr",
     "output_type": "stream",
     "text": [
      " 25%|██▌       | 15/60 [06:15<15:50, 21.12s/it]"
     ]
    },
    {
     "name": "stdout",
     "output_type": "stream",
     "text": [
      "Epoch 15 \n",
      "Loss: 0.20919170448924326 \n",
      "F1 Score: 0.9155349118998334 \n",
      "Accuracy: 0.91635\n"
     ]
    },
    {
     "name": "stderr",
     "output_type": "stream",
     "text": [
      " 27%|██▋       | 16/60 [06:35<15:23, 21.00s/it]"
     ]
    },
    {
     "name": "stdout",
     "output_type": "stream",
     "text": [
      "Epoch 16 \n",
      "Loss: 0.21124395436257315 \n",
      "F1 Score: 0.9120667187907219 \n",
      "Accuracy: 0.91565\n"
     ]
    },
    {
     "name": "stderr",
     "output_type": "stream",
     "text": [
      " 28%|██▊       | 17/60 [06:57<15:08, 21.13s/it]"
     ]
    },
    {
     "name": "stdout",
     "output_type": "stream",
     "text": [
      "Epoch 17 \n",
      "Loss: 0.19081102586855556 \n",
      "F1 Score: 0.922791908672141 \n",
      "Accuracy: 0.9229\n"
     ]
    },
    {
     "name": "stderr",
     "output_type": "stream",
     "text": [
      " 30%|███       | 18/60 [07:18<14:52, 21.26s/it]"
     ]
    },
    {
     "name": "stdout",
     "output_type": "stream",
     "text": [
      "Epoch 18 \n",
      "Loss: 0.1965582208458785 \n",
      "F1 Score: 0.9196991874022107 \n",
      "Accuracy: 0.92045\n"
     ]
    },
    {
     "name": "stderr",
     "output_type": "stream",
     "text": [
      " 32%|███▏      | 19/60 [07:40<14:34, 21.34s/it]"
     ]
    },
    {
     "name": "stdout",
     "output_type": "stream",
     "text": [
      "Epoch 19 \n",
      "Loss: 0.25962399885912607 \n",
      "F1 Score: 0.8840043525571273 \n",
      "Accuracy: 0.8934\n"
     ]
    },
    {
     "name": "stderr",
     "output_type": "stream",
     "text": [
      " 33%|███▎      | 20/60 [08:01<14:06, 21.17s/it]"
     ]
    },
    {
     "name": "stdout",
     "output_type": "stream",
     "text": [
      "Epoch 20 \n",
      "Loss: 0.19807731265285214 \n",
      "F1 Score: 0.9201661744832074 \n",
      "Accuracy: 0.92025\n"
     ]
    },
    {
     "name": "stderr",
     "output_type": "stream",
     "text": [
      " 35%|███▌      | 21/60 [08:22<13:42, 21.08s/it]"
     ]
    },
    {
     "name": "stdout",
     "output_type": "stream",
     "text": [
      "Epoch 21 \n",
      "Loss: 0.19995307889144132 \n",
      "F1 Score: 0.9180564878401405 \n",
      "Accuracy: 0.92065\n"
     ]
    },
    {
     "name": "stderr",
     "output_type": "stream",
     "text": [
      " 37%|███▋      | 22/60 [08:43<13:26, 21.23s/it]"
     ]
    },
    {
     "name": "stdout",
     "output_type": "stream",
     "text": [
      "Epoch 22 \n",
      "Loss: 0.21543046310069455 \n",
      "F1 Score: 0.9108828283881734 \n",
      "Accuracy: 0.91455\n"
     ]
    },
    {
     "name": "stderr",
     "output_type": "stream",
     "text": [
      " 38%|███▊      | 23/60 [09:07<13:30, 21.90s/it]"
     ]
    },
    {
     "name": "stdout",
     "output_type": "stream",
     "text": [
      "Epoch 23 \n",
      "Loss: 0.1907259754504368 \n",
      "F1 Score: 0.9235051443908743 \n",
      "Accuracy: 0.92305\n"
     ]
    },
    {
     "name": "stderr",
     "output_type": "stream",
     "text": [
      " 40%|████      | 24/60 [09:31<13:36, 22.67s/it]"
     ]
    },
    {
     "name": "stdout",
     "output_type": "stream",
     "text": [
      "Epoch 24 \n",
      "Loss: 0.187399026789483 \n",
      "F1 Score: 0.9251132360342225 \n",
      "Accuracy: 0.9256\n"
     ]
    },
    {
     "name": "stderr",
     "output_type": "stream",
     "text": [
      " 42%|████▏     | 25/60 [09:51<12:48, 21.95s/it]"
     ]
    },
    {
     "name": "stdout",
     "output_type": "stream",
     "text": [
      "Epoch 25 \n",
      "Loss: 0.18514392335133947 \n",
      "F1 Score: 0.9255989911727617 \n",
      "Accuracy: 0.92625\n"
     ]
    },
    {
     "name": "stderr",
     "output_type": "stream",
     "text": [
      " 43%|████▎     | 26/60 [10:11<12:06, 21.36s/it]"
     ]
    },
    {
     "name": "stdout",
     "output_type": "stream",
     "text": [
      "Epoch 26 \n",
      "Loss: 0.19764662144859885 \n",
      "F1 Score: 0.9218347533188033 \n",
      "Accuracy: 0.9211\n"
     ]
    },
    {
     "name": "stderr",
     "output_type": "stream",
     "text": [
      " 45%|████▌     | 27/60 [10:31<11:31, 20.94s/it]"
     ]
    },
    {
     "name": "stdout",
     "output_type": "stream",
     "text": [
      "Epoch 27 \n",
      "Loss: 0.20784120166757306 \n",
      "F1 Score: 0.9189899284775945 \n",
      "Accuracy: 0.91675\n"
     ]
    },
    {
     "name": "stderr",
     "output_type": "stream",
     "text": [
      " 47%|████▋     | 28/60 [10:51<11:02, 20.69s/it]"
     ]
    },
    {
     "name": "stdout",
     "output_type": "stream",
     "text": [
      "Epoch 28 \n",
      "Loss: 0.19013249091092188 \n",
      "F1 Score: 0.9272294771590854 \n",
      "Accuracy: 0.92505\n"
     ]
    },
    {
     "name": "stderr",
     "output_type": "stream",
     "text": [
      " 48%|████▊     | 29/60 [11:12<10:42, 20.71s/it]"
     ]
    },
    {
     "name": "stdout",
     "output_type": "stream",
     "text": [
      "Epoch 29 \n",
      "Loss: 0.1858339069090831 \n",
      "F1 Score: 0.9266443481685703 \n",
      "Accuracy: 0.9255\n"
     ]
    },
    {
     "name": "stderr",
     "output_type": "stream",
     "text": [
      " 50%|█████     | 30/60 [11:34<10:33, 21.13s/it]"
     ]
    },
    {
     "name": "stdout",
     "output_type": "stream",
     "text": [
      "Epoch 30 \n",
      "Loss: 0.1843122979922659 \n",
      "F1 Score: 0.9252317613865377 \n",
      "Accuracy: 0.9258\n"
     ]
    },
    {
     "name": "stderr",
     "output_type": "stream",
     "text": [
      " 52%|█████▏    | 31/60 [11:54<10:00, 20.71s/it]"
     ]
    },
    {
     "name": "stdout",
     "output_type": "stream",
     "text": [
      "Epoch 31 \n",
      "Loss: 0.20037958951322896 \n",
      "F1 Score: 0.9243460959868006 \n",
      "Accuracy: 0.92205\n"
     ]
    },
    {
     "name": "stderr",
     "output_type": "stream",
     "text": [
      " 53%|█████▎    | 32/60 [12:14<09:34, 20.52s/it]"
     ]
    },
    {
     "name": "stdout",
     "output_type": "stream",
     "text": [
      "Epoch 32 \n",
      "Loss: 0.1885823551446769 \n",
      "F1 Score: 0.9261853176802539 \n",
      "Accuracy: 0.92675\n"
     ]
    },
    {
     "name": "stderr",
     "output_type": "stream",
     "text": [
      " 55%|█████▌    | 33/60 [12:34<09:10, 20.40s/it]"
     ]
    },
    {
     "name": "stdout",
     "output_type": "stream",
     "text": [
      "Epoch 33 \n",
      "Loss: 0.1758195860845268 \n",
      "F1 Score: 0.9296300030244984 \n",
      "Accuracy: 0.9302\n"
     ]
    },
    {
     "name": "stderr",
     "output_type": "stream",
     "text": [
      " 57%|█████▋    | 34/60 [12:54<08:46, 20.27s/it]"
     ]
    },
    {
     "name": "stdout",
     "output_type": "stream",
     "text": [
      "Epoch 34 \n",
      "Loss: 0.17373872676472754 \n",
      "F1 Score: 0.9314590498978117 \n",
      "Accuracy: 0.93125\n"
     ]
    },
    {
     "name": "stderr",
     "output_type": "stream",
     "text": [
      " 58%|█████▊    | 35/60 [13:16<08:39, 20.79s/it]"
     ]
    },
    {
     "name": "stdout",
     "output_type": "stream",
     "text": [
      "Epoch 35 \n",
      "Loss: 0.22311431302386484 \n",
      "F1 Score: 0.9082636758015025 \n",
      "Accuracy: 0.9133\n"
     ]
    },
    {
     "name": "stderr",
     "output_type": "stream",
     "text": [
      " 60%|██████    | 36/60 [13:36<08:14, 20.60s/it]"
     ]
    },
    {
     "name": "stdout",
     "output_type": "stream",
     "text": [
      "Epoch 36 \n",
      "Loss: 0.19397897842773207 \n",
      "F1 Score: 0.9239578101456555 \n",
      "Accuracy: 0.9243\n"
     ]
    },
    {
     "name": "stderr",
     "output_type": "stream",
     "text": [
      " 62%|██████▏   | 37/60 [13:56<07:49, 20.42s/it]"
     ]
    },
    {
     "name": "stdout",
     "output_type": "stream",
     "text": [
      "Epoch 37 \n",
      "Loss: 0.18229083306375582 \n",
      "F1 Score: 0.9255237016830511 \n",
      "Accuracy: 0.92765\n"
     ]
    },
    {
     "name": "stderr",
     "output_type": "stream",
     "text": [
      " 63%|██████▎   | 38/60 [14:17<07:28, 20.37s/it]"
     ]
    },
    {
     "name": "stdout",
     "output_type": "stream",
     "text": [
      "Epoch 38 \n",
      "Loss: 0.18556768034294152 \n",
      "F1 Score: 0.928783676703645 \n",
      "Accuracy: 0.9281\n"
     ]
    },
    {
     "name": "stderr",
     "output_type": "stream",
     "text": [
      " 65%|██████▌   | 39/60 [14:37<07:05, 20.28s/it]"
     ]
    },
    {
     "name": "stdout",
     "output_type": "stream",
     "text": [
      "Epoch 39 \n",
      "Loss: 0.17619270162217937 \n",
      "F1 Score: 0.9316659222867352 \n",
      "Accuracy: 0.93115\n"
     ]
    },
    {
     "name": "stderr",
     "output_type": "stream",
     "text": [
      " 67%|██████▋   | 40/60 [14:56<06:41, 20.09s/it]"
     ]
    },
    {
     "name": "stdout",
     "output_type": "stream",
     "text": [
      "Epoch 40 \n",
      "Loss: 0.19992017397170614 \n",
      "F1 Score: 0.9217669522138507 \n",
      "Accuracy: 0.9242\n"
     ]
    },
    {
     "name": "stderr",
     "output_type": "stream",
     "text": [
      " 68%|██████▊   | 41/60 [15:16<06:19, 19.99s/it]"
     ]
    },
    {
     "name": "stdout",
     "output_type": "stream",
     "text": [
      "Epoch 41 \n",
      "Loss: 0.20912535260817047 \n",
      "F1 Score: 0.9148869016307207 \n",
      "Accuracy: 0.9191\n"
     ]
    },
    {
     "name": "stderr",
     "output_type": "stream",
     "text": [
      " 70%|███████   | 42/60 [15:36<06:00, 20.02s/it]"
     ]
    },
    {
     "name": "stdout",
     "output_type": "stream",
     "text": [
      "Epoch 42 \n",
      "Loss: 0.1824368968795819 \n",
      "F1 Score: 0.9242193062760655 \n",
      "Accuracy: 0.9255\n"
     ]
    },
    {
     "name": "stderr",
     "output_type": "stream",
     "text": [
      " 72%|███████▏  | 43/60 [15:56<05:40, 20.03s/it]"
     ]
    },
    {
     "name": "stdout",
     "output_type": "stream",
     "text": [
      "Epoch 43 \n",
      "Loss: 0.18223757443913988 \n",
      "F1 Score: 0.9308975377283558 \n",
      "Accuracy: 0.9304\n"
     ]
    },
    {
     "name": "stderr",
     "output_type": "stream",
     "text": [
      " 73%|███████▎  | 44/60 [16:18<05:28, 20.51s/it]"
     ]
    },
    {
     "name": "stdout",
     "output_type": "stream",
     "text": [
      "Epoch 44 \n",
      "Loss: 0.18029112881346113 \n",
      "F1 Score: 0.9281965041023289 \n",
      "Accuracy: 0.92955\n"
     ]
    },
    {
     "name": "stderr",
     "output_type": "stream",
     "text": [
      " 75%|███████▌  | 45/60 [16:42<05:24, 21.66s/it]"
     ]
    },
    {
     "name": "stdout",
     "output_type": "stream",
     "text": [
      "Epoch 45 \n",
      "Loss: 0.20617374476448747 \n",
      "F1 Score: 0.9231364581821699 \n",
      "Accuracy: 0.92055\n"
     ]
    },
    {
     "name": "stderr",
     "output_type": "stream",
     "text": [
      " 77%|███████▋  | 46/60 [17:05<05:07, 21.97s/it]"
     ]
    },
    {
     "name": "stdout",
     "output_type": "stream",
     "text": [
      "Epoch 46 \n",
      "Loss: 0.17504839452019164 \n",
      "F1 Score: 0.9318067184505195 \n",
      "Accuracy: 0.9324\n"
     ]
    },
    {
     "name": "stderr",
     "output_type": "stream",
     "text": [
      " 78%|███████▊  | 47/60 [17:29<04:54, 22.67s/it]"
     ]
    },
    {
     "name": "stdout",
     "output_type": "stream",
     "text": [
      "Epoch 47 \n",
      "Loss: 0.18991839259293428 \n",
      "F1 Score: 0.9247223785886086 \n",
      "Accuracy: 0.92645\n"
     ]
    },
    {
     "name": "stderr",
     "output_type": "stream",
     "text": [
      " 80%|████████  | 48/60 [17:51<04:28, 22.41s/it]"
     ]
    },
    {
     "name": "stdout",
     "output_type": "stream",
     "text": [
      "Epoch 48 \n",
      "Loss: 0.2048286425697196 \n",
      "F1 Score: 0.9195007800312013 \n",
      "Accuracy: 0.9226\n"
     ]
    },
    {
     "name": "stderr",
     "output_type": "stream",
     "text": [
      " 82%|████████▏ | 49/60 [18:11<03:59, 21.79s/it]"
     ]
    },
    {
     "name": "stdout",
     "output_type": "stream",
     "text": [
      "Epoch 49 \n",
      "Loss: 0.1759493905742457 \n",
      "F1 Score: 0.9305583551703286 \n",
      "Accuracy: 0.9311\n"
     ]
    },
    {
     "name": "stderr",
     "output_type": "stream",
     "text": [
      " 83%|████████▎ | 50/60 [18:33<03:37, 21.72s/it]"
     ]
    },
    {
     "name": "stdout",
     "output_type": "stream",
     "text": [
      "Epoch 50 \n",
      "Loss: 0.18838862495817196 \n",
      "F1 Score: 0.925619004570338 \n",
      "Accuracy: 0.92595\n"
     ]
    },
    {
     "name": "stderr",
     "output_type": "stream",
     "text": [
      " 85%|████████▌ | 51/60 [18:53<03:11, 21.24s/it]"
     ]
    },
    {
     "name": "stdout",
     "output_type": "stream",
     "text": [
      "Epoch 51 \n",
      "Loss: 0.18571705636894628 \n",
      "F1 Score: 0.9288016112789527 \n",
      "Accuracy: 0.9293\n"
     ]
    },
    {
     "name": "stderr",
     "output_type": "stream",
     "text": [
      " 87%|████████▋ | 52/60 [19:14<02:49, 21.21s/it]"
     ]
    },
    {
     "name": "stdout",
     "output_type": "stream",
     "text": [
      "Epoch 52 \n",
      "Loss: 0.18384669132673057 \n",
      "F1 Score: 0.9297619047619048 \n",
      "Accuracy: 0.9292\n"
     ]
    },
    {
     "name": "stderr",
     "output_type": "stream",
     "text": [
      " 88%|████████▊ | 53/60 [19:39<02:35, 22.26s/it]"
     ]
    },
    {
     "name": "stdout",
     "output_type": "stream",
     "text": [
      "Epoch 53 \n",
      "Loss: 0.18560121189446965 \n",
      "F1 Score: 0.9293472845042352 \n",
      "Accuracy: 0.9291\n"
     ]
    },
    {
     "name": "stderr",
     "output_type": "stream",
     "text": [
      " 90%|█████████ | 54/60 [19:59<02:10, 21.67s/it]"
     ]
    },
    {
     "name": "stdout",
     "output_type": "stream",
     "text": [
      "Epoch 54 \n",
      "Loss: 0.1780920935094736 \n",
      "F1 Score: 0.9320944249121045 \n",
      "Accuracy: 0.9324\n"
     ]
    },
    {
     "name": "stderr",
     "output_type": "stream",
     "text": [
      " 92%|█████████▏| 55/60 [20:20<01:46, 21.33s/it]"
     ]
    },
    {
     "name": "stdout",
     "output_type": "stream",
     "text": [
      "Epoch 55 \n",
      "Loss: 0.1864006608060211 \n",
      "F1 Score: 0.9291684997800264 \n",
      "Accuracy: 0.92755\n"
     ]
    },
    {
     "name": "stderr",
     "output_type": "stream",
     "text": [
      " 93%|█████████▎| 56/60 [20:40<01:23, 21.00s/it]"
     ]
    },
    {
     "name": "stdout",
     "output_type": "stream",
     "text": [
      "Epoch 56 \n",
      "Loss: 0.18820016169149406 \n",
      "F1 Score: 0.9288968112497524 \n",
      "Accuracy: 0.9282\n"
     ]
    },
    {
     "name": "stderr",
     "output_type": "stream",
     "text": [
      " 95%|█████████▌| 57/60 [21:01<01:02, 20.90s/it]"
     ]
    },
    {
     "name": "stdout",
     "output_type": "stream",
     "text": [
      "Epoch 57 \n",
      "Loss: 0.18500607916314132 \n",
      "F1 Score: 0.9287712925236856 \n",
      "Accuracy: 0.92745\n"
     ]
    },
    {
     "name": "stderr",
     "output_type": "stream",
     "text": [
      " 97%|█████████▋| 58/60 [21:21<00:41, 20.73s/it]"
     ]
    },
    {
     "name": "stdout",
     "output_type": "stream",
     "text": [
      "Epoch 58 \n",
      "Loss: 0.19641408848629635 \n",
      "F1 Score: 0.9275900845841686 \n",
      "Accuracy: 0.92595\n"
     ]
    },
    {
     "name": "stderr",
     "output_type": "stream",
     "text": [
      " 98%|█████████▊| 59/60 [21:42<00:20, 20.79s/it]"
     ]
    },
    {
     "name": "stdout",
     "output_type": "stream",
     "text": [
      "Epoch 59 \n",
      "Loss: 0.18680232065688274 \n",
      "F1 Score: 0.9268516629259335 \n",
      "Accuracy: 0.9283\n"
     ]
    },
    {
     "name": "stderr",
     "output_type": "stream",
     "text": [
      "100%|██████████| 60/60 [22:02<00:00, 22.04s/it]"
     ]
    },
    {
     "name": "stdout",
     "output_type": "stream",
     "text": [
      "Epoch 60 \n",
      "Loss: 0.1815398074923807 \n",
      "F1 Score: 0.928557094120008 \n",
      "Accuracy: 0.9288\n"
     ]
    },
    {
     "name": "stderr",
     "output_type": "stream",
     "text": [
      "\n"
     ]
    }
   ],
   "source": [
    "loss_ls, f1_ls, accuracy_score_ls = train_cnn(model, train_loader, test_loader, epochs)"
   ]
  },
  {
   "cell_type": "code",
   "execution_count": 25,
   "id": "ae7853d2",
   "metadata": {},
   "outputs": [
    {
     "data": {
      "image/png": "[encoded data removed]",
      "text/plain": [
       "<Figure size 640x480 with 1 Axes>"
      ]
     },
     "metadata": {},
     "output_type": "display_data"
    }
   ],
   "source": [
    "sns.lineplot(loss_ls)\n",
    "plt.xlabel(\"Epoch\")\n",
    "plt.ylabel(\"Test Loss\")\n",
    "plt.title(\"Test Loss over epochs\")\n",
    "plt.show();"
   ]
  },
  {
   "cell_type": "code",
   "execution_count": 26,
   "id": "af76f2fd",
   "metadata": {},
   "outputs": [
    {
     "data": {
      "image/png": "[encoded data removed]",
      "text/plain": [
       "<Figure size 640x480 with 1 Axes>"
      ]
     },
     "metadata": {},
     "output_type": "display_data"
    }
   ],
   "source": [
    "#test accuracy\n",
    "sns.lineplot(f1_ls)\n",
    "plt.xlabel(\"Epoch\")\n",
    "plt.ylabel(\"F1 Score\")\n",
    "plt.title(\"F1 Score of fake image detection over epochs\")\n",
    "plt.show();"
   ]
  },
  {
   "cell_type": "code",
   "execution_count": 27,
   "id": "6fffa227",
   "metadata": {},
   "outputs": [
    {
     "data": {
      "image/png": "[encoded data removed]",
      "text/plain": [
       "<Figure size 640x480 with 1 Axes>"
      ]
     },
     "metadata": {},
     "output_type": "display_data"
    }
   ],
   "source": [
    "sns.lineplot(accuracy_score_ls)\n",
    "plt.xlabel(\"Epochs\")\n",
    "plt.ylabel(\"Accuracy\")\n",
    "plt.title(\"Accuracy over epochs\")\n",
    "plt.show();"
   ]
  },
  {
   "cell_type": "code",
   "execution_count": 28,
   "id": "1415403e",
   "metadata": {},
   "outputs": [],
   "source": [
    "# #save the model\n",
    "torch.save(model.state_dict(), \"model.pth\")"
   ]
  },
  {
   "cell_type": "code",
   "execution_count": 29,
   "id": "94f34a30",
   "metadata": {},
   "outputs": [],
   "source": [
    "def display_cam(index, target_layer):\n",
    "\timage_tensor = test_data[index]\n",
    "\treal_class=image_tensor[1]\n",
    "\timage=image_tensor[0].permute(1, 2, 0)\n",
    "\timage_tensor = image_tensor[0].unsqueeze(0)\n",
    "\n",
    "\t#load the model\n",
    "\tmodel = CNN()\n",
    "\tmodel.load_state_dict(torch.load(\"model.pth\"))\n",
    "\t#load the model to the same device as before\n",
    "\tmodel = model.to(device)\n",
    "\tmodel.eval()\n",
    "\n",
    "\t#get the cam extractor\n",
    "\tcam_extractor = SmoothGradCAMpp(model, target_layer=target_layer)\n",
    "\n",
    "\toutput = model(image_tensor.to(device))\n",
    "\n",
    "\twith SmoothGradCAMpp(model, target_layer=target_layer) as cam_extractor:\n",
    "\t\toutput = model(image_tensor.to(device)) #move the image tensor to the same device as the model\n",
    "\t\tactivation_map = cam_extractor(output.squeeze(0).argmax().item(), output)\n",
    "\n",
    "\n",
    "\t#print actual vs prediction\n",
    "\tpredicted_class = output.argmax(dim=1).item()# # Set your CAM extractor\n",
    "\tprint(f\"Index: {index}\\nActual class: {\"Fake (0)\" if real_class==0 else \"Real (1)\"}, Predicted class: {\"Fake (0)\" if predicted_class==0 else \"Real (1)\"}\")\n",
    "\n",
    "\t#overlay the CAM on the image\n",
    "\tresult = overlay_mask(to_pil_image(image_tensor[0]), to_pil_image(activation_map[0].squeeze(0), mode='F'), alpha=0.5)\n",
    "\n",
    "\t#plot\n",
    "\t#print n images in train_data starting from starting_index\n",
    "\tplt.subplot(1, 2, 1) #subplot with 1 row and 5 columns\n",
    "\tplt.title(\"Original Image\")\n",
    "\tplt.imshow(image)\n",
    "\tplt.axis('off')\n",
    "\tplt.subplot(1, 2, 2)\n",
    "\tplt.title(\"CAM Overlay\")\n",
    "\tplt.imshow(result)\n",
    "\tplt.axis('off')\n"
   ]
  },
  {
   "cell_type": "code",
   "execution_count": 30,
   "id": "358ddc4e",
   "metadata": {},
   "outputs": [],
   "source": [
    "# Get a random image by index, as an image tensor\n",
    "index=random.randint(10000, 20000) #randomly select an index from the test data\n",
    "# ls=[400, 422, 437, 461, 464, 541, 542, 543, 550, 555, 569, 580, 597, 616, 646, 667, 714, 723, 758, 770, 790, 792, 799]\n",
    "#real img pred fake"
   ]
  },
  {
   "cell_type": "code",
   "execution_count": 31,
   "id": "274502e5",
   "metadata": {},
   "outputs": [
    {
     "name": "stdout",
     "output_type": "stream",
     "text": [
      "Index: 19348\n",
      "Actual class: Real (1), Predicted class: Real (1)\n"
     ]
    },
    {
     "data": {
      "image/png": "[encoded data removed]",
      "text/plain": [
       "<Figure size 640x480 with 2 Axes>"
      ]
     },
     "metadata": {},
     "output_type": "display_data"
    }
   ],
   "source": [
    "display_cam(index, target_layer=\"conv1\") "
   ]
  },
  {
   "cell_type": "code",
   "execution_count": 32,
   "id": "ee23b8cf",
   "metadata": {},
   "outputs": [
    {
     "name": "stdout",
     "output_type": "stream",
     "text": [
      "Index: 19348\n",
      "Actual class: Real (1), Predicted class: Real (1)\n"
     ]
    },
    {
     "data": {
      "image/png": "[encoded data removed]",
      "text/plain": [
       "<Figure size 640x480 with 2 Axes>"
      ]
     },
     "metadata": {},
     "output_type": "display_data"
    }
   ],
   "source": [
    "display_cam(index, target_layer=\"conv2\")"
   ]
  },
  {
   "cell_type": "code",
   "execution_count": 33,
   "id": "ff1e5667",
   "metadata": {},
   "outputs": [
    {
     "name": "stdout",
     "output_type": "stream",
     "text": [
      "[[9322  678]\n",
      " [ 746 9254]]\n"
     ]
    },
    {
     "data": {
      "image/png": "[encoded data removed]",
      "text/plain": [
       "<Figure size 800x600 with 2 Axes>"
      ]
     },
     "metadata": {},
     "output_type": "display_data"
    },
    {
     "name": "stdout",
     "output_type": "stream",
     "text": [
      "              precision    recall  f1-score   support\n",
      "\n",
      "    Fake (0)       0.93      0.93      0.93     10000\n",
      "    Real (1)       0.93      0.93      0.93     10000\n",
      "\n",
      "    accuracy                           0.93     20000\n",
      "   macro avg       0.93      0.93      0.93     20000\n",
      "weighted avg       0.93      0.93      0.93     20000\n",
      "\n"
     ]
    }
   ],
   "source": [
    "model.eval()\n",
    "\n",
    "# Get the predictions for the test set\n",
    "y_true = []\n",
    "y_pred = []\n",
    "for features, target in test_loader:\n",
    "\tfeatures, target = features.to(device), target.to(device)\n",
    "\toutput = model(features)\n",
    "\tlabel_out = torch.argmax(output, dim=1) #argmax returns the index of the maximum value in the tensor\n",
    "\ty_true.extend(target.cpu().numpy())\n",
    "\ty_pred.extend(label_out.cpu().numpy())\n",
    "\n",
    "\n",
    "# Get the confusion matrix\n",
    "cm = confusion_matrix(y_true, y_pred, labels=[0, 1])\n",
    "print(cm)\n",
    "\n",
    "# Plot the confusion matrix\n",
    "plt.figure(figsize=(8, 6))\n",
    "sns.heatmap(cm, annot=True, fmt='d', cmap='Blues', xticklabels=[\"Fake (0)\", \"Real (1)\"], yticklabels=[\"Fake (0)\", \"Real (1)\"])\n",
    "plt.xlabel('Predicted')\n",
    "plt.ylabel('True')\n",
    "plt.title('Confusion Matrix')\n",
    "plt.show()\n",
    "\n",
    "# Get the classification report\n",
    "report = classification_report(y_true, y_pred, target_names=[\"Fake (0)\", \"Real (1)\"])\n",
    "print(report)"
   ]
  },
  {
   "cell_type": "code",
   "execution_count": 34,
   "id": "7df049c1",
   "metadata": {},
   "outputs": [
    {
     "name": "stdout",
     "output_type": "stream",
     "text": [
      "[10012, 10026, 10047, 10068, 10089, 10109, 10110, 10127, 10129, 10130, 10139, 10190, 10198, 10199, 10228, 10229, 10236, 10240, 10241, 10269, 10276, 10288, 10309, 10310, 10318, 10335, 10349, 10425, 10461, 10479, 10486, 10503, 10509, 10528, 10531, 10532, 10539, 10563, 10587, 10588, 10597, 10609, 10611, 10626, 10632, 10639, 10648, 10651, 10671, 10689, 10690, 10708, 10709, 10714, 10755, 10779, 10800, 10817, 10819, 10828, 10845, 10879, 10906, 10939, 10967, 10999, 11007, 11017, 11025, 11029, 11042, 11044, 11074, 11083, 11087, 11089, 11101, 11119, 11126, 11136, 11143, 11152, 11161, 11164, 11167, 11212, 11225, 11250, 11251, 11288, 11311, 11350, 11359, 11368, 11373, 11378, 11389, 11392, 11402, 11408, 11444, 11458, 11470, 11473, 11481, 11492, 11500, 11509, 11529, 11534, 11538, 11559, 11563, 11565, 11578, 11601, 11605, 11608, 11618, 11623, 11641, 11643, 11651, 11668, 11688, 11749, 11752, 11761, 11768, 11780, 11798, 11809, 11825, 11841, 11857, 11859, 11868, 11870, 11871, 11908, 11922, 11939, 11967, 11971, 12012, 12028, 12031, 12034, 12062, 12070, 12115, 12124, 12135, 12160, 12181, 12189, 12198, 12217, 12229, 12231, 12234, 12248, 12257, 12260, 12267, 12270, 12271, 12276, 12298, 12304, 12315, 12328, 12359, 12398, 12425, 12431, 12483, 12489, 12499, 12523, 12529, 12532, 12547, 12548, 12576, 12580, 12582, 12588, 12591, 12601, 12619, 12641, 12668, 12673, 12693, 12744, 12745, 12759, 12769, 12778, 12787, 12810, 12813, 12818, 12861, 12871, 12876, 12881, 12885, 12909, 12953, 12961, 12977, 13001, 13011, 13019, 13033, 13039, 13041, 13052, 13059, 13071, 13078, 13105, 13122, 13127, 13128, 13148, 13159, 13161, 13169, 13205, 13208, 13226, 13232, 13247, 13261, 13287, 13303, 13320, 13344, 13351, 13375, 13385, 13401, 13428, 13437, 13438, 13443, 13459, 13478, 13491, 13509, 13524, 13545, 13558, 13565, 13572, 13575, 13585, 13589, 13590, 13599, 13613, 13630, 13644, 13658, 13665, 13700, 13704, 13707, 13740, 13745, 13750, 13771, 13779, 13787, 13789, 13818, 13821, 13823, 13829, 13838, 13847, 13848, 13878, 13879, 13891, 13907, 13909, 13912, 13932, 13939, 13946, 13949, 13960, 13969, 13979, 13992, 13999, 14015, 14028, 14047, 14060, 14091, 14092, 14093, 14128, 14130, 14133, 14141, 14158, 14193, 14196, 14218, 14219, 14221, 14229, 14248, 14251, 14298, 14338, 14341, 14343, 14356, 14357, 14358, 14362, 14382, 14388, 14392, 14400, 14413, 14418, 14430, 14458, 14459, 14460, 14462, 14467, 14470, 14498, 14508, 14532, 14556, 14559, 14578, 14588, 14589, 14599, 14608, 14622, 14639, 14640, 14651, 14663, 14672, 14673, 14677, 14725, 14728, 14732, 14769, 14782, 14819, 14828, 14838, 14851, 14852, 14859, 14871, 14879, 14884, 14899, 14908, 14915, 14927, 14938, 14952, 14957, 14960, 14975, 15010, 15013, 15032, 15041, 15042, 15048, 15063, 15065, 15071, 15073, 15083, 15108, 15109, 15111, 15113, 15121, 15165, 15203, 15230, 15249, 15258, 15259, 15282, 15311, 15333, 15336, 15359, 15401, 15408, 15411, 15416, 15431, 15438, 15441, 15442, 15454, 15491, 15500, 15522, 15538, 15539, 15549, 15551, 15561, 15591, 15597, 15598, 15599, 15610, 15628, 15631, 15664, 15678, 15684, 15688, 15706, 15708, 15709, 15711, 15714, 15717, 15721, 15730, 15736, 15742, 15779, 15788, 15799, 15823, 15839, 15859, 15909, 15917, 15920, 15931, 15938, 15948, 15958, 15964, 15988, 15992, 16009, 16012, 16017, 16033, 16034, 16039, 16054, 16061, 16075, 16087, 16098, 16108, 16121, 16139, 16151, 16198, 16201, 16240, 16253, 16258, 16272, 16282, 16288, 16289, 16290, 16306, 16322, 16348, 16357, 16358, 16369, 16398, 16423, 16441, 16456, 16457, 16459, 16500, 16518, 16521, 16523, 16525, 16548, 16549, 16598, 16603, 16608, 16618, 16621, 16628, 16629, 16658, 16676, 16691, 16695, 16738, 16739, 16799, 16810, 16839, 16850, 16860, 16898, 16899, 16906, 16911, 16941, 16942, 16947, 16957, 16960, 16968, 16970, 16973, 16990, 17010, 17012, 17019, 17038, 17041, 17042, 17069, 17079, 17102, 17138, 17179, 17192, 17202, 17232, 17258, 17267, 17271, 17279, 17291, 17325, 17354, 17360, 17382, 17392, 17398, 17402, 17408, 17418, 17424, 17457, 17459, 17477, 17484, 17497, 17532, 17533, 17540, 17552, 17567, 17579, 17588, 17598, 17599, 17601, 17612, 17620, 17632, 17638, 17648, 17650, 17651, 17658, 17668, 17680, 17708, 17729, 17733, 17739, 17746, 17749, 17758, 17767, 17778, 17820, 17831, 17839, 17869, 17919, 17926, 17942, 17953, 17978, 17979, 17989, 17997, 18006, 18011, 18019, 18039, 18081, 18092, 18108, 18121, 18125, 18129, 18171, 18174, 18180, 18194, 18201, 18205, 18219, 18230, 18239, 18259, 18262, 18270, 18277, 18280, 18310, 18319, 18324, 18339, 18340, 18358, 18372, 18381, 18387, 18395, 18399, 18413, 18419, 18436, 18440, 18451, 18459, 18479, 18498, 18502, 18540, 18550, 18562, 18567, 18569, 18589, 18598, 18601, 18608, 18621, 18647, 18655, 18673, 18674, 18742, 18764, 18766, 18788, 18798, 18817, 18819, 18831, 18841, 18848, 18878, 18881, 18888, 18890, 18930, 18947, 18967, 19060, 19091, 19105, 19112, 19119, 19122, 19130, 19198, 19235, 19290, 19320, 19342, 19349, 19372, 19381, 19387, 19407, 19419, 19460, 19462, 19464, 19470, 19528, 19542, 19551, 19554, 19563, 19581, 19590, 19609, 19622, 19625, 19629, 19657, 19672, 19701, 19731, 19740, 19772, 19791, 19799, 19801, 19808, 19829, 19839, 19847, 19862, 19866, 19888, 19901, 19909, 19913, 19961, 19967, 19975, 19979, 19987, 19999]\n"
     ]
    }
   ],
   "source": [
    "#get index of everything that's real but predicted fake\n",
    "\n",
    "ls=[]\n",
    "\n",
    "for i in range(len(y_pred)):\n",
    "\tif y_pred[i]==0 and y_true[i]==1:\n",
    "\t\tls.append(i)\n",
    "\n",
    "print(ls)"
   ]
  },
  {
   "cell_type": "code",
   "execution_count": 35,
   "id": "c0363529",
   "metadata": {},
   "outputs": [
    {
     "ename": "RuntimeError",
     "evalue": "Parent directory saved_models/CNN_from_scratch does not exist.",
     "output_type": "error",
     "traceback": [
      "\u001b[31m---------------------------------------------------------------------------\u001b[39m",
      "\u001b[31mRuntimeError\u001b[39m                              Traceback (most recent call last)",
      "\u001b[36mCell\u001b[39m\u001b[36m \u001b[39m\u001b[32mIn[35]\u001b[39m\u001b[32m, line 2\u001b[39m\n\u001b[32m      1\u001b[39m \u001b[38;5;66;03m#save model\u001b[39;00m\n\u001b[32m----> \u001b[39m\u001b[32m2\u001b[39m \u001b[43mtorch\u001b[49m\u001b[43m.\u001b[49m\u001b[43msave\u001b[49m\u001b[43m(\u001b[49m\u001b[43mmodel\u001b[49m\u001b[43m.\u001b[49m\u001b[43mstate_dict\u001b[49m\u001b[43m(\u001b[49m\u001b[43m)\u001b[49m\u001b[43m,\u001b[49m\u001b[43m \u001b[49m\u001b[33;43m\"\u001b[39;49m\u001b[33;43msaved_models/CNN_from_scratch/model_full_train_test.pth\u001b[39;49m\u001b[33;43m\"\u001b[39;49m\u001b[43m)\u001b[49m\n",
      "\u001b[36mFile \u001b[39m\u001b[32m/Library/Frameworks/Python.framework/Versions/3.12/lib/python3.12/site-packages/torch/serialization.py:943\u001b[39m, in \u001b[36msave\u001b[39m\u001b[34m(obj, f, pickle_module, pickle_protocol, _use_new_zipfile_serialization, _disable_byteorder_record)\u001b[39m\n\u001b[32m    940\u001b[39m _check_save_filelike(f)\n\u001b[32m    942\u001b[39m \u001b[38;5;28;01mif\u001b[39;00m _use_new_zipfile_serialization:\n\u001b[32m--> \u001b[39m\u001b[32m943\u001b[39m     \u001b[38;5;28;01mwith\u001b[39;00m \u001b[43m_open_zipfile_writer\u001b[49m\u001b[43m(\u001b[49m\u001b[43mf\u001b[49m\u001b[43m)\u001b[49m \u001b[38;5;28;01mas\u001b[39;00m opened_zipfile:\n\u001b[32m    944\u001b[39m         _save(\n\u001b[32m    945\u001b[39m             obj,\n\u001b[32m    946\u001b[39m             opened_zipfile,\n\u001b[32m   (...)\u001b[39m\u001b[32m    949\u001b[39m             _disable_byteorder_record,\n\u001b[32m    950\u001b[39m         )\n\u001b[32m    951\u001b[39m         \u001b[38;5;28;01mreturn\u001b[39;00m\n",
      "\u001b[36mFile \u001b[39m\u001b[32m/Library/Frameworks/Python.framework/Versions/3.12/lib/python3.12/site-packages/torch/serialization.py:810\u001b[39m, in \u001b[36m_open_zipfile_writer\u001b[39m\u001b[34m(name_or_buffer)\u001b[39m\n\u001b[32m    808\u001b[39m \u001b[38;5;28;01melse\u001b[39;00m:\n\u001b[32m    809\u001b[39m     container = _open_zipfile_writer_buffer\n\u001b[32m--> \u001b[39m\u001b[32m810\u001b[39m \u001b[38;5;28;01mreturn\u001b[39;00m \u001b[43mcontainer\u001b[49m\u001b[43m(\u001b[49m\u001b[43mname_or_buffer\u001b[49m\u001b[43m)\u001b[49m\n",
      "\u001b[36mFile \u001b[39m\u001b[32m/Library/Frameworks/Python.framework/Versions/3.12/lib/python3.12/site-packages/torch/serialization.py:781\u001b[39m, in \u001b[36m_open_zipfile_writer_file.__init__\u001b[39m\u001b[34m(self, name)\u001b[39m\n\u001b[32m    777\u001b[39m     \u001b[38;5;28msuper\u001b[39m().\u001b[34m__init__\u001b[39m(\n\u001b[32m    778\u001b[39m         torch._C.PyTorchFileWriter(\u001b[38;5;28mself\u001b[39m.file_stream, _compute_crc32)\n\u001b[32m    779\u001b[39m     )\n\u001b[32m    780\u001b[39m \u001b[38;5;28;01melse\u001b[39;00m:\n\u001b[32m--> \u001b[39m\u001b[32m781\u001b[39m     \u001b[38;5;28msuper\u001b[39m().\u001b[34m__init__\u001b[39m(\u001b[43mtorch\u001b[49m\u001b[43m.\u001b[49m\u001b[43m_C\u001b[49m\u001b[43m.\u001b[49m\u001b[43mPyTorchFileWriter\u001b[49m\u001b[43m(\u001b[49m\u001b[38;5;28;43mself\u001b[39;49m\u001b[43m.\u001b[49m\u001b[43mname\u001b[49m\u001b[43m,\u001b[49m\u001b[43m \u001b[49m\u001b[43m_compute_crc32\u001b[49m\u001b[43m)\u001b[49m)\n",
      "\u001b[31mRuntimeError\u001b[39m: Parent directory saved_models/CNN_from_scratch does not exist."
     ]
    }
   ],
   "source": [
    "#save model\n",
    "torch.save(model.state_dict(), \"saved_models/CNN_from_scratch/model_full_train_test.pth\")"
   ]
  }
 ],
 "metadata": {
  "kernelspec": {
   "display_name": "Python 3",
   "language": "python",
   "name": "python3"
  },
  "language_info": {
   "codemirror_mode": {
    "name": "ipython",
    "version": 3
   },
   "file_extension": ".py",
   "mimetype": "text/x-python",
   "name": "python",
   "nbconvert_exporter": "python",
   "pygments_lexer": "ipython3",
   "version": "3.12.1"
  }
 },
 "nbformat": 4,
 "nbformat_minor": 5
}
