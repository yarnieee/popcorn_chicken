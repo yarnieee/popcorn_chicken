{
 "cells": [
  {
   "cell_type": "markdown",
   "id": "a0e34d8d",
   "metadata": {},
   "source": [
    "sources:\n",
    "\n",
    "https://www.kaggle.com/datasets/birdy654/cifake-real-and-ai-generated-synthetic-images?resource=download\n",
    "\n",
    "https://medium.com/@vineethrajesh2/loading-in-your-own-image-datasets-in-pytorch-9e4064171074\n",
    "\n",
    "https://www.kaggle.com/code/agnesa/efficientnet-detect-ai-vs-human-generated-images"
   ]
  },
  {
   "cell_type": "code",
   "execution_count": 6,
   "id": "eb9439d0",
   "metadata": {},
   "outputs": [],
   "source": [
    "#assorted\n",
    "import numpy as np\n",
    "import os\n",
    "import psutil\n",
    "import matplotlib.pyplot as plt\n",
    "import seaborn as sns #literally only used for the lineplot? surely plt can do that too\n",
    "from tqdm import tqdm\n",
    "import random\n",
    "\n",
    "#torch model\n",
    "import torch\n",
    "from torchvision.datasets import ImageFolder\n",
    "from torchvision import transforms\n",
    "from torch.utils.data import DataLoader\n",
    "from torch.utils.data import Subset\n",
    "import torch.nn as nn\n",
    "import torch.nn.functional as F #difference between that and torch.relu or torch.nn.Module.maxpool2d etc?\n",
    "\n",
    "#metrics\n",
    "from sklearn.metrics import f1_score\n",
    "from sklearn.metrics import confusion_matrix\n",
    "from sklearn.metrics import classification_report\n",
    "\n",
    "#torchcam\n",
    "from torchcam.methods import SmoothGradCAMpp\n",
    "from torchcam.utils import overlay_mask\n",
    "from torchvision.transforms.functional import to_pil_image"
   ]
  },
  {
   "cell_type": "code",
   "execution_count": 7,
   "id": "72928106",
   "metadata": {},
   "outputs": [],
   "source": [
    "#transforms\n",
    "train_transforms = transforms.Compose([\n",
    "    transforms.ToTensor(), #can also do some resizing and normalizing\n",
    "    #transforms.Normalize((0.5, 0.5, 0.5), (0.5, 0.5, 0.5)), #mean and std for normalization\n",
    "\ttransforms.RandomHorizontalFlip(), #randomly flip the image horizontally\n",
    "])\n",
    "\n",
    "test_transforms = transforms.Compose([\n",
    "    transforms.ToTensor(), #can also do some resizing and normalizing\n",
    "    #transforms.Normalize((0.5, 0.5, 0.5), (0.5, 0.5, 0.5)),\n",
    "])"
   ]
  },
  {
   "cell_type": "code",
   "execution_count": 8,
   "id": "973fc812",
   "metadata": {},
   "outputs": [
    {
     "name": "stdout",
     "output_type": "stream",
     "text": [
      "cores: 16, device: cuda, batch_size: 128, epochs: 60, learning rate: 0.001\n"
     ]
    }
   ],
   "source": [
    "#get num_workers, device, batch size\n",
    "def count_workers() -> int: \n",
    "\ttry:\n",
    "\t\tvCPUs = os.cpu_count() \n",
    "\t\tif vCPUs is None: \n",
    "\t\t\tvCPUs = psutil.cpu_count(logical = False)\n",
    "\t\treturn vCPUs\n",
    "\texcept Exception as e:\n",
    "\t\treturn 1\n",
    "\t\n",
    "\n",
    "workers=count_workers()\n",
    "device = torch.device(\"cuda\" if torch.cuda.is_available() else \"cpu\")\n",
    "batch_size = 128\n",
    "epochs = 60\n",
    "lr=0.001\n",
    "\n",
    "print(f\"cores: {workers}, device: {device}, batch_size: {batch_size}, epochs: {epochs}, learning rate: {lr}\")"
   ]
  },
  {
   "cell_type": "code",
   "execution_count": 9,
   "id": "7bf240f9",
   "metadata": {},
   "outputs": [],
   "source": [
    "#load actual data\n",
    "train_data = ImageFolder(\"../data_test/train\", transform=train_transforms)\n",
    "test_data = ImageFolder(\"../data_test/test\", transform=test_transforms)\n",
    "\n",
    "#dataloaders\n",
    "train_loader = DataLoader(\n",
    "    train_data,\n",
    "    batch_size=batch_size,\n",
    "    shuffle=True,\n",
    "    #collate_fn=collate, #collate_fn is used to combine multiple samples into a batch\n",
    "    num_workers=workers, #number of workers to LOAD data in parallel (not to crunch numbers. for some reason it's different)\n",
    "    persistent_workers=True,\n",
    "    pin_memory=True, #pin_memory is used to speed up data transfer to GPU\n",
    "    pin_memory_device=str(device),\n",
    "\t)\n",
    "test_loader = DataLoader(\n",
    "    test_data,\n",
    "    batch_size=batch_size,\n",
    "    shuffle=False,\n",
    "    num_workers=workers,\n",
    "    persistent_workers=True,\n",
    "    pin_memory=True,\n",
    "    pin_memory_device=str(device),\n",
    "    )"
   ]
  },
  {
   "cell_type": "code",
   "execution_count": 10,
   "id": "42beacf8",
   "metadata": {},
   "outputs": [
    {
     "name": "stdout",
     "output_type": "stream",
     "text": [
      "100000\n",
      "20000\n",
      "<class 'torchvision.datasets.folder.ImageFolder'>\n",
      "torch.Size([3, 32, 32])\n",
      "(tensor([[[0.4471, 0.4667, 0.4588,  ..., 0.4863, 0.4157, 0.2118],\n",
      "         [0.4980, 0.4980, 0.4863,  ..., 0.4039, 0.3176, 0.1804],\n",
      "         [0.5216, 0.5020, 0.4902,  ..., 0.2824, 0.1961, 0.1569],\n",
      "         ...,\n",
      "         [0.1412, 0.1451, 0.1529,  ..., 0.3490, 0.3451, 0.3490],\n",
      "         [0.1412, 0.1490, 0.1569,  ..., 0.3647, 0.3451, 0.3412],\n",
      "         [0.1373, 0.1451, 0.1647,  ..., 0.3922, 0.3882, 0.3843]],\n",
      "\n",
      "        [[0.4392, 0.4588, 0.4588,  ..., 0.4706, 0.4000, 0.1961],\n",
      "         [0.4902, 0.4902, 0.4863,  ..., 0.3882, 0.3020, 0.1647],\n",
      "         [0.5137, 0.4941, 0.4902,  ..., 0.2667, 0.1804, 0.1451],\n",
      "         ...,\n",
      "         [0.1059, 0.1098, 0.1176,  ..., 0.3216, 0.3176, 0.3216],\n",
      "         [0.1137, 0.1216, 0.1294,  ..., 0.3294, 0.3176, 0.3137],\n",
      "         [0.1176, 0.1255, 0.1373,  ..., 0.3569, 0.3569, 0.3529]],\n",
      "\n",
      "        [[0.4431, 0.4627, 0.4510,  ..., 0.4667, 0.3961, 0.1922],\n",
      "         [0.4941, 0.4941, 0.4784,  ..., 0.3843, 0.2980, 0.1529],\n",
      "         [0.5176, 0.4980, 0.4902,  ..., 0.2549, 0.1686, 0.1255],\n",
      "         ...,\n",
      "         [0.0784, 0.0745, 0.0824,  ..., 0.2902, 0.2863, 0.2902],\n",
      "         [0.0902, 0.0902, 0.0980,  ..., 0.3098, 0.2941, 0.2902],\n",
      "         [0.0941, 0.1020, 0.1059,  ..., 0.3373, 0.3451, 0.3412]]]), 0)\n"
     ]
    }
   ],
   "source": [
    "#check how many images in the dataset\n",
    "print(len(train_data)) #100k\n",
    "print(len(test_data)) #20k\n",
    "\n",
    "#check the classes\n",
    "print(type(train_data)) #torchvision.datasets.folder.ImageFolder\n",
    "# print(train_data.classes) #0 is fake and 1 is real\n",
    "# print(test_data.classes)\n",
    "\n",
    "#check the shape of the images\n",
    "print(train_data[0][0].shape) #3 channels, 32 x 32 px\n",
    "print(train_data[0]) #0 or 1, fake or real"
   ]
  },
  {
   "cell_type": "code",
   "execution_count": 11,
   "id": "c6b796c4",
   "metadata": {},
   "outputs": [
    {
     "data": {
      "image/png": "[encoded data removed]",
      "text/plain": [
       "<Figure size 640x480 with 5 Axes>"
      ]
     },
     "metadata": {},
     "output_type": "display_data"
    }
   ],
   "source": [
    "#print n images in train_data starting from starting_index\n",
    "n_images = 5\n",
    "starting_index=3908\n",
    "for i in range(n_images):\n",
    "\tplt.subplot(1, 5, i + 1) #subplot with 1 row and 5 columns\n",
    "\tplt.imshow(train_data[starting_index + i][0].permute(1, 2, 0)) #permute to get channels last\n",
    "\tplt.title(train_data[starting_index + i][1]) #show the label of the image, 0 is the index of the image\n",
    "\tplt.axis('off') #remove axis\n",
    "plt.show()"
   ]
  },
  {
   "cell_type": "code",
   "execution_count": 12,
   "id": "8b592c7c",
   "metadata": {},
   "outputs": [],
   "source": [
    "class CNN(nn.Module):\n",
    "    def __init__(self):\n",
    "        super().__init__()\n",
    "        self.conv1 = nn.Conv2d(3, 6, 5)\n",
    "        self.pool = nn.MaxPool2d(2, 2)\n",
    "        self.conv2 = nn.Conv2d(6, 16, 5)\n",
    "        self.fc1 = nn.Linear(16 * 5 * 5, 120)\n",
    "        self.fc2 = nn.Linear(120, 84)\n",
    "        self.fc3 = nn.Linear(84, 10)\n",
    "\n",
    "    def forward(self, x):\n",
    "        x = self.pool(F.relu(self.conv1(x)))\n",
    "        x = self.pool(F.relu(self.conv2(x)))\n",
    "        x = torch.flatten(x, 1) # flatten all dimensions except batch\n",
    "        x = F.relu(self.fc1(x))\n",
    "        x = F.relu(self.fc2(x))\n",
    "        x = self.fc3(x)\n",
    "        return x"
   ]
  },
  {
   "cell_type": "code",
   "execution_count": 13,
   "id": "972a8db1",
   "metadata": {},
   "outputs": [
    {
     "data": {
      "text/plain": [
       "CNN(\n",
       "  (conv1): Conv2d(3, 6, kernel_size=(5, 5), stride=(1, 1))\n",
       "  (pool): MaxPool2d(kernel_size=2, stride=2, padding=0, dilation=1, ceil_mode=False)\n",
       "  (conv2): Conv2d(6, 16, kernel_size=(5, 5), stride=(1, 1))\n",
       "  (fc1): Linear(in_features=400, out_features=120, bias=True)\n",
       "  (fc2): Linear(in_features=120, out_features=84, bias=True)\n",
       "  (fc3): Linear(in_features=84, out_features=10, bias=True)\n",
       ")"
      ]
     },
     "execution_count": 13,
     "metadata": {},
     "output_type": "execute_result"
    }
   ],
   "source": [
    "#initialize model\n",
    "model = CNN()\n",
    "model"
   ]
  },
  {
   "cell_type": "code",
   "execution_count": 14,
   "id": "09efc466",
   "metadata": {},
   "outputs": [],
   "source": [
    "optimizer = torch.optim.AdamW(model.parameters(), lr=lr, weight_decay=0.01)\n",
    "criterion = nn.CrossEntropyLoss()"
   ]
  },
  {
   "cell_type": "code",
   "execution_count": null,
   "id": "a5977575",
   "metadata": {},
   "outputs": [],
   "source": [
    "#training loop\n",
    "def train_cnn(model: nn.Module, train_loader, test_loader, epochs: int = 1000):\n",
    "\tprint(f\"Training on {device}\")\n",
    "\t# Convert everything to tensors first\n",
    "\tloss_ls = []\n",
    "\tf1_ls = []\n",
    "\tmodel = model.to(device)\n",
    "\n",
    "\tfor epoch in tqdm(range(epochs)):\n",
    "\t\tmodel.train()\n",
    "\t\tfor features, target in train_loader:\n",
    "\t\t\tfeatures, target = features.to(device), target.to(device)\t\n",
    "\t\t\toptimizer.zero_grad()\n",
    "\t\t\toutputs = model(features)\n",
    "\t\t\tloss = criterion(outputs, target)\n",
    "\t\t\tloss.backward()\n",
    "\t\t\toptimizer.step()\n",
    "\n",
    "\t\tmodel.eval()\n",
    "\t\t#with torch.no_grad():\n",
    "\t\ttotal_loss = 0\n",
    "\t\tcombined = []\n",
    "\t\tfor features, target in test_loader:\n",
    "\t\t\tfeatures, target = features.to(device), target.to(device)\n",
    "\t\t\toutput = model(features)\n",
    "\t\t\tloss = criterion(output, target)\n",
    "\t\t\ttotal_loss += loss.item()\n",
    "\t\t\tlabel_out = torch.argmax(output, dim=1) #argmax returns the index of the maximum value in the tensor\n",
    "\t\t\tcombined.append((label_out, target))\n",
    "\t\t\t\n",
    "\t\tf1 = [f1_score(c[0].cpu().numpy(), c[1].cpu().numpy()) for c in combined]\n",
    "\t\tloss_ls.append(total_loss / len(test_loader))\n",
    "\t\tf1_ls.append(np.mean(f1))\n",
    "\t\tprint(f\"Epoch {epoch + 1} - Loss: {total_loss / len(test_loader)} - F1 Score: {np.mean(f1)}\") #is something wrong with my f1 score here? take fake/fake as true positive or real/real as true positive?\n",
    "\treturn loss_ls, f1_ls"
   ]
  },
  {
   "cell_type": "code",
   "execution_count": 16,
   "id": "ff4fdf05",
   "metadata": {},
   "outputs": [
    {
     "name": "stdout",
     "output_type": "stream",
     "text": [
      "Training on cuda\n"
     ]
    },
    {
     "name": "stderr",
     "output_type": "stream",
     "text": [
      "  2%|▏         | 1/60 [04:53<4:48:11, 293.07s/it]"
     ]
    },
    {
     "name": "stdout",
     "output_type": "stream",
     "text": [
      "Epoch 1 - Loss: 0.44062600963434595 - F1 Score: 0.44958286878614606\n"
     ]
    },
    {
     "name": "stderr",
     "output_type": "stream",
     "text": [
      "  3%|▎         | 2/60 [05:14<2:08:45, 133.20s/it]"
     ]
    },
    {
     "name": "stdout",
     "output_type": "stream",
     "text": [
      "Epoch 2 - Loss: 0.3507320498395118 - F1 Score: 0.4767975838057549\n"
     ]
    },
    {
     "name": "stderr",
     "output_type": "stream",
     "text": [
      "  5%|▌         | 3/60 [05:26<1:14:13, 78.13s/it] "
     ]
    },
    {
     "name": "stdout",
     "output_type": "stream",
     "text": [
      "Epoch 3 - Loss: 0.31925131266663787 - F1 Score: 0.47737766569703455\n"
     ]
    },
    {
     "name": "stderr",
     "output_type": "stream",
     "text": [
      "  7%|▋         | 4/60 [05:39<48:45, 52.23s/it]  "
     ]
    },
    {
     "name": "stdout",
     "output_type": "stream",
     "text": [
      "Epoch 4 - Loss: 0.2735092079943153 - F1 Score: 0.4838338872448528\n"
     ]
    },
    {
     "name": "stderr",
     "output_type": "stream",
     "text": [
      "  8%|▊         | 5/60 [05:52<34:56, 38.12s/it]"
     ]
    },
    {
     "name": "stdout",
     "output_type": "stream",
     "text": [
      "Epoch 5 - Loss: 0.2732368259672906 - F1 Score: 0.4571348323818787\n"
     ]
    },
    {
     "name": "stderr",
     "output_type": "stream",
     "text": [
      " 10%|█         | 6/60 [06:05<26:42, 29.67s/it]"
     ]
    },
    {
     "name": "stdout",
     "output_type": "stream",
     "text": [
      "Epoch 6 - Loss: 0.24564430165063045 - F1 Score: 0.47103117893670304\n"
     ]
    },
    {
     "name": "stderr",
     "output_type": "stream",
     "text": [
      " 12%|█▏        | 7/60 [06:19<21:43, 24.59s/it]"
     ]
    },
    {
     "name": "stdout",
     "output_type": "stream",
     "text": [
      "Epoch 7 - Loss: 0.23784284165520578 - F1 Score: 0.4699517384657296\n"
     ]
    },
    {
     "name": "stderr",
     "output_type": "stream",
     "text": [
      " 13%|█▎        | 8/60 [06:32<17:59, 20.76s/it]"
     ]
    },
    {
     "name": "stdout",
     "output_type": "stream",
     "text": [
      "Epoch 8 - Loss: 0.2179706237593274 - F1 Score: 0.4767290698700082\n"
     ]
    },
    {
     "name": "stderr",
     "output_type": "stream",
     "text": [
      " 15%|█▌        | 9/60 [06:45<15:27, 18.18s/it]"
     ]
    },
    {
     "name": "stdout",
     "output_type": "stream",
     "text": [
      "Epoch 9 - Loss: 0.23052281796172924 - F1 Score: 0.46634108958053067\n"
     ]
    },
    {
     "name": "stderr",
     "output_type": "stream",
     "text": [
      " 17%|█▋        | 10/60 [06:57<13:38, 16.37s/it]"
     ]
    },
    {
     "name": "stdout",
     "output_type": "stream",
     "text": [
      "Epoch 10 - Loss: 0.2122639772144093 - F1 Score: 0.48850287564427963\n"
     ]
    },
    {
     "name": "stderr",
     "output_type": "stream",
     "text": [
      " 18%|█▊        | 11/60 [07:09<12:25, 15.21s/it]"
     ]
    },
    {
     "name": "stdout",
     "output_type": "stream",
     "text": [
      "Epoch 11 - Loss: 0.21223598673560057 - F1 Score: 0.48995518023258855\n"
     ]
    },
    {
     "name": "stderr",
     "output_type": "stream",
     "text": [
      " 20%|██        | 12/60 [07:22<11:32, 14.43s/it]"
     ]
    },
    {
     "name": "stdout",
     "output_type": "stream",
     "text": [
      "Epoch 12 - Loss: 0.21007100753723437 - F1 Score: 0.4797674810149443\n"
     ]
    },
    {
     "name": "stderr",
     "output_type": "stream",
     "text": [
      " 22%|██▏       | 13/60 [07:35<10:52, 13.87s/it]"
     ]
    },
    {
     "name": "stdout",
     "output_type": "stream",
     "text": [
      "Epoch 13 - Loss: 0.19999319813243902 - F1 Score: 0.4762974417238426\n"
     ]
    },
    {
     "name": "stderr",
     "output_type": "stream",
     "text": [
      " 23%|██▎       | 14/60 [07:48<10:24, 13.57s/it]"
     ]
    },
    {
     "name": "stdout",
     "output_type": "stream",
     "text": [
      "Epoch 14 - Loss: 0.19188013943327462 - F1 Score: 0.48564562090665336\n"
     ]
    },
    {
     "name": "stderr",
     "output_type": "stream",
     "text": [
      " 25%|██▌       | 15/60 [08:00<09:54, 13.21s/it]"
     ]
    },
    {
     "name": "stdout",
     "output_type": "stream",
     "text": [
      "Epoch 15 - Loss: 0.23072084051313674 - F1 Score: 0.4933865533769394\n"
     ]
    },
    {
     "name": "stderr",
     "output_type": "stream",
     "text": [
      " 27%|██▋       | 16/60 [08:13<09:35, 13.08s/it]"
     ]
    },
    {
     "name": "stdout",
     "output_type": "stream",
     "text": [
      "Epoch 16 - Loss: 0.20344823133793605 - F1 Score: 0.4779013042331419\n"
     ]
    },
    {
     "name": "stderr",
     "output_type": "stream",
     "text": [
      " 28%|██▊       | 17/60 [08:25<09:11, 12.83s/it]"
     ]
    },
    {
     "name": "stdout",
     "output_type": "stream",
     "text": [
      "Epoch 17 - Loss: 0.20717047313880768 - F1 Score: 0.49165144215953677\n"
     ]
    },
    {
     "name": "stderr",
     "output_type": "stream",
     "text": [
      " 30%|███       | 18/60 [08:37<08:51, 12.65s/it]"
     ]
    },
    {
     "name": "stdout",
     "output_type": "stream",
     "text": [
      "Epoch 18 - Loss: 0.19643366887311267 - F1 Score: 0.49073943117305563\n"
     ]
    },
    {
     "name": "stderr",
     "output_type": "stream",
     "text": [
      " 32%|███▏      | 19/60 [08:50<08:35, 12.57s/it]"
     ]
    },
    {
     "name": "stdout",
     "output_type": "stream",
     "text": [
      "Epoch 19 - Loss: 0.1900648881865155 - F1 Score: 0.47943314958297734\n"
     ]
    },
    {
     "name": "stderr",
     "output_type": "stream",
     "text": [
      " 33%|███▎      | 20/60 [09:02<08:16, 12.40s/it]"
     ]
    },
    {
     "name": "stdout",
     "output_type": "stream",
     "text": [
      "Epoch 20 - Loss: 0.17845830530118031 - F1 Score: 0.48240247220614807\n"
     ]
    },
    {
     "name": "stderr",
     "output_type": "stream",
     "text": [
      " 35%|███▌      | 21/60 [09:14<08:06, 12.46s/it]"
     ]
    },
    {
     "name": "stdout",
     "output_type": "stream",
     "text": [
      "Epoch 21 - Loss: 0.19365191210512142 - F1 Score: 0.4750712688871432\n"
     ]
    },
    {
     "name": "stderr",
     "output_type": "stream",
     "text": [
      " 37%|███▋      | 22/60 [09:26<07:50, 12.37s/it]"
     ]
    },
    {
     "name": "stdout",
     "output_type": "stream",
     "text": [
      "Epoch 22 - Loss: 0.2220617740231145 - F1 Score: 0.49214749047833495\n"
     ]
    },
    {
     "name": "stderr",
     "output_type": "stream",
     "text": [
      " 38%|███▊      | 23/60 [09:39<07:36, 12.34s/it]"
     ]
    },
    {
     "name": "stdout",
     "output_type": "stream",
     "text": [
      "Epoch 23 - Loss: 0.19395150405586145 - F1 Score: 0.4766857200930282\n"
     ]
    },
    {
     "name": "stderr",
     "output_type": "stream",
     "text": [
      "c:\\Users\\yiann\\miniconda3\\envs\\ML\\Lib\\site-packages\\sklearn\\metrics\\_classification.py:1565: UndefinedMetricWarning: F-score is ill-defined and being set to 0.0 due to no true nor predicted samples. Use `zero_division` parameter to control this behavior.\n",
      "  _warn_prf(average, modifier, f\"{metric.capitalize()} is\", len(result))\n",
      "c:\\Users\\yiann\\miniconda3\\envs\\ML\\Lib\\site-packages\\sklearn\\metrics\\_classification.py:1565: UndefinedMetricWarning: F-score is ill-defined and being set to 0.0 due to no true nor predicted samples. Use `zero_division` parameter to control this behavior.\n",
      "  _warn_prf(average, modifier, f\"{metric.capitalize()} is\", len(result))\n",
      "c:\\Users\\yiann\\miniconda3\\envs\\ML\\Lib\\site-packages\\sklearn\\metrics\\_classification.py:1565: UndefinedMetricWarning: F-score is ill-defined and being set to 0.0 due to no true nor predicted samples. Use `zero_division` parameter to control this behavior.\n",
      "  _warn_prf(average, modifier, f\"{metric.capitalize()} is\", len(result))\n",
      "c:\\Users\\yiann\\miniconda3\\envs\\ML\\Lib\\site-packages\\sklearn\\metrics\\_classification.py:1565: UndefinedMetricWarning: F-score is ill-defined and being set to 0.0 due to no true nor predicted samples. Use `zero_division` parameter to control this behavior.\n",
      "  _warn_prf(average, modifier, f\"{metric.capitalize()} is\", len(result))\n",
      "c:\\Users\\yiann\\miniconda3\\envs\\ML\\Lib\\site-packages\\sklearn\\metrics\\_classification.py:1565: UndefinedMetricWarning: F-score is ill-defined and being set to 0.0 due to no true nor predicted samples. Use `zero_division` parameter to control this behavior.\n",
      "  _warn_prf(average, modifier, f\"{metric.capitalize()} is\", len(result))\n",
      "c:\\Users\\yiann\\miniconda3\\envs\\ML\\Lib\\site-packages\\sklearn\\metrics\\_classification.py:1565: UndefinedMetricWarning: F-score is ill-defined and being set to 0.0 due to no true nor predicted samples. Use `zero_division` parameter to control this behavior.\n",
      "  _warn_prf(average, modifier, f\"{metric.capitalize()} is\", len(result))\n",
      "c:\\Users\\yiann\\miniconda3\\envs\\ML\\Lib\\site-packages\\sklearn\\metrics\\_classification.py:1565: UndefinedMetricWarning: F-score is ill-defined and being set to 0.0 due to no true nor predicted samples. Use `zero_division` parameter to control this behavior.\n",
      "  _warn_prf(average, modifier, f\"{metric.capitalize()} is\", len(result))\n",
      "c:\\Users\\yiann\\miniconda3\\envs\\ML\\Lib\\site-packages\\sklearn\\metrics\\_classification.py:1565: UndefinedMetricWarning: F-score is ill-defined and being set to 0.0 due to no true nor predicted samples. Use `zero_division` parameter to control this behavior.\n",
      "  _warn_prf(average, modifier, f\"{metric.capitalize()} is\", len(result))\n",
      "c:\\Users\\yiann\\miniconda3\\envs\\ML\\Lib\\site-packages\\sklearn\\metrics\\_classification.py:1565: UndefinedMetricWarning: F-score is ill-defined and being set to 0.0 due to no true nor predicted samples. Use `zero_division` parameter to control this behavior.\n",
      "  _warn_prf(average, modifier, f\"{metric.capitalize()} is\", len(result))\n",
      "c:\\Users\\yiann\\miniconda3\\envs\\ML\\Lib\\site-packages\\sklearn\\metrics\\_classification.py:1565: UndefinedMetricWarning: F-score is ill-defined and being set to 0.0 due to no true nor predicted samples. Use `zero_division` parameter to control this behavior.\n",
      "  _warn_prf(average, modifier, f\"{metric.capitalize()} is\", len(result))\n",
      "c:\\Users\\yiann\\miniconda3\\envs\\ML\\Lib\\site-packages\\sklearn\\metrics\\_classification.py:1565: UndefinedMetricWarning: F-score is ill-defined and being set to 0.0 due to no true nor predicted samples. Use `zero_division` parameter to control this behavior.\n",
      "  _warn_prf(average, modifier, f\"{metric.capitalize()} is\", len(result))\n",
      "c:\\Users\\yiann\\miniconda3\\envs\\ML\\Lib\\site-packages\\sklearn\\metrics\\_classification.py:1565: UndefinedMetricWarning: F-score is ill-defined and being set to 0.0 due to no true nor predicted samples. Use `zero_division` parameter to control this behavior.\n",
      "  _warn_prf(average, modifier, f\"{metric.capitalize()} is\", len(result))\n",
      "c:\\Users\\yiann\\miniconda3\\envs\\ML\\Lib\\site-packages\\sklearn\\metrics\\_classification.py:1565: UndefinedMetricWarning: F-score is ill-defined and being set to 0.0 due to no true nor predicted samples. Use `zero_division` parameter to control this behavior.\n",
      "  _warn_prf(average, modifier, f\"{metric.capitalize()} is\", len(result))\n",
      "c:\\Users\\yiann\\miniconda3\\envs\\ML\\Lib\\site-packages\\sklearn\\metrics\\_classification.py:1565: UndefinedMetricWarning: F-score is ill-defined and being set to 0.0 due to no true nor predicted samples. Use `zero_division` parameter to control this behavior.\n",
      "  _warn_prf(average, modifier, f\"{metric.capitalize()} is\", len(result))\n",
      "c:\\Users\\yiann\\miniconda3\\envs\\ML\\Lib\\site-packages\\sklearn\\metrics\\_classification.py:1565: UndefinedMetricWarning: F-score is ill-defined and being set to 0.0 due to no true nor predicted samples. Use `zero_division` parameter to control this behavior.\n",
      "  _warn_prf(average, modifier, f\"{metric.capitalize()} is\", len(result))\n",
      "c:\\Users\\yiann\\miniconda3\\envs\\ML\\Lib\\site-packages\\sklearn\\metrics\\_classification.py:1565: UndefinedMetricWarning: F-score is ill-defined and being set to 0.0 due to no true nor predicted samples. Use `zero_division` parameter to control this behavior.\n",
      "  _warn_prf(average, modifier, f\"{metric.capitalize()} is\", len(result))\n",
      "c:\\Users\\yiann\\miniconda3\\envs\\ML\\Lib\\site-packages\\sklearn\\metrics\\_classification.py:1565: UndefinedMetricWarning: F-score is ill-defined and being set to 0.0 due to no true nor predicted samples. Use `zero_division` parameter to control this behavior.\n",
      "  _warn_prf(average, modifier, f\"{metric.capitalize()} is\", len(result))\n",
      "c:\\Users\\yiann\\miniconda3\\envs\\ML\\Lib\\site-packages\\sklearn\\metrics\\_classification.py:1565: UndefinedMetricWarning: F-score is ill-defined and being set to 0.0 due to no true nor predicted samples. Use `zero_division` parameter to control this behavior.\n",
      "  _warn_prf(average, modifier, f\"{metric.capitalize()} is\", len(result))\n",
      "c:\\Users\\yiann\\miniconda3\\envs\\ML\\Lib\\site-packages\\sklearn\\metrics\\_classification.py:1565: UndefinedMetricWarning: F-score is ill-defined and being set to 0.0 due to no true nor predicted samples. Use `zero_division` parameter to control this behavior.\n",
      "  _warn_prf(average, modifier, f\"{metric.capitalize()} is\", len(result))\n",
      " 40%|████      | 24/60 [09:51<07:23, 12.33s/it]"
     ]
    },
    {
     "name": "stdout",
     "output_type": "stream",
     "text": [
      "Epoch 24 - Loss: 0.35600763322061796 - F1 Score: 0.4213309273553429\n"
     ]
    },
    {
     "name": "stderr",
     "output_type": "stream",
     "text": [
      " 42%|████▏     | 25/60 [10:03<07:11, 12.33s/it]"
     ]
    },
    {
     "name": "stdout",
     "output_type": "stream",
     "text": [
      "Epoch 25 - Loss: 0.19062089848860053 - F1 Score: 0.4883567236553294\n"
     ]
    },
    {
     "name": "stderr",
     "output_type": "stream",
     "text": [
      " 43%|████▎     | 26/60 [10:16<07:04, 12.48s/it]"
     ]
    },
    {
     "name": "stdout",
     "output_type": "stream",
     "text": [
      "Epoch 26 - Loss: 0.1874287386134172 - F1 Score: 0.4880629285908592\n"
     ]
    },
    {
     "name": "stderr",
     "output_type": "stream",
     "text": [
      "c:\\Users\\yiann\\miniconda3\\envs\\ML\\Lib\\site-packages\\sklearn\\metrics\\_classification.py:1565: UndefinedMetricWarning: F-score is ill-defined and being set to 0.0 due to no true nor predicted samples. Use `zero_division` parameter to control this behavior.\n",
      "  _warn_prf(average, modifier, f\"{metric.capitalize()} is\", len(result))\n",
      " 45%|████▌     | 27/60 [10:28<06:48, 12.37s/it]"
     ]
    },
    {
     "name": "stdout",
     "output_type": "stream",
     "text": [
      "Epoch 27 - Loss: 0.19929825075587648 - F1 Score: 0.47211303934536797\n"
     ]
    },
    {
     "name": "stderr",
     "output_type": "stream",
     "text": [
      " 47%|████▋     | 28/60 [10:40<06:34, 12.34s/it]"
     ]
    },
    {
     "name": "stdout",
     "output_type": "stream",
     "text": [
      "Epoch 28 - Loss: 0.1828668992610494 - F1 Score: 0.4809702648328251\n"
     ]
    },
    {
     "name": "stderr",
     "output_type": "stream",
     "text": [
      " 48%|████▊     | 29/60 [10:54<06:33, 12.71s/it]"
     ]
    },
    {
     "name": "stdout",
     "output_type": "stream",
     "text": [
      "Epoch 29 - Loss: 0.1772970795441585 - F1 Score: 0.4781472219822346\n"
     ]
    },
    {
     "name": "stderr",
     "output_type": "stream",
     "text": [
      "c:\\Users\\yiann\\miniconda3\\envs\\ML\\Lib\\site-packages\\sklearn\\metrics\\_classification.py:1565: UndefinedMetricWarning: F-score is ill-defined and being set to 0.0 due to no true nor predicted samples. Use `zero_division` parameter to control this behavior.\n",
      "  _warn_prf(average, modifier, f\"{metric.capitalize()} is\", len(result))\n",
      "c:\\Users\\yiann\\miniconda3\\envs\\ML\\Lib\\site-packages\\sklearn\\metrics\\_classification.py:1565: UndefinedMetricWarning: F-score is ill-defined and being set to 0.0 due to no true nor predicted samples. Use `zero_division` parameter to control this behavior.\n",
      "  _warn_prf(average, modifier, f\"{metric.capitalize()} is\", len(result))\n",
      " 50%|█████     | 30/60 [11:07<06:26, 12.88s/it]"
     ]
    },
    {
     "name": "stdout",
     "output_type": "stream",
     "text": [
      "Epoch 30 - Loss: 0.2224329570723567 - F1 Score: 0.4643071817206275\n"
     ]
    },
    {
     "name": "stderr",
     "output_type": "stream",
     "text": [
      " 52%|█████▏    | 31/60 [11:20<06:11, 12.80s/it]"
     ]
    },
    {
     "name": "stdout",
     "output_type": "stream",
     "text": [
      "Epoch 31 - Loss: 0.19223732501268387 - F1 Score: 0.4791986217673231\n"
     ]
    },
    {
     "name": "stderr",
     "output_type": "stream",
     "text": [
      " 53%|█████▎    | 32/60 [11:32<05:52, 12.61s/it]"
     ]
    },
    {
     "name": "stdout",
     "output_type": "stream",
     "text": [
      "Epoch 32 - Loss: 0.2005469686096641 - F1 Score: 0.4930193033234854\n"
     ]
    },
    {
     "name": "stderr",
     "output_type": "stream",
     "text": [
      " 55%|█████▌    | 33/60 [11:44<05:38, 12.54s/it]"
     ]
    },
    {
     "name": "stdout",
     "output_type": "stream",
     "text": [
      "Epoch 33 - Loss: 0.18649037222668624 - F1 Score: 0.49127042689496186\n"
     ]
    },
    {
     "name": "stderr",
     "output_type": "stream",
     "text": [
      " 57%|█████▋    | 34/60 [11:57<05:22, 12.40s/it]"
     ]
    },
    {
     "name": "stdout",
     "output_type": "stream",
     "text": [
      "Epoch 34 - Loss: 0.17736780244833344 - F1 Score: 0.4853170442307043\n"
     ]
    },
    {
     "name": "stderr",
     "output_type": "stream",
     "text": [
      " 58%|█████▊    | 35/60 [12:09<05:08, 12.33s/it]"
     ]
    },
    {
     "name": "stdout",
     "output_type": "stream",
     "text": [
      "Epoch 35 - Loss: 0.20050695543266406 - F1 Score: 0.4814833413677344\n"
     ]
    },
    {
     "name": "stderr",
     "output_type": "stream",
     "text": [
      " 60%|██████    | 36/60 [12:21<04:55, 12.32s/it]"
     ]
    },
    {
     "name": "stdout",
     "output_type": "stream",
     "text": [
      "Epoch 36 - Loss: 0.1877660094315459 - F1 Score: 0.49309467174940613\n"
     ]
    },
    {
     "name": "stderr",
     "output_type": "stream",
     "text": [
      " 62%|██████▏   | 37/60 [12:33<04:42, 12.27s/it]"
     ]
    },
    {
     "name": "stdout",
     "output_type": "stream",
     "text": [
      "Epoch 37 - Loss: 0.17875921814020274 - F1 Score: 0.47680452116015193\n"
     ]
    },
    {
     "name": "stderr",
     "output_type": "stream",
     "text": [
      " 63%|██████▎   | 38/60 [12:45<04:30, 12.29s/it]"
     ]
    },
    {
     "name": "stdout",
     "output_type": "stream",
     "text": [
      "Epoch 38 - Loss: 0.17392499787602456 - F1 Score: 0.48634163670810815\n"
     ]
    },
    {
     "name": "stderr",
     "output_type": "stream",
     "text": [
      " 65%|██████▌   | 39/60 [12:58<04:21, 12.45s/it]"
     ]
    },
    {
     "name": "stdout",
     "output_type": "stream",
     "text": [
      "Epoch 39 - Loss: 0.18301297112065515 - F1 Score: 0.48593235823504843\n"
     ]
    },
    {
     "name": "stderr",
     "output_type": "stream",
     "text": [
      "c:\\Users\\yiann\\miniconda3\\envs\\ML\\Lib\\site-packages\\sklearn\\metrics\\_classification.py:1565: UndefinedMetricWarning: F-score is ill-defined and being set to 0.0 due to no true nor predicted samples. Use `zero_division` parameter to control this behavior.\n",
      "  _warn_prf(average, modifier, f\"{metric.capitalize()} is\", len(result))\n",
      " 67%|██████▋   | 40/60 [13:14<04:26, 13.35s/it]"
     ]
    },
    {
     "name": "stdout",
     "output_type": "stream",
     "text": [
      "Epoch 40 - Loss: 0.22479821136517888 - F1 Score: 0.4668898306676746\n"
     ]
    },
    {
     "name": "stderr",
     "output_type": "stream",
     "text": [
      " 68%|██████▊   | 41/60 [13:28<04:19, 13.67s/it]"
     ]
    },
    {
     "name": "stdout",
     "output_type": "stream",
     "text": [
      "Epoch 41 - Loss: 0.1980369294619864 - F1 Score: 0.4920739440173706\n"
     ]
    },
    {
     "name": "stderr",
     "output_type": "stream",
     "text": [
      " 70%|███████   | 42/60 [13:41<04:00, 13.39s/it]"
     ]
    },
    {
     "name": "stdout",
     "output_type": "stream",
     "text": [
      "Epoch 42 - Loss: 0.19638585149767293 - F1 Score: 0.4920333405312195\n"
     ]
    },
    {
     "name": "stderr",
     "output_type": "stream",
     "text": [
      " 72%|███████▏  | 43/60 [13:53<03:42, 13.11s/it]"
     ]
    },
    {
     "name": "stdout",
     "output_type": "stream",
     "text": [
      "Epoch 43 - Loss: 0.26312282278089766 - F1 Score: 0.4925957645631087\n"
     ]
    },
    {
     "name": "stderr",
     "output_type": "stream",
     "text": [
      " 73%|███████▎  | 44/60 [14:05<03:24, 12.80s/it]"
     ]
    },
    {
     "name": "stdout",
     "output_type": "stream",
     "text": [
      "Epoch 44 - Loss: 0.19777114869682652 - F1 Score: 0.48799869446301697\n"
     ]
    },
    {
     "name": "stderr",
     "output_type": "stream",
     "text": [
      " 75%|███████▌  | 45/60 [14:18<03:10, 12.70s/it]"
     ]
    },
    {
     "name": "stdout",
     "output_type": "stream",
     "text": [
      "Epoch 45 - Loss: 0.2105235490758138 - F1 Score: 0.49476100179246824\n"
     ]
    },
    {
     "name": "stderr",
     "output_type": "stream",
     "text": [
      " 77%|███████▋  | 46/60 [14:30<02:55, 12.51s/it]"
     ]
    },
    {
     "name": "stdout",
     "output_type": "stream",
     "text": [
      "Epoch 46 - Loss: 0.19106038218470894 - F1 Score: 0.4816200571711552\n"
     ]
    },
    {
     "name": "stderr",
     "output_type": "stream",
     "text": [
      " 78%|███████▊  | 47/60 [14:42<02:42, 12.48s/it]"
     ]
    },
    {
     "name": "stdout",
     "output_type": "stream",
     "text": [
      "Epoch 47 - Loss: 0.18721754977088065 - F1 Score: 0.4905497065034645\n"
     ]
    },
    {
     "name": "stderr",
     "output_type": "stream",
     "text": [
      " 80%|████████  | 48/60 [14:55<02:28, 12.38s/it]"
     ]
    },
    {
     "name": "stdout",
     "output_type": "stream",
     "text": [
      "Epoch 48 - Loss: 0.18946458532172403 - F1 Score: 0.48711711775853206\n"
     ]
    },
    {
     "name": "stderr",
     "output_type": "stream",
     "text": [
      " 82%|████████▏ | 49/60 [15:07<02:15, 12.35s/it]"
     ]
    },
    {
     "name": "stdout",
     "output_type": "stream",
     "text": [
      "Epoch 49 - Loss: 0.18477412465081852 - F1 Score: 0.4794026142927703\n"
     ]
    },
    {
     "name": "stderr",
     "output_type": "stream",
     "text": [
      " 83%|████████▎ | 50/60 [15:19<02:03, 12.31s/it]"
     ]
    },
    {
     "name": "stdout",
     "output_type": "stream",
     "text": [
      "Epoch 50 - Loss: 0.18219386567925192 - F1 Score: 0.48548978019962913\n"
     ]
    },
    {
     "name": "stderr",
     "output_type": "stream",
     "text": [
      " 85%|████████▌ | 51/60 [15:31<01:50, 12.23s/it]"
     ]
    },
    {
     "name": "stdout",
     "output_type": "stream",
     "text": [
      "Epoch 51 - Loss: 0.2174955030464253 - F1 Score: 0.4697620243188841\n"
     ]
    },
    {
     "name": "stderr",
     "output_type": "stream",
     "text": [
      " 87%|████████▋ | 52/60 [15:43<01:37, 12.19s/it]"
     ]
    },
    {
     "name": "stdout",
     "output_type": "stream",
     "text": [
      "Epoch 52 - Loss: 0.19226903024657516 - F1 Score: 0.47558245701054297\n"
     ]
    },
    {
     "name": "stderr",
     "output_type": "stream",
     "text": [
      " 88%|████████▊ | 53/60 [15:55<01:25, 12.19s/it]"
     ]
    },
    {
     "name": "stdout",
     "output_type": "stream",
     "text": [
      "Epoch 53 - Loss: 0.18492532288952238 - F1 Score: 0.483319112702354\n"
     ]
    },
    {
     "name": "stderr",
     "output_type": "stream",
     "text": [
      " 90%|█████████ | 54/60 [16:08<01:13, 12.20s/it]"
     ]
    },
    {
     "name": "stdout",
     "output_type": "stream",
     "text": [
      "Epoch 54 - Loss: 0.1781472616182391 - F1 Score: 0.48307019879603075\n"
     ]
    },
    {
     "name": "stderr",
     "output_type": "stream",
     "text": [
      " 92%|█████████▏| 55/60 [16:20<01:01, 12.21s/it]"
     ]
    },
    {
     "name": "stdout",
     "output_type": "stream",
     "text": [
      "Epoch 55 - Loss: 0.19121077405229495 - F1 Score: 0.4910483718833166\n"
     ]
    },
    {
     "name": "stderr",
     "output_type": "stream",
     "text": [
      " 93%|█████████▎| 56/60 [16:32<00:48, 12.16s/it]"
     ]
    },
    {
     "name": "stdout",
     "output_type": "stream",
     "text": [
      "Epoch 56 - Loss: 0.19755806788137764 - F1 Score: 0.47469526090116837\n"
     ]
    },
    {
     "name": "stderr",
     "output_type": "stream",
     "text": [
      "c:\\Users\\yiann\\miniconda3\\envs\\ML\\Lib\\site-packages\\sklearn\\metrics\\_classification.py:1565: UndefinedMetricWarning: F-score is ill-defined and being set to 0.0 due to no true nor predicted samples. Use `zero_division` parameter to control this behavior.\n",
      "  _warn_prf(average, modifier, f\"{metric.capitalize()} is\", len(result))\n",
      "c:\\Users\\yiann\\miniconda3\\envs\\ML\\Lib\\site-packages\\sklearn\\metrics\\_classification.py:1565: UndefinedMetricWarning: F-score is ill-defined and being set to 0.0 due to no true nor predicted samples. Use `zero_division` parameter to control this behavior.\n",
      "  _warn_prf(average, modifier, f\"{metric.capitalize()} is\", len(result))\n",
      "c:\\Users\\yiann\\miniconda3\\envs\\ML\\Lib\\site-packages\\sklearn\\metrics\\_classification.py:1565: UndefinedMetricWarning: F-score is ill-defined and being set to 0.0 due to no true nor predicted samples. Use `zero_division` parameter to control this behavior.\n",
      "  _warn_prf(average, modifier, f\"{metric.capitalize()} is\", len(result))\n",
      "c:\\Users\\yiann\\miniconda3\\envs\\ML\\Lib\\site-packages\\sklearn\\metrics\\_classification.py:1565: UndefinedMetricWarning: F-score is ill-defined and being set to 0.0 due to no true nor predicted samples. Use `zero_division` parameter to control this behavior.\n",
      "  _warn_prf(average, modifier, f\"{metric.capitalize()} is\", len(result))\n",
      "c:\\Users\\yiann\\miniconda3\\envs\\ML\\Lib\\site-packages\\sklearn\\metrics\\_classification.py:1565: UndefinedMetricWarning: F-score is ill-defined and being set to 0.0 due to no true nor predicted samples. Use `zero_division` parameter to control this behavior.\n",
      "  _warn_prf(average, modifier, f\"{metric.capitalize()} is\", len(result))\n",
      "c:\\Users\\yiann\\miniconda3\\envs\\ML\\Lib\\site-packages\\sklearn\\metrics\\_classification.py:1565: UndefinedMetricWarning: F-score is ill-defined and being set to 0.0 due to no true nor predicted samples. Use `zero_division` parameter to control this behavior.\n",
      "  _warn_prf(average, modifier, f\"{metric.capitalize()} is\", len(result))\n",
      " 95%|█████████▌| 57/60 [16:45<00:37, 12.52s/it]"
     ]
    },
    {
     "name": "stdout",
     "output_type": "stream",
     "text": [
      "Epoch 57 - Loss: 0.25521462987277915 - F1 Score: 0.4584548230189305\n"
     ]
    },
    {
     "name": "stderr",
     "output_type": "stream",
     "text": [
      " 97%|█████████▋| 58/60 [16:58<00:25, 12.64s/it]"
     ]
    },
    {
     "name": "stdout",
     "output_type": "stream",
     "text": [
      "Epoch 58 - Loss: 0.19440573162049246 - F1 Score: 0.47947716158627574\n"
     ]
    },
    {
     "name": "stderr",
     "output_type": "stream",
     "text": [
      " 98%|█████████▊| 59/60 [17:11<00:12, 12.76s/it]"
     ]
    },
    {
     "name": "stdout",
     "output_type": "stream",
     "text": [
      "Epoch 59 - Loss: 0.18335404726350382 - F1 Score: 0.48546514407904673\n"
     ]
    },
    {
     "name": "stderr",
     "output_type": "stream",
     "text": [
      "100%|██████████| 60/60 [17:25<00:00, 17.42s/it]"
     ]
    },
    {
     "name": "stdout",
     "output_type": "stream",
     "text": [
      "Epoch 60 - Loss: 0.19374383910066761 - F1 Score: 0.49150271906681825\n"
     ]
    },
    {
     "name": "stderr",
     "output_type": "stream",
     "text": [
      "\n"
     ]
    }
   ],
   "source": [
    "loss_ls, f1_ls = train_cnn(model, train_loader, test_loader, epochs)"
   ]
  },
  {
   "cell_type": "code",
   "execution_count": 17,
   "id": "ae7853d2",
   "metadata": {},
   "outputs": [
    {
     "data": {
      "image/png": "[encoded data removed]",
      "text/plain": [
       "<Figure size 640x480 with 1 Axes>"
      ]
     },
     "metadata": {},
     "output_type": "display_data"
    }
   ],
   "source": [
    "sns.lineplot(loss_ls)\n",
    "plt.xlabel(\"Epoch\")\n",
    "plt.ylabel(\"Test Loss\")\n",
    "plt.title(\"Test Loss over epochs\")\n",
    "plt.show();"
   ]
  },
  {
   "cell_type": "code",
   "execution_count": 18,
   "id": "af76f2fd",
   "metadata": {},
   "outputs": [
    {
     "data": {
      "image/png": "[encoded data removed]",
      "text/plain": [
       "<Figure size 640x480 with 1 Axes>"
      ]
     },
     "metadata": {},
     "output_type": "display_data"
    }
   ],
   "source": [
    "#test accuracy\n",
    "sns.lineplot(f1_ls)\n",
    "plt.xlabel(\"Epoch\")\n",
    "plt.ylabel(\"F1 Score\")\n",
    "plt.title(\"F1 Score of fake image detection over epochs\")\n",
    "plt.show();"
   ]
  },
  {
   "cell_type": "code",
   "execution_count": 19,
   "id": "1415403e",
   "metadata": {},
   "outputs": [],
   "source": [
    "# #save the model\n",
    "# torch.save(model.state_dict(), \"model.pth\")"
   ]
  },
  {
   "cell_type": "code",
   "execution_count": 20,
   "id": "94f34a30",
   "metadata": {},
   "outputs": [],
   "source": [
    "def display_cam(index, target_layer):\n",
    "\timage_tensor = test_data[index]\n",
    "\treal_class=image_tensor[1]\n",
    "\timage=image_tensor[0].permute(1, 2, 0)\n",
    "\timage_tensor = image_tensor[0].unsqueeze(0)\n",
    "\n",
    "\t#load the model\n",
    "\tmodel = CNN()\n",
    "\tmodel.load_state_dict(torch.load(\"model.pth\"))\n",
    "\t#load the model to the same device as before\n",
    "\tmodel = model.to(device)\n",
    "\tmodel.eval()\n",
    "\n",
    "\t#get the cam extractor\n",
    "\tcam_extractor = SmoothGradCAMpp(model, target_layer=target_layer)\n",
    "\n",
    "\t#load the model\n",
    "\tmodel = CNN()\n",
    "\tmodel.load_state_dict(torch.load(\"model.pth\"))\n",
    "\t#load the model to the same device as before\n",
    "\tmodel = model.to(device)\n",
    "\tmodel.eval()\n",
    "\n",
    "\toutput = model(image_tensor.to(device))\n",
    "\n",
    "\twith SmoothGradCAMpp(model, target_layer=target_layer) as cam_extractor:\n",
    "\t\toutput = model(image_tensor.to(device)) #move the image tensor to the same device as the model\n",
    "\t\tactivation_map = cam_extractor(output.squeeze(0).argmax().item(), output)\n",
    "\n",
    "\n",
    "\t#print actual vs prediction\n",
    "\tpredicted_class = output.argmax(dim=1).item()# # Set your CAM extractor\n",
    "\tprint(f\"Index: {index}\\nActual class: {\"Fake (0)\" if real_class==0 else \"Real (1)\"}, Predicted class: {\"Fake (0)\" if predicted_class==0 else \"Real (1)\"}\")\n",
    "\n",
    "\t#overlay the CAM on the image\n",
    "\tresult = overlay_mask(to_pil_image(image_tensor[0]), to_pil_image(activation_map[0].squeeze(0), mode='F'), alpha=0.5)\n",
    "\n",
    "\t#plot\n",
    "\t#print n images in train_data starting from starting_index\n",
    "\tplt.subplot(1, 2, 1) #subplot with 1 row and 5 columns\n",
    "\tplt.title(\"Original Image\")\n",
    "\tplt.imshow(image)\n",
    "\tplt.axis('off')\n",
    "\tplt.subplot(1, 2, 2)\n",
    "\tplt.title(\"CAM Overlay\")\n",
    "\tplt.imshow(result)\n",
    "\tplt.axis('off')\n"
   ]
  },
  {
   "cell_type": "code",
   "execution_count": 69,
   "id": "358ddc4e",
   "metadata": {},
   "outputs": [],
   "source": [
    "# Get a random image by index, as an image tensor\n",
    "index=random.randint(10000, 20000) #randomly select an index from the test data\n",
    "# ls=[400, 422, 437, 461, 464, 541, 542, 543, 550, 555, 569, 580, 597, 616, 646, 667, 714, 723, 758, 770, 790, 792, 799]\n",
    "#real img pred fake"
   ]
  },
  {
   "cell_type": "code",
   "execution_count": 70,
   "id": "274502e5",
   "metadata": {},
   "outputs": [
    {
     "name": "stdout",
     "output_type": "stream",
     "text": [
      "Index: 10441\n",
      "Actual class: Real (1), Predicted class: Real (1)\n"
     ]
    },
    {
     "data": {
      "image/png": "[encoded data removed]",
      "text/plain": [
       "<Figure size 640x480 with 2 Axes>"
      ]
     },
     "metadata": {},
     "output_type": "display_data"
    }
   ],
   "source": [
    "display_cam(index, target_layer=\"conv1\")"
   ]
  },
  {
   "cell_type": "code",
   "execution_count": 71,
   "id": "ee23b8cf",
   "metadata": {},
   "outputs": [
    {
     "name": "stdout",
     "output_type": "stream",
     "text": [
      "Index: 10441\n",
      "Actual class: Real (1), Predicted class: Real (1)\n"
     ]
    },
    {
     "data": {
      "image/png": "[encoded data removed]",
      "text/plain": [
       "<Figure size 640x480 with 2 Axes>"
      ]
     },
     "metadata": {},
     "output_type": "display_data"
    }
   ],
   "source": [
    "display_cam(index, target_layer=\"conv2\")"
   ]
  },
  {
   "cell_type": "code",
   "execution_count": 72,
   "id": "ff1e5667",
   "metadata": {},
   "outputs": [
    {
     "name": "stdout",
     "output_type": "stream",
     "text": [
      "[[9036  964]\n",
      " [ 445 9555]]\n"
     ]
    },
    {
     "data": {
      "image/png": "[encoded data removed]",
      "text/plain": [
       "<Figure size 800x600 with 2 Axes>"
      ]
     },
     "metadata": {},
     "output_type": "display_data"
    },
    {
     "name": "stdout",
     "output_type": "stream",
     "text": [
      "              precision    recall  f1-score   support\n",
      "\n",
      "    Fake (0)       0.95      0.90      0.93     10000\n",
      "    Real (1)       0.91      0.96      0.93     10000\n",
      "\n",
      "    accuracy                           0.93     20000\n",
      "   macro avg       0.93      0.93      0.93     20000\n",
      "weighted avg       0.93      0.93      0.93     20000\n",
      "\n"
     ]
    }
   ],
   "source": [
    "model.eval()\n",
    "\n",
    "# Get the predictions for the test set\n",
    "y_true = []\n",
    "y_pred = []\n",
    "for features, target in test_loader:\n",
    "\tfeatures, target = features.to(device), target.to(device)\n",
    "\toutput = model(features)\n",
    "\tlabel_out = torch.argmax(output, dim=1) #argmax returns the index of the maximum value in the tensor\n",
    "\ty_true.extend(target.cpu().numpy())\n",
    "\ty_pred.extend(label_out.cpu().numpy())\n",
    "\n",
    "\n",
    "# Get the confusion matrix\n",
    "cm = confusion_matrix(y_true, y_pred, labels=[0, 1])\n",
    "print(cm)\n",
    "\n",
    "# Plot the confusion matrix\n",
    "plt.figure(figsize=(8, 6))\n",
    "sns.heatmap(cm, annot=True, fmt='d', cmap='Blues', xticklabels=[\"Fake (0)\", \"Real (1)\"], yticklabels=[\"Fake (0)\", \"Real (1)\"])\n",
    "plt.xlabel('Predicted')\n",
    "plt.ylabel('True')\n",
    "plt.title('Confusion Matrix')\n",
    "plt.show()\n",
    "\n",
    "# Get the classification report\n",
    "report = classification_report(y_true, y_pred, target_names=[\"Fake (0)\", \"Real (1)\"])\n",
    "print(report)"
   ]
  },
  {
   "cell_type": "code",
   "execution_count": 73,
   "id": "7df049c1",
   "metadata": {},
   "outputs": [
    {
     "name": "stdout",
     "output_type": "stream",
     "text": [
      "[10001, 10041, 10047, 10068, 10072, 10110, 10127, 10139, 10189, 10190, 10198, 10199, 10240, 10269, 10276, 10280, 10288, 10309, 10318, 10335, 10370, 10386, 10409, 10486, 10509, 10532, 10550, 10555, 10571, 10597, 10609, 10612, 10643, 10671, 10675, 10689, 10692, 10697, 10708, 10746, 10755, 10790, 10815, 10819, 10828, 10835, 10879, 10883, 10939, 10967, 10986, 10999, 11007, 11025, 11042, 11044, 11051, 11089, 11126, 11136, 11143, 11152, 11229, 11286, 11350, 11389, 11402, 11408, 11473, 11534, 11608, 11612, 11623, 11651, 11677, 11749, 11768, 11780, 11825, 11839, 11841, 11852, 11857, 11869, 11922, 11967, 11971, 12028, 12031, 12043, 12093, 12115, 12135, 12169, 12181, 12198, 12229, 12267, 12270, 12271, 12276, 12325, 12398, 12425, 12431, 12447, 12483, 12523, 12548, 12576, 12591, 12612, 12673, 12726, 12745, 12769, 12778, 12787, 12813, 12818, 12861, 12871, 12876, 12909, 12967, 12977, 13001, 13005, 13011, 13033, 13039, 13040, 13079, 13105, 13127, 13141, 13159, 13205, 13208, 13219, 13226, 13230, 13232, 13287, 13303, 13320, 13324, 13351, 13357, 13385, 13401, 13405, 13438, 13509, 13510, 13515, 13572, 13575, 13589, 13599, 13665, 13745, 13750, 13779, 13797, 13847, 13863, 13877, 13905, 13932, 13939, 13940, 13943, 13948, 13960, 13969, 13979, 13992, 13999, 14035, 14037, 14060, 14070, 14075, 14091, 14093, 14128, 14141, 14145, 14189, 14193, 14196, 14248, 14298, 14327, 14338, 14343, 14357, 14362, 14382, 14388, 14400, 14413, 14418, 14458, 14459, 14462, 14467, 14498, 14504, 14508, 14527, 14556, 14559, 14561, 14567, 14578, 14587, 14599, 14601, 14608, 14610, 14639, 14673, 14718, 14748, 14762, 14769, 14783, 14828, 14852, 14857, 14871, 14879, 14899, 14903, 14915, 14927, 14950, 14952, 15010, 15042, 15062, 15071, 15073, 15083, 15121, 15147, 15259, 15311, 15333, 15359, 15361, 15400, 15401, 15409, 15411, 15441, 15451, 15498, 15591, 15598, 15610, 15631, 15652, 15664, 15673, 15688, 15708, 15717, 15779, 15789, 15823, 15839, 15909, 15931, 15948, 15988, 15992, 16015, 16033, 16050, 16106, 16139, 16151, 16169, 16250, 16253, 16289, 16358, 16362, 16405, 16423, 16457, 16483, 16500, 16510, 16518, 16589, 16628, 16629, 16658, 16676, 16678, 16691, 16693, 16695, 16731, 16738, 16810, 16815, 16848, 16898, 16899, 16906, 16911, 16933, 16941, 16960, 16981, 17012, 17038, 17069, 17079, 17115, 17179, 17192, 17202, 17267, 17279, 17325, 17326, 17352, 17382, 17408, 17424, 17439, 17457, 17492, 17497, 17523, 17540, 17547, 17553, 17562, 17587, 17637, 17708, 17729, 17739, 17810, 17827, 17831, 17899, 17905, 17907, 17926, 17942, 17966, 17973, 17989, 17990, 18006, 18011, 18039, 18047, 18092, 18158, 18171, 18178, 18239, 18259, 18268, 18282, 18331, 18339, 18340, 18344, 18381, 18387, 18395, 18399, 18419, 18459, 18512, 18513, 18518, 18550, 18551, 18562, 18567, 18571, 18598, 18608, 18612, 18632, 18641, 18655, 18672, 18675, 18702, 18727, 18733, 18766, 18845, 18890, 18953, 19036, 19060, 19082, 19119, 19130, 19156, 19208, 19320, 19372, 19381, 19387, 19406, 19413, 19445, 19462, 19511, 19542, 19564, 19570, 19625, 19629, 19657, 19701, 19731, 19734, 19751, 19773, 19782, 19802, 19809, 19866, 19901, 19930, 19944, 19967, 19979, 19987, 19999]\n"
     ]
    }
   ],
   "source": [
    "#get index of everything that's real but predicted fake\n",
    "\n",
    "ls=[]\n",
    "\n",
    "for i in range(len(y_pred)):\n",
    "\tif y_pred[i]==0 and y_true[i]==1:\n",
    "\t\tls.append(i)\n",
    "\n",
    "print(ls)"
   ]
  },
  {
   "cell_type": "code",
   "execution_count": null,
   "id": "c0363529",
   "metadata": {},
   "outputs": [],
   "source": [
    "#save model\n",
    "torch.save(model.state_dict(), \"saved_models/CNN_from_scratch/model_full_train_test.pth\")"
   ]
  },
  {
   "cell_type": "code",
   "execution_count": null,
   "id": "177143cb",
   "metadata": {},
   "outputs": [],
   "source": []
  }
 ],
 "metadata": {
  "kernelspec": {
   "display_name": "ML",
   "language": "python",
   "name": "python3"
  },
  "language_info": {
   "codemirror_mode": {
    "name": "ipython",
    "version": 3
   },
   "file_extension": ".py",
   "mimetype": "text/x-python",
   "name": "python",
   "nbconvert_exporter": "python",
   "pygments_lexer": "ipython3",
   "version": "3.12.0"
  }
 },
 "nbformat": 4,
 "nbformat_minor": 5
}
