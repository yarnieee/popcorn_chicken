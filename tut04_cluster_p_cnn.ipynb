{
 "cells": [
  {
   "cell_type": "markdown",
   "id": "fd5fdf63-0a79-4490-aa8f-3669ba1a7f58",
   "metadata": {},
   "source": [
    "# Tutorial 04: Clustering, Perceptrons, and Convolutional Neural Networks\n",
    "\n",
    "**Release Date:** 17 March 2025"
   ]
  },
  {
   "cell_type": "markdown",
   "id": "2b3fadaa-a686-498a-b9c0-d56a6c8b591f",
   "metadata": {},
   "source": [
    "## Overview\n",
    "\n",
    "In this tutorial, we will be looking at clustering, perceptrons, and convolutional neural networks."
   ]
  },
  {
   "cell_type": "markdown",
   "id": "28daa5e8-f930-40b7-965a-8aaf9a80aec4",
   "metadata": {
    "jp-MarkdownHeadingCollapsed": true
   },
   "source": [
    "### Required Files\n",
    "\n",
    "* `tut04.ipynb` (i.e., this notebook)"
   ]
  },
  {
   "cell_type": "code",
   "execution_count": 1,
   "id": "eb9439d0",
   "metadata": {},
   "outputs": [],
   "source": [
    "import numpy as np\n",
    "import pandas as pd\n",
    "import seaborn as sns\n",
    "import matplotlib.pyplot as plt\n",
    "import torch\n",
    "import torchvision\n",
    "import torch.nn as nn\n",
    "\n",
    "from sklearn.datasets import load_iris\n",
    "from sklearn.model_selection import train_test_split\n",
    "from sklearn.cluster import KMeans\n",
    "from sklearn.metrics import accuracy_score\n",
    "from tqdm import tqdm"
   ]
  },
  {
   "cell_type": "code",
   "execution_count": 2,
   "id": "ab768867",
   "metadata": {},
   "outputs": [],
   "source": [
    "sns.set_theme()"
   ]
  },
  {
   "cell_type": "code",
   "execution_count": 3,
   "id": "32ab016a",
   "metadata": {},
   "outputs": [],
   "source": [
    "RANDOM_SEED = 42"
   ]
  },
  {
   "cell_type": "markdown",
   "id": "0f8ae0a8",
   "metadata": {},
   "source": [
    "## Section 1: k-Means Clustering"
   ]
  },
  {
   "cell_type": "markdown",
   "id": "b8d28f74",
   "metadata": {},
   "source": [
    "In this section, we will be covering k-means clustering with both `scikit-learn` and implementation of our own `CustomKMeans` class.\n",
    "\n",
    "Again, we will use the iris dataset to understand this concept."
   ]
  },
  {
   "cell_type": "code",
   "execution_count": 4,
   "id": "20b5cc84",
   "metadata": {},
   "outputs": [
    {
     "data": {
      "text/html": [
       "<div>\n",
       "<style scoped>\n",
       "    .dataframe tbody tr th:only-of-type {\n",
       "        vertical-align: middle;\n",
       "    }\n",
       "\n",
       "    .dataframe tbody tr th {\n",
       "        vertical-align: top;\n",
       "    }\n",
       "\n",
       "    .dataframe thead th {\n",
       "        text-align: right;\n",
       "    }\n",
       "</style>\n",
       "<table border=\"1\" class=\"dataframe\">\n",
       "  <thead>\n",
       "    <tr style=\"text-align: right;\">\n",
       "      <th></th>\n",
       "      <th>sepal length (cm)</th>\n",
       "      <th>sepal width (cm)</th>\n",
       "      <th>petal length (cm)</th>\n",
       "      <th>petal width (cm)</th>\n",
       "      <th>target</th>\n",
       "    </tr>\n",
       "  </thead>\n",
       "  <tbody>\n",
       "    <tr>\n",
       "      <th>0</th>\n",
       "      <td>5.1</td>\n",
       "      <td>3.5</td>\n",
       "      <td>1.4</td>\n",
       "      <td>0.2</td>\n",
       "      <td>0</td>\n",
       "    </tr>\n",
       "    <tr>\n",
       "      <th>1</th>\n",
       "      <td>4.9</td>\n",
       "      <td>3.0</td>\n",
       "      <td>1.4</td>\n",
       "      <td>0.2</td>\n",
       "      <td>0</td>\n",
       "    </tr>\n",
       "    <tr>\n",
       "      <th>2</th>\n",
       "      <td>4.7</td>\n",
       "      <td>3.2</td>\n",
       "      <td>1.3</td>\n",
       "      <td>0.2</td>\n",
       "      <td>0</td>\n",
       "    </tr>\n",
       "    <tr>\n",
       "      <th>3</th>\n",
       "      <td>4.6</td>\n",
       "      <td>3.1</td>\n",
       "      <td>1.5</td>\n",
       "      <td>0.2</td>\n",
       "      <td>0</td>\n",
       "    </tr>\n",
       "    <tr>\n",
       "      <th>4</th>\n",
       "      <td>5.0</td>\n",
       "      <td>3.6</td>\n",
       "      <td>1.4</td>\n",
       "      <td>0.2</td>\n",
       "      <td>0</td>\n",
       "    </tr>\n",
       "  </tbody>\n",
       "</table>\n",
       "</div>"
      ],
      "text/plain": [
       "   sepal length (cm)  sepal width (cm)  petal length (cm)  petal width (cm)  \\\n",
       "0                5.1               3.5                1.4               0.2   \n",
       "1                4.9               3.0                1.4               0.2   \n",
       "2                4.7               3.2                1.3               0.2   \n",
       "3                4.6               3.1                1.5               0.2   \n",
       "4                5.0               3.6                1.4               0.2   \n",
       "\n",
       "   target  \n",
       "0       0  \n",
       "1       0  \n",
       "2       0  \n",
       "3       0  \n",
       "4       0  "
      ]
     },
     "execution_count": 4,
     "metadata": {},
     "output_type": "execute_result"
    }
   ],
   "source": [
    "iris_df = load_iris(as_frame=True)['frame'] \n",
    "iris_df.head(5)\n",
    "#iris dataset is classified into 3 classes based on the target column (which species the flower belongs to)"
   ]
  },
  {
   "cell_type": "markdown",
   "id": "c1c996f2",
   "metadata": {},
   "source": [
    "### Task 1.1: Using `scikit-learn`'s k-Means Clustering"
   ]
  },
  {
   "cell_type": "markdown",
   "id": "74c055f7",
   "metadata": {},
   "source": [
    "In `scikit-learn`, k-means clustering is done by using the `sklearn.cluster.KMeans` class."
   ]
  },
  {
   "cell_type": "markdown",
   "id": "b2536238",
   "metadata": {},
   "source": [
    "Recall that k-means clustering is done only on the feature columns of the dataset, which means that we have to select which columns to use.\n",
    "\n",
    "Fortunately, we can do so easily in Pandas:"
   ]
  },
  {
   "cell_type": "code",
   "execution_count": 19,
   "id": "4d86e929",
   "metadata": {},
   "outputs": [],
   "source": [
    "features = iris_df.drop(columns='target')\n",
    "target = iris_df['target']"
   ]
  },
  {
   "cell_type": "markdown",
   "id": "26790a89",
   "metadata": {},
   "source": [
    "We ensure that we have train and test sets for each:"
   ]
  },
  {
   "cell_type": "code",
   "execution_count": 20,
   "id": "e1837604",
   "metadata": {},
   "outputs": [],
   "source": [
    "train_features, test_features, train_target, test_target = train_test_split(features, target, test_size=0.2, random_state=RANDOM_SEED)"
   ]
  },
  {
   "cell_type": "markdown",
   "id": "5691b41b",
   "metadata": {},
   "source": [
    "Recall that we ought to \"take the elbow\" from the goodness function of the clustering.\n",
    "\n",
    "Hence, let's implement the function `train_model()` below."
   ]
  },
  {
   "cell_type": "code",
   "execution_count": 21,
   "id": "00e1aa42",
   "metadata": {},
   "outputs": [],
   "source": [
    "def train_model(max_clusters: int = 10, train_features: pd.DataFrame = train_features) -> list[float]:\n",
    "\tscores = []\n",
    "\t#train model for k means, with max_clusters hyperparam, dataframe of features, return list of\n",
    "\t#initialise centroids\n",
    "\t#assign each point to the closest centroid\n",
    "\t#update the centroids to the mean of the points assigned to it\n",
    "\t#repeat until convergence, append to scores list\n",
    "\t#train kmeans model for each number of clusters from 1 to max_clusters\n",
    "\t#inertia in k-means is the sum of squared distances between each training instance and its closest centroid\n",
    "\tfor i in range(1, max_clusters + 1):\n",
    "\t\tkmeans = KMeans(n_clusters=i, random_state=RANDOM_SEED)\n",
    "\t\tkmeans.fit(train_features)\n",
    "\t\tscores.append(kmeans.inertia_)\n",
    "\treturn scores"
   ]
  },
  {
   "cell_type": "code",
   "execution_count": 22,
   "id": "71ef0a14",
   "metadata": {},
   "outputs": [
    {
     "data": {
      "image/png": "[encoded data removed]",
      "text/plain": [
       "<Figure size 640x480 with 1 Axes>"
      ]
     },
     "metadata": {},
     "output_type": "display_data"
    }
   ],
   "source": [
    "goodness = train_model(max_clusters=10, train_features=train_features)\n",
    "sns.lineplot(goodness)\n",
    "plt.xlabel(\"Number of clusters\")\n",
    "plt.ylabel(\"Inertia\")\n",
    "plt.title(\"Goodness of fit for KMeans\")\n",
    "plt.xticks(ticks=range(0, 10), labels=range(1, 11))\n",
    "plt.show();\n",
    "\n",
    "#if k is too high, there is not enough generalisation (each centroid IS a datapoint = didn't learn anything)\n",
    "#if k is too low, there is too much generalisation (mean of entire dataset without grouping = didn't learn anything)"
   ]
  },
  {
   "cell_type": "markdown",
   "id": "044043b1",
   "metadata": {},
   "source": [
    "It seems that the elbow is around 3 clusters, which is the true number of clusters that is present in the dataset.\n",
    "\n",
    "Hence we retrain the model with 3 clusters."
   ]
  },
  {
   "cell_type": "code",
   "execution_count": 23,
   "id": "821262c6",
   "metadata": {},
   "outputs": [],
   "source": [
    "model = KMeans(n_clusters=3, random_state=RANDOM_SEED)\n",
    "model.fit(train_features)\n",
    "train_features[\"cluster\"] = model.predict(train_features)"
   ]
  },
  {
   "cell_type": "markdown",
   "id": "3ab13be0",
   "metadata": {},
   "source": [
    "### Task 1.2: k-Means to Label Mapping"
   ]
  },
  {
   "cell_type": "markdown",
   "id": "2e1f72e3",
   "metadata": {},
   "source": [
    "Let's try to equate the clusters to each of the original classes. In order to do this, we will have to know, for each cluster, the number of datapoints for each class label."
   ]
  },
  {
   "cell_type": "code",
   "execution_count": 36,
   "id": "a4787558",
   "metadata": {},
   "outputs": [],
   "source": [
    "#counter represents the number of each target in each cluster\n",
    "counter = {}\n",
    "for i in range(len(train_features)):\n",
    "\tcluster = int(train_features[\"cluster\"].iloc[i]) #iloc means integer location, so it's the index of the row\n",
    "\ttarget = int(train_target.iloc[i])\n",
    "\tif cluster not in counter:\n",
    "\t\tcounter[cluster] = {}\n",
    "\tif target not in counter[cluster]:\n",
    "\t\tcounter[cluster][target] = 0\n",
    "\tcounter[cluster][target] += 1"
   ]
  },
  {
   "cell_type": "code",
   "execution_count": 37,
   "id": "a8b0ad34",
   "metadata": {},
   "outputs": [
    {
     "name": "stdout",
     "output_type": "stream",
     "text": [
      "1 {0: 40}\n",
      "2 {1: 12, 2: 38}\n",
      "0 {1: 29, 2: 1}\n"
     ]
    }
   ],
   "source": [
    "for i in counter:\n",
    "    print(i, counter[i])\n",
    "\n",
    "#true is on the left, predicted is on the right"
   ]
  },
  {
   "cell_type": "markdown",
   "id": "3d3829a4",
   "metadata": {},
   "source": [
    "It seems that cluster `2` is equated to label `0`, cluster `1` is equated to label `2`, and cluster `0` is equated to label `1`.\n",
    "\n",
    "As we can see, the training results are not very accurate. Let's try using `k-means++` as the initialisation method to see whether there are any differences."
   ]
  },
  {
   "cell_type": "code",
   "execution_count": null,
   "id": "3f958f22",
   "metadata": {},
   "outputs": [],
   "source": [
    "train_features = train_features.drop(columns=\"cluster\")\n",
    "model = KMeans(n_clusters=3, random_state=RANDOM_SEED, init=\"k-means++\") #difference of k-means++ is that it chooses the initial centroids in a smart way to speed up convergence: first centroid randomly from data points, and then keep choosing the furthest datapoint as the next centroid\n",
    "model.fit(train_features)\n",
    "train_features[\"cluster\"] = model.predict(train_features)"
   ]
  },
  {
   "cell_type": "code",
   "execution_count": 39,
   "id": "463f6667",
   "metadata": {},
   "outputs": [],
   "source": [
    "counter = {}\n",
    "for i in range(len(train_features)):\n",
    "\tcluster = int(train_features[\"cluster\"].iloc[i])\n",
    "\ttarget = int(train_target.iloc[i])\n",
    "\tif cluster not in counter:\n",
    "\t\tcounter[cluster] = {}\n",
    "\tif target not in counter[cluster]:\n",
    "\t\tcounter[cluster][target] = 0\n",
    "\tcounter[cluster][target] += 1"
   ]
  },
  {
   "cell_type": "code",
   "execution_count": 41,
   "id": "4ad2e7bf",
   "metadata": {},
   "outputs": [
    {
     "name": "stdout",
     "output_type": "stream",
     "text": [
      "1 {0: 40}\n",
      "2 {1: 12, 2: 38}\n",
      "0 {1: 29, 2: 1}\n"
     ]
    }
   ],
   "source": [
    "for i in counter:\n",
    "    print(i, counter[i])"
   ]
  },
  {
   "cell_type": "markdown",
   "id": "a44e3304",
   "metadata": {},
   "source": [
    "Very interesting. It does not appear that the initialisation method changes things for this dataset!\n",
    "\n",
    "For completeness, we will evaluate the training using the test set."
   ]
  },
  {
   "cell_type": "code",
   "execution_count": 42,
   "id": "a7aec763",
   "metadata": {},
   "outputs": [],
   "source": [
    "pred = model.predict(test_features)"
   ]
  },
  {
   "cell_type": "markdown",
   "id": "b275d75b",
   "metadata": {},
   "source": [
    "Fill in the `mapping` dictionary below with the correct key-value pairs (keys are the cluster indices, values are the actual labels):"
   ]
  },
  {
   "cell_type": "code",
   "execution_count": null,
   "id": "8a8a289e",
   "metadata": {},
   "outputs": [],
   "source": [
    "# Fill in the dictionary with the correct mapping\n",
    "mapping = {0: 1, 1: 0, 2: 2} #correct : predicted"
   ]
  },
  {
   "cell_type": "code",
   "execution_count": 44,
   "id": "2dd78490",
   "metadata": {},
   "outputs": [],
   "source": [
    "pred = np.array([mapping[p] for p in pred])"
   ]
  },
  {
   "cell_type": "code",
   "execution_count": 52,
   "id": "f2b71fc1",
   "metadata": {},
   "outputs": [
    {
     "name": "stdout",
     "output_type": "stream",
     "text": [
      "[1 0 2 1 2 0 1 2 1 1 2 0 0 0 0 2 2 1 1 2 0 2 0 2 2 2 2 2 0 0] <class 'numpy.ndarray'>\n",
      "[1 0 2 1 1 0 1 2 1 1 2 0 0 0 0 1 2 1 1 2 0 2 0 2 2 2 2 2 0 0] <class 'numpy.ndarray'>\n"
     ]
    },
    {
     "data": {
      "text/plain": [
       "np.float64(0.9333333333333333)"
      ]
     },
     "execution_count": 52,
     "metadata": {},
     "output_type": "execute_result"
    }
   ],
   "source": [
    "print(pred, type(pred))\n",
    "print(test_target.to_numpy(), type(test_target.to_numpy()))\n",
    "(pred == test_target.to_numpy()).mean() #value represents the mean of the boolean array, which is the accuracy of the model, with 1 as correct and 0 as incorrect"
   ]
  },
  {
   "cell_type": "markdown",
   "id": "ce153e64",
   "metadata": {},
   "source": [
    "The model performs decently well, with about 0.93 accuracy on the test set."
   ]
  },
  {
   "cell_type": "markdown",
   "id": "247ad31c",
   "metadata": {},
   "source": [
    "## Section 2: Perceptrons"
   ]
  },
  {
   "cell_type": "markdown",
   "id": "609850f4",
   "metadata": {},
   "source": [
    "In this section, we will cover how to build simple neural networks with PyTorch. \n",
    "\n",
    "Again, we will be using the iris dataset to provide a practical example."
   ]
  },
  {
   "cell_type": "code",
   "execution_count": 56,
   "id": "b75fc6d1",
   "metadata": {},
   "outputs": [
    {
     "data": {
      "text/html": [
       "<div>\n",
       "<style scoped>\n",
       "    .dataframe tbody tr th:only-of-type {\n",
       "        vertical-align: middle;\n",
       "    }\n",
       "\n",
       "    .dataframe tbody tr th {\n",
       "        vertical-align: top;\n",
       "    }\n",
       "\n",
       "    .dataframe thead th {\n",
       "        text-align: right;\n",
       "    }\n",
       "</style>\n",
       "<table border=\"1\" class=\"dataframe\">\n",
       "  <thead>\n",
       "    <tr style=\"text-align: right;\">\n",
       "      <th></th>\n",
       "      <th>sepal length (cm)</th>\n",
       "      <th>sepal width (cm)</th>\n",
       "      <th>petal length (cm)</th>\n",
       "      <th>petal width (cm)</th>\n",
       "      <th>target</th>\n",
       "    </tr>\n",
       "  </thead>\n",
       "  <tbody>\n",
       "    <tr>\n",
       "      <th>0</th>\n",
       "      <td>5.1</td>\n",
       "      <td>3.5</td>\n",
       "      <td>1.4</td>\n",
       "      <td>0.2</td>\n",
       "      <td>0</td>\n",
       "    </tr>\n",
       "    <tr>\n",
       "      <th>1</th>\n",
       "      <td>4.9</td>\n",
       "      <td>3.0</td>\n",
       "      <td>1.4</td>\n",
       "      <td>0.2</td>\n",
       "      <td>0</td>\n",
       "    </tr>\n",
       "    <tr>\n",
       "      <th>2</th>\n",
       "      <td>4.7</td>\n",
       "      <td>3.2</td>\n",
       "      <td>1.3</td>\n",
       "      <td>0.2</td>\n",
       "      <td>0</td>\n",
       "    </tr>\n",
       "    <tr>\n",
       "      <th>3</th>\n",
       "      <td>4.6</td>\n",
       "      <td>3.1</td>\n",
       "      <td>1.5</td>\n",
       "      <td>0.2</td>\n",
       "      <td>0</td>\n",
       "    </tr>\n",
       "    <tr>\n",
       "      <th>4</th>\n",
       "      <td>5.0</td>\n",
       "      <td>3.6</td>\n",
       "      <td>1.4</td>\n",
       "      <td>0.2</td>\n",
       "      <td>0</td>\n",
       "    </tr>\n",
       "  </tbody>\n",
       "</table>\n",
       "</div>"
      ],
      "text/plain": [
       "   sepal length (cm)  sepal width (cm)  petal length (cm)  petal width (cm)  \\\n",
       "0                5.1               3.5                1.4               0.2   \n",
       "1                4.9               3.0                1.4               0.2   \n",
       "2                4.7               3.2                1.3               0.2   \n",
       "3                4.6               3.1                1.5               0.2   \n",
       "4                5.0               3.6                1.4               0.2   \n",
       "\n",
       "   target  \n",
       "0       0  \n",
       "1       0  \n",
       "2       0  \n",
       "3       0  \n",
       "4       0  "
      ]
     },
     "execution_count": 56,
     "metadata": {},
     "output_type": "execute_result"
    }
   ],
   "source": [
    "iris_df = load_iris(as_frame=True)['frame'] \n",
    "iris_df.head(5)"
   ]
  },
  {
   "cell_type": "code",
   "execution_count": 57,
   "id": "1db97674",
   "metadata": {},
   "outputs": [],
   "source": [
    "features, target = iris_df.drop(columns='target'), iris_df['target']\n",
    "train_features, test_features, train_target, test_target = train_test_split(features, target, test_size=0.2, random_state=RANDOM_SEED)"
   ]
  },
  {
   "cell_type": "markdown",
   "id": "779956e5",
   "metadata": {},
   "source": [
    "### Task 2.1: Simple Neural Networks with PyTorch"
   ]
  },
  {
   "cell_type": "markdown",
   "id": "00fb8d6a",
   "metadata": {},
   "source": [
    "In order to build a simple neural network with PyTorch, there are two key things to do:\n",
    "\n",
    "1. Create a class inheriting from `torch.nn.Module` (we have shortened the import here to `nn.Module`) and use `super().__init__()` to initialise all the superclass attributes.\n",
    "2. Create a `forward()` method that takes in some input and returns some output."
   ]
  },
  {
   "cell_type": "markdown",
   "id": "ce74c864",
   "metadata": {},
   "source": [
    "Below we give an example neural network."
   ]
  },
  {
   "cell_type": "code",
   "execution_count": null,
   "id": "98c12a6a",
   "metadata": {},
   "outputs": [],
   "source": [
    "class SimpleNN(nn.Module):\n",
    "\tdef __init__(self, input_dim: int, output_dim: int):\n",
    "\t\t# Necessary to include the following line to inherit from nn.Module\n",
    "\t\tsuper().__init__()\n",
    "\n",
    "\t\t# Define the layers of the neural network with linear (feedforward) layers\n",
    "\t\tself.fc1 = nn.Linear(in_features=input_dim, out_features=64) #matrix multiply input by weights (transposed), add bias, apply activation function\n",
    "\t\tself.fc2 = nn.Linear(in_features=64, out_features=32)\n",
    "\t\tself.fc3 = nn.Linear(in_features=32, out_features=output_dim)\n",
    "\n",
    "\t\t# Define the softmax activation function to output probabilities\n",
    "\t\tself.softmax = nn.Softmax(dim=1)\n",
    "\n",
    "\tdef forward(self, x: torch.Tensor) -> torch.Tensor:\n",
    "\t\t# forward pass of neural network, just pass\n",
    "\t\tx = self.fc1(x)\n",
    "\t\tx = self.fc2(x)\n",
    "\t\tx = self.fc3(x)\n",
    "\t\treturn self.softmax(x)"
   ]
  },
  {
   "cell_type": "markdown",
   "id": "a8e6271f",
   "metadata": {},
   "source": [
    "Now that we've seen how we can make a simple neural network, let's implement one to classify datapoints for the iris dataset.\n",
    "\n",
    "We'll need to specify the neural network with the following attributes:\n",
    "1. There will be five linear layers of size (4, 64), (64, 128), (128, 64), (64, 32), and (32, 3).\n",
    "1. At the end, we will need to have a softmax layer for multiclass classification purposes."
   ]
  },
  {
   "cell_type": "code",
   "execution_count": null,
   "id": "1db12775",
   "metadata": {},
   "outputs": [],
   "source": [
    "class IrisNN(nn.Module):\n",
    "\t\n",
    "\tdef __init__(self, input_dim:int, output_dim:int):\n",
    "\t\tsuper().__init__()\n",
    "\n",
    "\t\tself.fc1 = nn.Linear(in_features=input_dim, out_features=64) #why no activation function?\n",
    "\t\tself.fc2 = nn.Linear(in_features=64, out_features=128)\n",
    "\t\tself.fc3 = nn.Linear(in_features=128, out_features=64)\n",
    "\t\tself.fc4 = nn.Linear(in_features=64, out_features=32)\n",
    "\t\tself.fc5 = nn.Linear(in_features=32, out_features=output_dim)\n",
    "\n",
    "\t\tself.softmax = nn.Softmax(dim=1) #is the last one a layer?\n",
    "\n",
    "\tdef forward(self, x: torch.Tensor) -> torch.Tensor:\n",
    "\t\tx = self.fc1(x)\n",
    "\t\tx = self.fc2(x)\n",
    "\t\tx = self.fc3(x)\n",
    "\t\tx = self.fc4(x)\n",
    "\t\tx = self.fc5(x)\n",
    "\t\treturn self.softmax(x)"
   ]
  },
  {
   "cell_type": "code",
   "execution_count": 63,
   "id": "accee75f",
   "metadata": {},
   "outputs": [
    {
     "data": {
      "text/plain": [
       "IrisNN(\n",
       "  (fc1): Linear(in_features=4, out_features=64, bias=True)\n",
       "  (fc2): Linear(in_features=64, out_features=128, bias=True)\n",
       "  (fc3): Linear(in_features=128, out_features=64, bias=True)\n",
       "  (fc4): Linear(in_features=64, out_features=32, bias=True)\n",
       "  (fc5): Linear(in_features=32, out_features=3, bias=True)\n",
       "  (softmax): Softmax(dim=1)\n",
       ")"
      ]
     },
     "execution_count": 63,
     "metadata": {},
     "output_type": "execute_result"
    }
   ],
   "source": [
    "iris_model = IrisNN(input_dim=4, output_dim=3)\n",
    "iris_model"
   ]
  },
  {
   "cell_type": "markdown",
   "id": "75fde41f",
   "metadata": {},
   "source": [
    "By printing the model itself, we can see the entire architecture available to us."
   ]
  },
  {
   "cell_type": "markdown",
   "id": "836c0c4f",
   "metadata": {},
   "source": [
    "### Task 2.2: Making the PyTorch Training Loop"
   ]
  },
  {
   "cell_type": "markdown",
   "id": "8800c38b",
   "metadata": {},
   "source": [
    "In order to create the PyTorch training loop, we have to remember the presence of three critical steps in every loop, which have to be written in order:\n",
    "1. Zero out the gradient with `optimizer.zero_grad()`\n",
    "1. Predict and retrieve the loss value.\n",
    "1. Adjust the weights of the model with `optimizer.step()`.\n",
    "\n",
    "There are other things that one might wish to include -- such as printing the loss value or the training progress -- but these are not always necessary.\n",
    "\n",
    "You can find out more about this in this link: <https://pytorch.org/tutorials/beginner/introyt/trainingyt.html#the-training-loop>"
   ]
  },
  {
   "cell_type": "markdown",
   "id": "38e36c37",
   "metadata": {},
   "source": [
    "Let's first define the optimizer and the loss function we are going to use."
   ]
  },
  {
   "cell_type": "code",
   "execution_count": null,
   "id": "b26f5cf6",
   "metadata": {},
   "outputs": [],
   "source": [
    "# optimizer is the algorithm that will be used to update the weights of the neural network. Adam is named after the \"adaptive moment estimation algorithm\"\n",
    "# criterion is the loss function that will be used to calculate the error of the neural network\n",
    "optimizer = torch.optim.Adam(iris_model.parameters(), lr=0.001)\n",
    "criterion = nn.CrossEntropyLoss() #CEloss used for classification problems"
   ]
  },
  {
   "cell_type": "markdown",
   "id": "e1d1130e",
   "metadata": {},
   "source": [
    "Other than that, we also have to define a dataloader. This is important as we would like our model to be trained in mini-batches instead of the entire dataset in every inner loop iteration.\n",
    "\n",
    "The dataloaders are used in order to allow us to (1) load the data partially into memory every time, and (2) allow for customisation of how the dataset will be loaded (e.g., with different batch sizes and/or shuffling).\n",
    "\n",
    "Observe that the `torch.utils.data.DataLoader` class takes in a `torch.utils.data.TensorDataset`. This refers to a PyTorch map-style dataset (there is also an iterable-style dataset), which means that one is able to get the individual items directly using the `__getitem__()` and `__len__()` methods. The `TensorDataset` class takes PyTorch tensors (which are often the features and the labels). We use the `torch.LongTensor` type for the labels as this is what is accepted by the loss function (`nn.CrossEntropyLoss()`).\n",
    "\n",
    "Other than that, we define the batch size to use, as well as whether the dataset should be shuffled. The batch size indicates how much of the dataset we would like to use for training and/or testing at any given time, whereas the shuffling indicates whether the datapoints should be shuffled (to prevent the model from learning the ordering of the datapoints to infer information about them). Note that shuffling of the dataset should only be used when training."
   ]
  },
  {
   "cell_type": "code",
   "execution_count": null,
   "id": "8848cb87",
   "metadata": {},
   "outputs": [],
   "source": [
    "train_dataloader = torch.utils.data.DataLoader(\n",
    "\ttorch.utils.data.TensorDataset(torch.tensor(train_features.to_numpy(), dtype=torch.float32), torch.tensor(train_target.to_numpy(), dtype=torch.float32).type(torch.LongTensor)),\n",
    "\tbatch_size=16, #only passing thru 16 samples at a time\n",
    "\tshuffle=True\n",
    ")\n",
    "\n",
    "test_dataloader = torch.utils.data.DataLoader(\n",
    "\ttorch.utils.data.TensorDataset(torch.tensor(test_features.to_numpy(), dtype=torch.float32), torch.tensor(test_target.to_numpy(), dtype=torch.float32).type(torch.LongTensor)),\n",
    "\tbatch_size=16,\n",
    "\tshuffle=False\n",
    ")"
   ]
  },
  {
   "cell_type": "markdown",
   "id": "8484f3c2",
   "metadata": {},
   "source": [
    "We are now ready to define the training loop."
   ]
  },
  {
   "cell_type": "code",
   "execution_count": null,
   "id": "6d86fcef",
   "metadata": {},
   "outputs": [],
   "source": [
    "def train_nn(model: nn.Module, train_dataloader: torch.utils.data.DataLoader, test_dataloader: torch.utils.data.DataLoader, epochs: int = 1000):\n",
    "\t# Convert everything to tensors first\n",
    "\tloss_ls = []\n",
    "\taccuracy_ls = []\n",
    "\n",
    "\tfor epoch in tqdm(range(epochs)):\n",
    "\t\tmodel.train()\n",
    "\t\tfor features, target in train_dataloader:\n",
    "\t\t\toptimizer.zero_grad() #set gradients to zero (because in some situations it's not set to 0 between every epoch)\n",
    "\t\t\toutput = model(features)\n",
    "\t\t\tloss = criterion(output, target) #compare output to target using CEloss (see above)\n",
    "\t\t\tloss.backward() #backpropagation: see notes\n",
    "\t\t\toptimizer.step() #equal to torch.optim.Adam.step() - updates the weights based on the gradients\n",
    "\t\t\t\n",
    "\n",
    "\t\tmodel.eval()\n",
    "\t\twith torch.no_grad():\n",
    "\t\t\ttotal_loss = 0\n",
    "\t\t\tcombined = []\n",
    "\t\t\tfor features, target in test_dataloader: #evaluate on test dataset\n",
    "\t\t\t\toutput = model(features)\n",
    "\t\t\t\tloss = criterion(output, target)\n",
    "\t\t\t\ttotal_loss += loss.item()\n",
    "\t\t\t\tlabel_out = torch.argmax(output, dim=1)\n",
    "\t\t\t\tcombined.append((label_out, target))\n",
    "\t\t\t#calculate accuracy\n",
    "\t\t\taccuracy = [accuracy_score(c[0].numpy(), c[1].numpy()) for c in combined]\n",
    "\t\t\tloss_ls.append(total_loss / len(test_dataloader))\n",
    "\t\t\taccuracy_ls.append(np.mean(accuracy))\n",
    "\t\t\tprint(f\"Epoch {epoch + 1} - Loss: {total_loss / len(test_dataloader)} - Accuracy: {np.mean(accuracy)}\")\n",
    "\treturn loss_ls, accuracy_ls"
   ]
  },
  {
   "cell_type": "code",
   "execution_count": 67,
   "id": "8b148df2",
   "metadata": {},
   "outputs": [
    {
     "name": "stderr",
     "output_type": "stream",
     "text": [
      "  2%|▎         | 5/200 [00:00<00:08, 21.86it/s]"
     ]
    },
    {
     "name": "stdout",
     "output_type": "stream",
     "text": [
      "Epoch 1 - Loss: 0.9788652658462524 - Accuracy: 0.7098214285714286\n",
      "Epoch 2 - Loss: 0.8479128181934357 - Accuracy: 0.7098214285714286\n",
      "Epoch 3 - Loss: 0.7979453504085541 - Accuracy: 0.7098214285714286\n",
      "Epoch 4 - Loss: 0.7476432919502258 - Accuracy: 0.7410714285714286\n",
      "Epoch 5 - Loss: 0.7150647938251495 - Accuracy: 0.8660714285714286\n",
      "Epoch 6 - Loss: 0.6878995597362518 - Accuracy: 0.8660714285714286\n",
      "Epoch 7 - Loss: 0.6428139507770538 - Accuracy: 0.9330357142857143\n"
     ]
    },
    {
     "name": "stderr",
     "output_type": "stream",
     "text": [
      "  6%|▋         | 13/200 [00:00<00:06, 29.18it/s]"
     ]
    },
    {
     "name": "stdout",
     "output_type": "stream",
     "text": [
      "Epoch 8 - Loss: 0.6163660883903503 - Accuracy: 0.96875\n",
      "Epoch 9 - Loss: 0.654284656047821 - Accuracy: 0.8660714285714286\n",
      "Epoch 10 - Loss: 0.6044863164424896 - Accuracy: 0.96875\n",
      "Epoch 11 - Loss: 0.647271990776062 - Accuracy: 0.8660714285714286\n",
      "Epoch 12 - Loss: 0.5995690822601318 - Accuracy: 0.96875\n",
      "Epoch 13 - Loss: 0.6296785771846771 - Accuracy: 0.8973214285714286\n",
      "Epoch 14 - Loss: 0.5952785313129425 - Accuracy: 0.96875\n"
     ]
    },
    {
     "name": "stderr",
     "output_type": "stream",
     "text": [
      " 10%|█         | 21/200 [00:00<00:05, 31.73it/s]"
     ]
    },
    {
     "name": "stdout",
     "output_type": "stream",
     "text": [
      "Epoch 15 - Loss: 0.6686467826366425 - Accuracy: 0.8660714285714286\n",
      "Epoch 16 - Loss: 0.5913933515548706 - Accuracy: 0.96875\n",
      "Epoch 17 - Loss: 0.6097491681575775 - Accuracy: 0.96875\n",
      "Epoch 18 - Loss: 0.6617282032966614 - Accuracy: 0.8660714285714286\n",
      "Epoch 19 - Loss: 0.659678190946579 - Accuracy: 0.8705357142857143\n",
      "Epoch 20 - Loss: 0.6639623045921326 - Accuracy: 0.8660714285714286\n",
      "Epoch 21 - Loss: 0.6299959421157837 - Accuracy: 0.9017857142857143\n"
     ]
    },
    {
     "name": "stderr",
     "output_type": "stream",
     "text": [
      " 14%|█▍        | 29/200 [00:00<00:05, 33.62it/s]"
     ]
    },
    {
     "name": "stdout",
     "output_type": "stream",
     "text": [
      "Epoch 22 - Loss: 0.6892696022987366 - Accuracy: 0.8660714285714286\n",
      "Epoch 23 - Loss: 0.6891535222530365 - Accuracy: 0.8392857142857143\n",
      "Epoch 24 - Loss: 0.5852774679660797 - Accuracy: 0.96875\n",
      "Epoch 25 - Loss: 0.6654049754142761 - Accuracy: 0.8660714285714286\n",
      "Epoch 26 - Loss: 0.6424379944801331 - Accuracy: 0.9017857142857143\n",
      "Epoch 27 - Loss: 0.6773787438869476 - Accuracy: 0.8660714285714286\n",
      "Epoch 28 - Loss: 0.5825196802616119 - Accuracy: 0.96875\n",
      "Epoch 29 - Loss: 0.6179738342761993 - Accuracy: 0.8973214285714286\n"
     ]
    },
    {
     "name": "stderr",
     "output_type": "stream",
     "text": [
      " 16%|█▋        | 33/200 [00:01<00:05, 32.32it/s]"
     ]
    },
    {
     "name": "stdout",
     "output_type": "stream",
     "text": [
      "Epoch 30 - Loss: 0.6090687215328217 - Accuracy: 0.9642857142857143\n",
      "Epoch 31 - Loss: 0.5831727683544159 - Accuracy: 0.96875\n",
      "Epoch 32 - Loss: 0.5896385014057159 - Accuracy: 0.96875\n",
      "Epoch 33 - Loss: 0.5839078426361084 - Accuracy: 0.96875\n",
      "Epoch 34 - Loss: 0.603868842124939 - Accuracy: 0.9330357142857143\n",
      "Epoch 35 - Loss: 0.5841964483261108 - Accuracy: 0.96875\n",
      "Epoch 36 - Loss: 0.5917606055736542 - Accuracy: 0.96875\n"
     ]
    },
    {
     "name": "stderr",
     "output_type": "stream",
     "text": [
      " 20%|██        | 41/200 [00:01<00:04, 32.15it/s]"
     ]
    },
    {
     "name": "stdout",
     "output_type": "stream",
     "text": [
      "Epoch 37 - Loss: 0.58339723944664 - Accuracy: 0.96875\n",
      "Epoch 38 - Loss: 0.5944956839084625 - Accuracy: 0.96875\n",
      "Epoch 39 - Loss: 0.5839892625808716 - Accuracy: 0.96875\n",
      "Epoch 40 - Loss: 0.6516295373439789 - Accuracy: 0.8973214285714286\n",
      "Epoch 41 - Loss: 0.5833483040332794 - Accuracy: 0.96875\n",
      "Epoch 42 - Loss: 0.6231369972229004 - Accuracy: 0.9017857142857143\n",
      "Epoch 43 - Loss: 0.5875363051891327 - Accuracy: 0.96875\n"
     ]
    },
    {
     "name": "stderr",
     "output_type": "stream",
     "text": [
      " 24%|██▍       | 49/200 [00:01<00:04, 32.76it/s]"
     ]
    },
    {
     "name": "stdout",
     "output_type": "stream",
     "text": [
      "Epoch 44 - Loss: 0.5959804356098175 - Accuracy: 0.96875\n",
      "Epoch 45 - Loss: 0.6039254665374756 - Accuracy: 0.96875\n",
      "Epoch 46 - Loss: 0.584286093711853 - Accuracy: 0.96875\n",
      "Epoch 47 - Loss: 0.5863482356071472 - Accuracy: 0.96875\n",
      "Epoch 48 - Loss: 0.5913510620594025 - Accuracy: 0.96875\n",
      "Epoch 49 - Loss: 0.6151657402515411 - Accuracy: 0.9330357142857143\n",
      "Epoch 50 - Loss: 0.6697853207588196 - Accuracy: 0.8660714285714286\n",
      "Epoch 51 - Loss: 0.583254337310791 - Accuracy: 0.96875\n"
     ]
    },
    {
     "name": "stderr",
     "output_type": "stream",
     "text": [
      " 28%|██▊       | 57/200 [00:01<00:04, 32.10it/s]"
     ]
    },
    {
     "name": "stdout",
     "output_type": "stream",
     "text": [
      "Epoch 52 - Loss: 0.5831329822540283 - Accuracy: 0.96875\n",
      "Epoch 53 - Loss: 0.6993869543075562 - Accuracy: 0.8660714285714286\n",
      "Epoch 54 - Loss: 0.6100024580955505 - Accuracy: 0.9330357142857143\n",
      "Epoch 55 - Loss: 0.5905937850475311 - Accuracy: 0.96875\n",
      "Epoch 56 - Loss: 0.583222508430481 - Accuracy: 0.96875\n",
      "Epoch 57 - Loss: 0.5881507992744446 - Accuracy: 0.96875\n",
      "Epoch 58 - Loss: 0.5830661356449127 - Accuracy: 0.96875\n"
     ]
    },
    {
     "name": "stderr",
     "output_type": "stream",
     "text": [
      " 32%|███▎      | 65/200 [00:02<00:04, 32.07it/s]"
     ]
    },
    {
     "name": "stdout",
     "output_type": "stream",
     "text": [
      "Epoch 59 - Loss: 0.6061415076255798 - Accuracy: 0.9330357142857143\n",
      "Epoch 60 - Loss: 0.5829728543758392 - Accuracy: 0.96875\n",
      "Epoch 61 - Loss: 0.5884634256362915 - Accuracy: 0.96875\n",
      "Epoch 62 - Loss: 0.5884580612182617 - Accuracy: 0.96875\n",
      "Epoch 63 - Loss: 0.5896877944469452 - Accuracy: 0.96875\n",
      "Epoch 64 - Loss: 0.6582110226154327 - Accuracy: 0.8973214285714286\n",
      "Epoch 65 - Loss: 0.5829335451126099 - Accuracy: 0.96875\n"
     ]
    },
    {
     "name": "stderr",
     "output_type": "stream",
     "text": [
      " 34%|███▍      | 69/200 [00:02<00:03, 33.69it/s]"
     ]
    },
    {
     "name": "stdout",
     "output_type": "stream",
     "text": [
      "Epoch 66 - Loss: 0.5970261096954346 - Accuracy: 0.96875\n",
      "Epoch 67 - Loss: 0.583191454410553 - Accuracy: 0.96875\n",
      "Epoch 68 - Loss: 0.6108054220676422 - Accuracy: 0.9330357142857143\n",
      "Epoch 69 - Loss: 0.5829251110553741 - Accuracy: 0.96875\n",
      "Epoch 70 - Loss: 0.609440416097641 - Accuracy: 0.9330357142857143\n",
      "Epoch 71 - Loss: 0.5837139785289764 - Accuracy: 0.96875\n",
      "Epoch 72 - Loss: 0.5841141045093536 - Accuracy: 0.96875\n"
     ]
    },
    {
     "name": "stderr",
     "output_type": "stream",
     "text": [
      " 38%|███▊      | 77/200 [00:02<00:03, 31.96it/s]"
     ]
    },
    {
     "name": "stdout",
     "output_type": "stream",
     "text": [
      "Epoch 73 - Loss: 0.6013690531253815 - Accuracy: 0.96875\n",
      "Epoch 74 - Loss: 0.5829538702964783 - Accuracy: 0.96875\n",
      "Epoch 75 - Loss: 0.644223153591156 - Accuracy: 0.8660714285714286\n",
      "Epoch 76 - Loss: 0.6421281397342682 - Accuracy: 0.8660714285714286\n",
      "Epoch 77 - Loss: 0.5847401022911072 - Accuracy: 0.96875\n",
      "Epoch 78 - Loss: 0.587579220533371 - Accuracy: 0.96875\n",
      "Epoch 79 - Loss: 0.5836918950080872 - Accuracy: 0.96875\n"
     ]
    },
    {
     "name": "stderr",
     "output_type": "stream",
     "text": [
      " 42%|████▎     | 85/200 [00:02<00:03, 31.12it/s]"
     ]
    },
    {
     "name": "stdout",
     "output_type": "stream",
     "text": [
      "Epoch 80 - Loss: 0.5839133262634277 - Accuracy: 0.96875\n",
      "Epoch 81 - Loss: 0.6129865050315857 - Accuracy: 0.9330357142857143\n",
      "Epoch 82 - Loss: 0.5835200846195221 - Accuracy: 0.96875\n",
      "Epoch 83 - Loss: 0.6609870791435242 - Accuracy: 0.8973214285714286\n",
      "Epoch 84 - Loss: 0.5835117399692535 - Accuracy: 0.96875\n",
      "Epoch 85 - Loss: 0.5995820760726929 - Accuracy: 0.96875\n",
      "Epoch 86 - Loss: 0.5828201770782471 - Accuracy: 0.96875\n"
     ]
    },
    {
     "name": "stderr",
     "output_type": "stream",
     "text": [
      " 46%|████▋     | 93/200 [00:02<00:03, 31.30it/s]"
     ]
    },
    {
     "name": "stdout",
     "output_type": "stream",
     "text": [
      "Epoch 87 - Loss: 0.5879927277565002 - Accuracy: 0.96875\n",
      "Epoch 88 - Loss: 0.5828298032283783 - Accuracy: 0.96875\n",
      "Epoch 89 - Loss: 0.6659657955169678 - Accuracy: 0.8660714285714286\n",
      "Epoch 90 - Loss: 0.5828514993190765 - Accuracy: 0.96875\n",
      "Epoch 91 - Loss: 0.6445691883563995 - Accuracy: 0.8660714285714286\n",
      "Epoch 92 - Loss: 0.5829344093799591 - Accuracy: 0.96875\n",
      "Epoch 93 - Loss: 0.6182290017604828 - Accuracy: 0.9330357142857143\n"
     ]
    },
    {
     "name": "stderr",
     "output_type": "stream",
     "text": [
      " 48%|████▊     | 97/200 [00:03<00:03, 31.85it/s]"
     ]
    },
    {
     "name": "stdout",
     "output_type": "stream",
     "text": [
      "Epoch 94 - Loss: 0.6628713011741638 - Accuracy: 0.8660714285714286\n",
      "Epoch 95 - Loss: 0.6194854378700256 - Accuracy: 0.9330357142857143\n",
      "Epoch 96 - Loss: 0.582844465970993 - Accuracy: 0.96875\n",
      "Epoch 97 - Loss: 0.6638262271881104 - Accuracy: 0.8660714285714286\n",
      "Epoch 98 - Loss: 0.6147848665714264 - Accuracy: 0.9330357142857143\n",
      "Epoch 99 - Loss: 0.6025526821613312 - Accuracy: 0.96875\n",
      "Epoch 100 - Loss: 0.7216002643108368 - Accuracy: 0.8303571428571428\n"
     ]
    },
    {
     "name": "stderr",
     "output_type": "stream",
     "text": [
      " 52%|█████▎    | 105/200 [00:03<00:02, 31.82it/s]"
     ]
    },
    {
     "name": "stdout",
     "output_type": "stream",
     "text": [
      "Epoch 101 - Loss: 0.5828018188476562 - Accuracy: 0.96875\n",
      "Epoch 102 - Loss: 0.6039057970046997 - Accuracy: 0.96875\n",
      "Epoch 103 - Loss: 0.59450364112854 - Accuracy: 0.96875\n",
      "Epoch 104 - Loss: 0.5833491384983063 - Accuracy: 0.96875\n",
      "Epoch 105 - Loss: 0.590501457452774 - Accuracy: 0.96875\n",
      "Epoch 106 - Loss: 0.5837050378322601 - Accuracy: 0.96875\n",
      "Epoch 107 - Loss: 0.6274684369564056 - Accuracy: 0.9330357142857143\n",
      "Epoch 108 - Loss: 0.5871431827545166 - Accuracy: 0.96875\n"
     ]
    },
    {
     "name": "stderr",
     "output_type": "stream",
     "text": [
      " 56%|█████▋    | 113/200 [00:03<00:02, 32.84it/s]"
     ]
    },
    {
     "name": "stdout",
     "output_type": "stream",
     "text": [
      "Epoch 109 - Loss: 0.5849490463733673 - Accuracy: 0.96875\n",
      "Epoch 110 - Loss: 0.5827675759792328 - Accuracy: 0.96875\n",
      "Epoch 111 - Loss: 0.6076920032501221 - Accuracy: 0.9330357142857143\n",
      "Epoch 112 - Loss: 0.5832870006561279 - Accuracy: 0.96875\n",
      "Epoch 113 - Loss: 0.6332831680774689 - Accuracy: 0.9017857142857143\n",
      "Epoch 114 - Loss: 0.5840520560741425 - Accuracy: 0.96875\n",
      "Epoch 115 - Loss: 0.5832373797893524 - Accuracy: 0.96875\n"
     ]
    },
    {
     "name": "stderr",
     "output_type": "stream",
     "text": [
      " 60%|██████    | 121/200 [00:03<00:02, 32.38it/s]"
     ]
    },
    {
     "name": "stdout",
     "output_type": "stream",
     "text": [
      "Epoch 116 - Loss: 0.5837880373001099 - Accuracy: 0.96875\n",
      "Epoch 117 - Loss: 0.5827926695346832 - Accuracy: 0.96875\n",
      "Epoch 118 - Loss: 0.5916368365287781 - Accuracy: 0.96875\n",
      "Epoch 119 - Loss: 0.6741293668746948 - Accuracy: 0.8660714285714286\n",
      "Epoch 120 - Loss: 0.5827845633029938 - Accuracy: 0.96875\n",
      "Epoch 121 - Loss: 0.5831060111522675 - Accuracy: 0.96875\n",
      "Epoch 122 - Loss: 0.5827155113220215 - Accuracy: 0.96875\n"
     ]
    },
    {
     "name": "stderr",
     "output_type": "stream",
     "text": [
      " 64%|██████▍   | 129/200 [00:04<00:02, 32.42it/s]"
     ]
    },
    {
     "name": "stdout",
     "output_type": "stream",
     "text": [
      "Epoch 123 - Loss: 0.6660797297954559 - Accuracy: 0.8660714285714286\n",
      "Epoch 124 - Loss: 0.5828209221363068 - Accuracy: 0.96875\n",
      "Epoch 125 - Loss: 0.583949476480484 - Accuracy: 0.96875\n",
      "Epoch 126 - Loss: 0.5860086977481842 - Accuracy: 0.96875\n",
      "Epoch 127 - Loss: 0.6778920888900757 - Accuracy: 0.8660714285714286\n",
      "Epoch 128 - Loss: 0.5836410224437714 - Accuracy: 0.96875\n",
      "Epoch 129 - Loss: 0.6731225550174713 - Accuracy: 0.8660714285714286\n"
     ]
    },
    {
     "name": "stderr",
     "output_type": "stream",
     "text": [
      " 66%|██████▋   | 133/200 [00:04<00:02, 32.19it/s]"
     ]
    },
    {
     "name": "stdout",
     "output_type": "stream",
     "text": [
      "Epoch 130 - Loss: 0.6467028260231018 - Accuracy: 0.9017857142857143\n",
      "Epoch 131 - Loss: 0.582793116569519 - Accuracy: 0.96875\n",
      "Epoch 132 - Loss: 0.5948469042778015 - Accuracy: 0.96875\n",
      "Epoch 133 - Loss: 0.5827388763427734 - Accuracy: 0.96875\n",
      "Epoch 134 - Loss: 0.5847206711769104 - Accuracy: 0.96875\n"
     ]
    },
    {
     "name": "stderr",
     "output_type": "stream",
     "text": [
      " 70%|███████   | 141/200 [00:04<00:01, 30.17it/s]"
     ]
    },
    {
     "name": "stdout",
     "output_type": "stream",
     "text": [
      "Epoch 135 - Loss: 0.6768111884593964 - Accuracy: 0.8660714285714286\n",
      "Epoch 136 - Loss: 0.582737922668457 - Accuracy: 0.96875\n",
      "Epoch 137 - Loss: 0.6008406579494476 - Accuracy: 0.96875\n",
      "Epoch 138 - Loss: 0.5828543603420258 - Accuracy: 0.96875\n",
      "Epoch 139 - Loss: 0.5833824276924133 - Accuracy: 0.96875\n",
      "Epoch 140 - Loss: 0.5830977857112885 - Accuracy: 0.96875\n",
      "Epoch 141 - Loss: 0.6829943954944611 - Accuracy: 0.8660714285714286\n"
     ]
    },
    {
     "name": "stderr",
     "output_type": "stream",
     "text": [
      " 72%|███████▎  | 145/200 [00:04<00:01, 30.90it/s]"
     ]
    },
    {
     "name": "stdout",
     "output_type": "stream",
     "text": [
      "Epoch 142 - Loss: 0.5827952921390533 - Accuracy: 0.96875\n",
      "Epoch 143 - Loss: 0.5827665627002716 - Accuracy: 0.96875\n",
      "Epoch 144 - Loss: 0.6117938458919525 - Accuracy: 0.9330357142857143\n",
      "Epoch 145 - Loss: 0.5829282104969025 - Accuracy: 0.96875\n",
      "Epoch 146 - Loss: 0.5830592811107635 - Accuracy: 0.96875\n",
      "Epoch 147 - Loss: 0.5846399366855621 - Accuracy: 0.96875\n",
      "Epoch 148 - Loss: 0.5828584432601929 - Accuracy: 0.96875\n",
      "Epoch 149 - Loss: 0.5829498171806335 - Accuracy: 0.96875\n"
     ]
    },
    {
     "name": "stderr",
     "output_type": "stream",
     "text": [
      " 76%|███████▋  | 153/200 [00:04<00:01, 31.29it/s]"
     ]
    },
    {
     "name": "stdout",
     "output_type": "stream",
     "text": [
      "Epoch 150 - Loss: 0.583113968372345 - Accuracy: 0.96875\n",
      "Epoch 151 - Loss: 0.582962840795517 - Accuracy: 0.96875\n",
      "Epoch 152 - Loss: 0.5830596089363098 - Accuracy: 0.96875\n",
      "Epoch 153 - Loss: 0.6560175716876984 - Accuracy: 0.8660714285714286\n",
      "Epoch 154 - Loss: 0.5827582776546478 - Accuracy: 0.96875\n",
      "Epoch 155 - Loss: 0.6031920611858368 - Accuracy: 0.96875\n",
      "Epoch 156 - Loss: 0.617752194404602 - Accuracy: 0.9330357142857143\n"
     ]
    },
    {
     "name": "stderr",
     "output_type": "stream",
     "text": [
      " 80%|████████  | 161/200 [00:05<00:01, 31.18it/s]"
     ]
    },
    {
     "name": "stdout",
     "output_type": "stream",
     "text": [
      "Epoch 157 - Loss: 0.5827744007110596 - Accuracy: 0.96875\n",
      "Epoch 158 - Loss: 0.5920595824718475 - Accuracy: 0.96875\n",
      "Epoch 159 - Loss: 0.6864392757415771 - Accuracy: 0.8660714285714286\n",
      "Epoch 160 - Loss: 0.5829842984676361 - Accuracy: 0.96875\n",
      "Epoch 161 - Loss: 0.6148961782455444 - Accuracy: 0.9330357142857143\n",
      "Epoch 162 - Loss: 0.6817750036716461 - Accuracy: 0.8660714285714286\n",
      "Epoch 163 - Loss: 0.6814914643764496 - Accuracy: 0.8660714285714286\n"
     ]
    },
    {
     "name": "stderr",
     "output_type": "stream",
     "text": [
      " 84%|████████▍ | 169/200 [00:05<00:00, 31.48it/s]"
     ]
    },
    {
     "name": "stdout",
     "output_type": "stream",
     "text": [
      "Epoch 164 - Loss: 0.5828463435173035 - Accuracy: 0.96875\n",
      "Epoch 165 - Loss: 0.5831047296524048 - Accuracy: 0.96875\n",
      "Epoch 166 - Loss: 0.5831018090248108 - Accuracy: 0.96875\n",
      "Epoch 167 - Loss: 0.5828700959682465 - Accuracy: 0.96875\n",
      "Epoch 168 - Loss: 0.5830510258674622 - Accuracy: 0.96875\n",
      "Epoch 169 - Loss: 0.5828762948513031 - Accuracy: 0.96875\n",
      "Epoch 170 - Loss: 0.5827969908714294 - Accuracy: 0.96875\n"
     ]
    },
    {
     "name": "stderr",
     "output_type": "stream",
     "text": [
      " 88%|████████▊ | 177/200 [00:05<00:00, 30.85it/s]"
     ]
    },
    {
     "name": "stdout",
     "output_type": "stream",
     "text": [
      "Epoch 171 - Loss: 0.5830181241035461 - Accuracy: 0.96875\n",
      "Epoch 172 - Loss: 0.5829341113567352 - Accuracy: 0.96875\n",
      "Epoch 173 - Loss: 0.582910418510437 - Accuracy: 0.96875\n",
      "Epoch 174 - Loss: 0.5827891230583191 - Accuracy: 0.96875\n",
      "Epoch 175 - Loss: 0.5828209221363068 - Accuracy: 0.96875\n",
      "Epoch 176 - Loss: 0.5828479826450348 - Accuracy: 0.96875\n",
      "Epoch 177 - Loss: 0.5828966796398163 - Accuracy: 0.96875\n"
     ]
    },
    {
     "name": "stderr",
     "output_type": "stream",
     "text": [
      " 90%|█████████ | 181/200 [00:05<00:00, 30.77it/s]"
     ]
    },
    {
     "name": "stdout",
     "output_type": "stream",
     "text": [
      "Epoch 178 - Loss: 0.5829287469387054 - Accuracy: 0.96875\n",
      "Epoch 179 - Loss: 0.5827973484992981 - Accuracy: 0.96875\n",
      "Epoch 180 - Loss: 0.5827710330486298 - Accuracy: 0.96875\n",
      "Epoch 181 - Loss: 0.5828076004981995 - Accuracy: 0.96875\n",
      "Epoch 182 - Loss: 0.582917720079422 - Accuracy: 0.96875\n",
      "Epoch 183 - Loss: 0.5829283893108368 - Accuracy: 0.96875\n",
      "Epoch 184 - Loss: 0.5827683210372925 - Accuracy: 0.96875\n"
     ]
    },
    {
     "name": "stderr",
     "output_type": "stream",
     "text": [
      " 94%|█████████▍| 189/200 [00:06<00:00, 30.88it/s]"
     ]
    },
    {
     "name": "stdout",
     "output_type": "stream",
     "text": [
      "Epoch 185 - Loss: 0.5827923119068146 - Accuracy: 0.96875\n",
      "Epoch 186 - Loss: 0.582850992679596 - Accuracy: 0.96875\n",
      "Epoch 187 - Loss: 0.5827414691448212 - Accuracy: 0.96875\n",
      "Epoch 188 - Loss: 0.5827934741973877 - Accuracy: 0.96875\n",
      "Epoch 189 - Loss: 0.5828794836997986 - Accuracy: 0.96875\n",
      "Epoch 190 - Loss: 0.5827919840812683 - Accuracy: 0.96875\n",
      "Epoch 191 - Loss: 0.5828421413898468 - Accuracy: 0.96875\n"
     ]
    },
    {
     "name": "stderr",
     "output_type": "stream",
     "text": [
      " 98%|█████████▊| 196/200 [00:06<00:00, 29.52it/s]"
     ]
    },
    {
     "name": "stdout",
     "output_type": "stream",
     "text": [
      "Epoch 192 - Loss: 0.5828203558921814 - Accuracy: 0.96875\n",
      "Epoch 193 - Loss: 0.5828509330749512 - Accuracy: 0.96875\n",
      "Epoch 194 - Loss: 0.5827691853046417 - Accuracy: 0.96875\n",
      "Epoch 195 - Loss: 0.5828280746936798 - Accuracy: 0.96875\n",
      "Epoch 196 - Loss: 0.5827936232089996 - Accuracy: 0.96875\n",
      "Epoch 197 - Loss: 0.5827683210372925 - Accuracy: 0.96875\n"
     ]
    },
    {
     "name": "stderr",
     "output_type": "stream",
     "text": [
      "100%|██████████| 200/200 [00:06<00:00, 31.17it/s]"
     ]
    },
    {
     "name": "stdout",
     "output_type": "stream",
     "text": [
      "Epoch 198 - Loss: 0.5827574133872986 - Accuracy: 0.96875\n",
      "Epoch 199 - Loss: 0.5828702747821808 - Accuracy: 0.96875\n",
      "Epoch 200 - Loss: 0.5827786922454834 - Accuracy: 0.96875\n"
     ]
    },
    {
     "name": "stderr",
     "output_type": "stream",
     "text": [
      "\n"
     ]
    }
   ],
   "source": [
    "loss_ls, accuracy_ls = train_nn(iris_model, train_dataloader, test_dataloader, epochs=200)"
   ]
  },
  {
   "cell_type": "markdown",
   "id": "f8583afb",
   "metadata": {},
   "source": [
    "We then proceed to visualise our test loss and accuracy over the training epochs."
   ]
  },
  {
   "cell_type": "code",
   "execution_count": 68,
   "id": "036ffde7",
   "metadata": {},
   "outputs": [
    {
     "data": {
      "image/png": "[encoded data removed]",
      "text/plain": [
       "<Figure size 640x480 with 1 Axes>"
      ]
     },
     "metadata": {},
     "output_type": "display_data"
    }
   ],
   "source": [
    "sns.lineplot(loss_ls)\n",
    "plt.xlabel(\"Epoch\")\n",
    "plt.ylabel(\"Test Loss\")\n",
    "plt.title(\"Test Loss over epochs\")\n",
    "plt.show();"
   ]
  },
  {
   "cell_type": "code",
   "execution_count": 69,
   "id": "9268734c",
   "metadata": {},
   "outputs": [
    {
     "data": {
      "image/png": "[encoded data removed]",
      "text/plain": [
       "<Figure size 640x480 with 1 Axes>"
      ]
     },
     "metadata": {},
     "output_type": "display_data"
    }
   ],
   "source": [
    "sns.lineplot(accuracy_ls)\n",
    "plt.xlabel(\"Epoch\")\n",
    "plt.ylabel(\"Test Accuracy\")\n",
    "plt.title(\"Test Accuracy of IrisNN over epochs\")\n",
    "plt.show();"
   ]
  },
  {
   "cell_type": "markdown",
   "id": "bcdd5bea",
   "metadata": {},
   "source": [
    "It seems that the model has trained quite well, as we are seeing a decrease in the test loss that stabilises over time. We are also seeing that the model has predicted the datapoints within the test set with good accuracy."
   ]
  },
  {
   "cell_type": "markdown",
   "id": "0f1eb50a",
   "metadata": {},
   "source": [
    "## Section 3: Convolutional Neural Networks"
   ]
  },
  {
   "cell_type": "markdown",
   "id": "5db85a7a",
   "metadata": {},
   "source": [
    "We now move on to convolutional neural networks (CNNs), which are mostly used for vision-based tasks (e.g., object detection). We will only be going through simple examples using the MNIST dataset.\n",
    "\n",
    "This dataset is a dataset containing grayscale images of digits and their respective classes. There are some arguments one is able to pass to the `MNIST` class, such as:\n",
    "1. `root`: Indicates where in the working directory to store the data into\n",
    "1. `train`: Whether to use the training set or the testing set\n",
    "1. `download`: Whether to download the dataset\n",
    "1. `transform`: Transformations to be done on the dataset (one usually wants the dataset in a tensor format, so we use `ToTensor()` here)."
   ]
  },
  {
   "cell_type": "code",
   "execution_count": 4,
   "id": "e47c0e54",
   "metadata": {},
   "outputs": [],
   "source": [
    "train_mnist = torchvision.datasets.MNIST(root=\"./data\", train=True, download=True, transform=torchvision.transforms.ToTensor())\n",
    "train_mnist_dataloader = torch.utils.data.DataLoader(train_mnist, batch_size=16, shuffle=True)\n",
    "\n",
    "test_mnist = torchvision.datasets.MNIST(root=\"./data\", train=False, download=True, transform=torchvision.transforms.ToTensor())\n",
    "test_mnist_dataloader = torch.utils.data.DataLoader(test_mnist, batch_size=16, shuffle=False)"
   ]
  },
  {
   "cell_type": "markdown",
   "id": "6a730621",
   "metadata": {},
   "source": [
    "If you are unable to download the datasets (on Mac) you can do this:\n",
    "1. Head to `/Applications/Python 3.12`\n",
    "2. Double click on the `Install Certificates.command` file and allow it to run"
   ]
  },
  {
   "cell_type": "markdown",
   "id": "09e515b3",
   "metadata": {},
   "source": [
    "We can see the first sample used by using the following command:"
   ]
  },
  {
   "cell_type": "code",
   "execution_count": 5,
   "id": "0b9d2c55",
   "metadata": {},
   "outputs": [
    {
     "data": {
      "image/png": "[encoded data removed]",
      "text/plain": [
       "<Figure size 640x480 with 1 Axes>"
      ]
     },
     "metadata": {},
     "output_type": "display_data"
    },
    {
     "data": {
      "text/plain": [
       "5"
      ]
     },
     "execution_count": 5,
     "metadata": {},
     "output_type": "execute_result"
    }
   ],
   "source": [
    "plt.imshow(train_mnist[0][0].squeeze(), cmap=\"gray\")\n",
    "plt.show();\n",
    "train_mnist[0][1]"
   ]
  },
  {
   "cell_type": "markdown",
   "id": "3fa4174c",
   "metadata": {},
   "source": [
    "As seen above, we display what appears to be a digit `5` as well as the ground truth, which is indeed the digit `5`."
   ]
  },
  {
   "cell_type": "markdown",
   "id": "3d8855e7",
   "metadata": {},
   "source": [
    "### Task 3.1: Simple CNNs in PyTorch"
   ]
  },
  {
   "cell_type": "markdown",
   "id": "302d67e2",
   "metadata": {},
   "source": [
    "Similar to normal neural networks, we can use CNNs to predict the class of an image.\n",
    "\n",
    "However, there are some additional things that we need to take care of, including the use of `nn.Conv2d()` and `nn.MaxPool2d()` layers instead of only using `nn.Linear()` layers.\n",
    "\n",
    "Complete the `SimpleCNN` class below."
   ]
  },
  {
   "cell_type": "code",
   "execution_count": 6,
   "id": "f2f69d41",
   "metadata": {},
   "outputs": [],
   "source": [
    "class SimpleCNN(nn.Module):\n",
    "\tdef __init__(self, output_dim: int = 10):\n",
    "\t\tsuper().__init__()\n",
    "\n",
    "\t\tself.conv1 = nn.Conv2d(in_channels=1, out_channels=32, kernel_size=3)\n",
    "\t\tself.maxpool1 = nn.MaxPool2d(kernel_size=3)\n",
    "\t\tself.conv2 = nn.Conv2d(in_channels=32, out_channels=64, kernel_size=3)\n",
    "\t\tself.maxpool2 = nn.MaxPool2d(kernel_size=3)\n",
    "\t\tself.fc1 = nn.Linear(in_features=256, out_features=128)\n",
    "\t\tself.fc2 = nn.Linear(in_features=128, out_features=output_dim)\n",
    "\t\tself.softmax = nn.Softmax(dim=1)\n",
    "\t\n",
    "\tdef forward(self, x: torch.Tensor) -> torch.Tensor:\n",
    "\t\tx = self.conv1(x)\n",
    "\t\tx = self.maxpool1(x)\n",
    "\t\tx = torch.relu(x)\n",
    "\n",
    "\t\tx = self.conv2(x)\n",
    "\t\tx = self.maxpool2(x)\n",
    "\t\tx = torch.relu(x)\n",
    "\n",
    "\t\tx = torch.flatten(x, 1) #flatten the tensor? Prepares data for the fully connected layers:\n",
    "\t\t# Convolutional layers output 3D tensors: (batch_size, channels, height, width).\n",
    "\t\t# Fully connected layers expect 2D tensors: (batch_size, features).\n",
    "\n",
    "\t\tx = self.fc1(x)\n",
    "\t\tx=torch.relu(x)\n",
    "\n",
    "\t\tx = self.fc2(x)\n",
    "\t\treturn x #no softmax here because CrossEntropyLoss does it for us"
   ]
  },
  {
   "cell_type": "markdown",
   "id": "385ee614",
   "metadata": {},
   "source": [
    "### Task 3.2: CNN Training Loop"
   ]
  },
  {
   "cell_type": "markdown",
   "id": "e2c40144",
   "metadata": {},
   "source": [
    "As with the simple neural network, we ought to also design the training loop for the CNN. The difference here is that we would like to use GPU accelerators whenever possible, so we have to set the `device` where we will train the model and send the data accordingly."
   ]
  },
  {
   "cell_type": "code",
   "execution_count": 7,
   "id": "4aeae027",
   "metadata": {},
   "outputs": [
    {
     "data": {
      "text/plain": [
       "device(type='cuda')"
      ]
     },
     "execution_count": 7,
     "metadata": {},
     "output_type": "execute_result"
    }
   ],
   "source": [
    "device = torch.device(\"cuda\" if torch.cuda.is_available() else \"cpu\")\n",
    "device"
   ]
  },
  {
   "cell_type": "code",
   "execution_count": 8,
   "id": "972a8db1",
   "metadata": {},
   "outputs": [
    {
     "data": {
      "text/plain": [
       "SimpleCNN(\n",
       "  (conv1): Conv2d(1, 32, kernel_size=(3, 3), stride=(1, 1))\n",
       "  (maxpool1): MaxPool2d(kernel_size=3, stride=3, padding=0, dilation=1, ceil_mode=False)\n",
       "  (conv2): Conv2d(32, 64, kernel_size=(3, 3), stride=(1, 1))\n",
       "  (maxpool2): MaxPool2d(kernel_size=3, stride=3, padding=0, dilation=1, ceil_mode=False)\n",
       "  (fc1): Linear(in_features=256, out_features=128, bias=True)\n",
       "  (fc2): Linear(in_features=128, out_features=10, bias=True)\n",
       "  (softmax): Softmax(dim=1)\n",
       ")"
      ]
     },
     "execution_count": 8,
     "metadata": {},
     "output_type": "execute_result"
    }
   ],
   "source": [
    "cnn = SimpleCNN(output_dim=10)\n",
    "cnn"
   ]
  },
  {
   "cell_type": "code",
   "execution_count": 9,
   "id": "09efc466",
   "metadata": {},
   "outputs": [],
   "source": [
    "optimizer = torch.optim.Adam(cnn.parameters(), lr=0.01)\n",
    "criterion = nn.CrossEntropyLoss()"
   ]
  },
  {
   "cell_type": "markdown",
   "id": "7735d60d",
   "metadata": {},
   "source": [
    "We now define the training loop for the CNN. This will be largely similar to the neural network training loop as seen before."
   ]
  },
  {
   "cell_type": "code",
   "execution_count": 10,
   "id": "a5977575",
   "metadata": {},
   "outputs": [],
   "source": [
    "def train_cnn(model: nn.Module, train_dataloader: torch.utils.data.DataLoader, test_dataloader: torch.utils.data.DataLoader, epochs: int = 1000):\n",
    "\t# Convert everything to tensors first\n",
    "\tloss_ls = []\n",
    "\taccuracy_ls = []\n",
    "\tmodel = model.to(device)\n",
    "\t\n",
    "\n",
    "\tfor epoch in tqdm(range(epochs)):\n",
    "\t\tmodel.train()\n",
    "\t\tfor features, target in train_dataloader:\n",
    "\t\t\tfeatures, target = features.to(device), target.to(device)\n",
    "\t\t\toptimizer.zero_grad()\n",
    "\t\t\toutput = model(features)\n",
    "\t\t\tloss = criterion(output, target)\n",
    "\t\t\tloss.backward()\n",
    "\t\t\toptimizer.step()\n",
    "\t\t\t\n",
    "\n",
    "\t\tmodel.eval()\n",
    "\t\twith torch.no_grad():\n",
    "\t\t\ttotal_loss = 0\n",
    "\t\t\tcombined = []\n",
    "\t\t\tfor features, target in test_dataloader:\n",
    "\t\t\t\tfeatures, target = features.to(device), target.to(device)\n",
    "\t\t\t\toutput = model(features)\n",
    "\t\t\t\tloss = criterion(output, target)\n",
    "\t\t\t\ttotal_loss += loss.item()\n",
    "\t\t\t\tlabel_out = torch.argmax(output, dim=1) #argmax returns the index of the maximum value in the tensor\n",
    "\t\t\t\tcombined.append((label_out, target))\n",
    "\t\t\t\t\n",
    "\t\t\taccuracy = [accuracy_score(c[0].cpu().numpy(), c[1].cpu().numpy()) for c in combined]\n",
    "\t\t\tloss_ls.append(total_loss / len(test_dataloader))\n",
    "\t\t\taccuracy_ls.append(np.mean(accuracy))\n",
    "\t\t\tprint(f\"Epoch {epoch + 1} - Loss: {total_loss / len(test_dataloader)} - Accuracy: {np.mean(accuracy)}\")\n",
    "\treturn loss_ls, accuracy_ls"
   ]
  },
  {
   "cell_type": "code",
   "execution_count": null,
   "id": "ff4fdf05",
   "metadata": {},
   "outputs": [
    {
     "name": "stderr",
     "output_type": "stream",
     "text": [
      "  5%|▌         | 1/20 [00:18<05:53, 18.59s/it]"
     ]
    },
    {
     "name": "stdout",
     "output_type": "stream",
     "text": [
      "Epoch 1 - Loss: 0.16626636821739377 - Accuracy: 0.9486\n"
     ]
    },
    {
     "name": "stderr",
     "output_type": "stream",
     "text": [
      " 10%|█         | 2/20 [00:36<05:27, 18.20s/it]"
     ]
    },
    {
     "name": "stdout",
     "output_type": "stream",
     "text": [
      "Epoch 2 - Loss: 0.1397326469244901 - Accuracy: 0.9592\n"
     ]
    },
    {
     "name": "stderr",
     "output_type": "stream",
     "text": [
      " 15%|█▌        | 3/20 [00:54<05:08, 18.12s/it]"
     ]
    },
    {
     "name": "stdout",
     "output_type": "stream",
     "text": [
      "Epoch 3 - Loss: 0.14179706015150295 - Accuracy: 0.9609\n"
     ]
    },
    {
     "name": "stderr",
     "output_type": "stream",
     "text": [
      " 20%|██        | 4/20 [01:12<04:51, 18.25s/it]"
     ]
    },
    {
     "name": "stdout",
     "output_type": "stream",
     "text": [
      "Epoch 4 - Loss: 0.15216233045857808 - Accuracy: 0.9596\n"
     ]
    },
    {
     "name": "stderr",
     "output_type": "stream",
     "text": [
      " 25%|██▌       | 5/20 [01:31<04:34, 18.29s/it]"
     ]
    },
    {
     "name": "stdout",
     "output_type": "stream",
     "text": [
      "Epoch 5 - Loss: 0.14816980123305692 - Accuracy: 0.9584\n"
     ]
    },
    {
     "name": "stderr",
     "output_type": "stream",
     "text": [
      " 30%|███       | 6/20 [01:49<04:15, 18.24s/it]"
     ]
    },
    {
     "name": "stdout",
     "output_type": "stream",
     "text": [
      "Epoch 6 - Loss: 0.17673243864249089 - Accuracy: 0.9558\n"
     ]
    },
    {
     "name": "stderr",
     "output_type": "stream",
     "text": [
      " 35%|███▌      | 7/20 [02:07<03:56, 18.21s/it]"
     ]
    },
    {
     "name": "stdout",
     "output_type": "stream",
     "text": [
      "Epoch 7 - Loss: 0.13175150774237118 - Accuracy: 0.9655\n"
     ]
    },
    {
     "name": "stderr",
     "output_type": "stream",
     "text": [
      " 40%|████      | 8/20 [02:25<03:38, 18.21s/it]"
     ]
    },
    {
     "name": "stdout",
     "output_type": "stream",
     "text": [
      "Epoch 8 - Loss: 0.13772127797110878 - Accuracy: 0.9636\n"
     ]
    },
    {
     "name": "stderr",
     "output_type": "stream",
     "text": [
      " 45%|████▌     | 9/20 [02:44<03:20, 18.21s/it]"
     ]
    },
    {
     "name": "stdout",
     "output_type": "stream",
     "text": [
      "Epoch 9 - Loss: 0.1647244223466143 - Accuracy: 0.9571\n"
     ]
    },
    {
     "name": "stderr",
     "output_type": "stream",
     "text": [
      " 50%|█████     | 10/20 [03:02<03:01, 18.18s/it]"
     ]
    },
    {
     "name": "stdout",
     "output_type": "stream",
     "text": [
      "Epoch 10 - Loss: 0.27753347671501033 - Accuracy: 0.938\n"
     ]
    },
    {
     "name": "stderr",
     "output_type": "stream",
     "text": [
      " 55%|█████▌    | 11/20 [03:20<02:44, 18.24s/it]"
     ]
    },
    {
     "name": "stdout",
     "output_type": "stream",
     "text": [
      "Epoch 11 - Loss: 0.12709192003823408 - Accuracy: 0.9711\n"
     ]
    },
    {
     "name": "stderr",
     "output_type": "stream",
     "text": [
      " 60%|██████    | 12/20 [03:38<02:26, 18.29s/it]"
     ]
    },
    {
     "name": "stdout",
     "output_type": "stream",
     "text": [
      "Epoch 12 - Loss: 0.11859638647164393 - Accuracy: 0.969\n"
     ]
    },
    {
     "name": "stderr",
     "output_type": "stream",
     "text": [
      " 65%|██████▌   | 13/20 [03:57<02:07, 18.28s/it]"
     ]
    },
    {
     "name": "stdout",
     "output_type": "stream",
     "text": [
      "Epoch 13 - Loss: 0.1388843514318578 - Accuracy: 0.9637\n"
     ]
    },
    {
     "name": "stderr",
     "output_type": "stream",
     "text": [
      " 70%|███████   | 14/20 [04:15<01:49, 18.17s/it]"
     ]
    },
    {
     "name": "stdout",
     "output_type": "stream",
     "text": [
      "Epoch 14 - Loss: 0.12850705703232962 - Accuracy: 0.9681\n"
     ]
    },
    {
     "name": "stderr",
     "output_type": "stream",
     "text": [
      " 75%|███████▌  | 15/20 [04:33<01:31, 18.28s/it]"
     ]
    },
    {
     "name": "stdout",
     "output_type": "stream",
     "text": [
      "Epoch 15 - Loss: 0.12394252769221785 - Accuracy: 0.9682\n"
     ]
    },
    {
     "name": "stderr",
     "output_type": "stream",
     "text": [
      " 80%|████████  | 16/20 [04:52<01:13, 18.34s/it]"
     ]
    },
    {
     "name": "stdout",
     "output_type": "stream",
     "text": [
      "Epoch 16 - Loss: 0.14577878102939013 - Accuracy: 0.9648\n"
     ]
    },
    {
     "name": "stderr",
     "output_type": "stream",
     "text": [
      " 85%|████████▌ | 17/20 [05:10<00:54, 18.32s/it]"
     ]
    },
    {
     "name": "stdout",
     "output_type": "stream",
     "text": [
      "Epoch 17 - Loss: 0.14099000940592232 - Accuracy: 0.9666\n"
     ]
    }
   ],
   "source": [
    "train_cnn(cnn, train_mnist_dataloader, test_mnist_dataloader, epochs=20)"
   ]
  },
  {
   "cell_type": "markdown",
   "id": "aa1fba3a",
   "metadata": {},
   "source": [
    "We see that the model training has proceeded very well, achieving more than 99% test accuracy after only 10 iterations."
   ]
  },
  {
   "cell_type": "markdown",
   "id": "4995587d",
   "metadata": {},
   "source": [
    "### Task 3.3: Conclusion\n",
    "\n",
    "What are some things that you've learnt from this tutorial? Are there any interesting observations that you have made?\n",
    "\n",
    "Write your thoughts in the cell below."
   ]
  },
  {
   "cell_type": "markdown",
   "id": "81a1844a",
   "metadata": {},
   "source": [
    "**Write your thoughts here:**"
   ]
  }
 ],
 "metadata": {
  "kernelspec": {
   "display_name": "CS2109S_mini",
   "language": "python",
   "name": "python3"
  },
  "language_info": {
   "codemirror_mode": {
    "name": "ipython",
    "version": 3
   },
   "file_extension": ".py",
   "mimetype": "text/x-python",
   "name": "python",
   "nbconvert_exporter": "python",
   "pygments_lexer": "ipython3",
   "version": "3.12.9"
  }
 },
 "nbformat": 4,
 "nbformat_minor": 5
}
