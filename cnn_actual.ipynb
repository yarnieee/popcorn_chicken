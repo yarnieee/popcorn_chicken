{
 "cells": [
  {
   "cell_type": "markdown",
   "id": "a0e34d8d",
   "metadata": {},
   "source": [
    "sources:\n",
    "\n",
    "https://www.kaggle.com/datasets/birdy654/cifake-real-and-ai-generated-synthetic-images?resource=download\n",
    "\n",
    "https://medium.com/@vineethrajesh2/loading-in-your-own-image-datasets-in-pytorch-9e4064171074\n",
    "\n",
    "https://www.kaggle.com/code/agnesa/efficientnet-detect-ai-vs-human-generated-images"
   ]
  },
  {
   "cell_type": "code",
   "execution_count": null,
   "id": "eb9439d0",
   "metadata": {},
   "outputs": [],
   "source": [
    "#assorted\n",
    "import numpy as np\n",
    "import os\n",
    "import psutil\n",
    "import matplotlib.pyplot as plt\n",
    "import seaborn as sns #literally only used for the lineplot? surely plt can do that too\n",
    "from tqdm import tqdm\n",
    "import random\n",
    "\n",
    "#torch model\n",
    "import torch\n",
    "from torchvision.datasets import ImageFolder\n",
    "from torchvision import transforms\n",
    "from torch.utils.data import DataLoader\n",
    "from torch.utils.data import Subset\n",
    "import torch.nn as nn\n",
    "import torch.nn.functional as F #difference between that and torch.relu or torch.nn.Module.maxpool2d etc?\n",
    "\n",
    "#metrics\n",
    "from sklearn.metrics import f1_score\n",
    "from sklearn.metrics import confusion_matrix\n",
    "from sklearn.metrics import classification_report\n",
    "\n",
    "#torchcam\n",
    "from torchcam.methods import SmoothGradCAMpp\n",
    "from torchcam.utils import overlay_mask\n",
    "from torchvision.transforms.functional import to_pil_image"
   ]
  },
  {
   "cell_type": "code",
   "execution_count": 2,
   "id": "72928106",
   "metadata": {},
   "outputs": [],
   "source": [
    "#transforms\n",
    "train_transforms = transforms.Compose([\n",
    "    transforms.ToTensor(), #can also do some resizing and normalizing\n",
    "    #transforms.Normalize((0.5, 0.5, 0.5), (0.5, 0.5, 0.5)), #mean and std for normalization\n",
    "\ttransforms.RandomHorizontalFlip(), #randomly flip the image horizontally\n",
    "])\n",
    "\n",
    "test_transforms = transforms.Compose([\n",
    "    transforms.ToTensor(), #can also do some resizing and normalizing\n",
    "    #transforms.Normalize((0.5, 0.5, 0.5), (0.5, 0.5, 0.5)),\n",
    "])"
   ]
  },
  {
   "cell_type": "code",
   "execution_count": 3,
   "id": "973fc812",
   "metadata": {},
   "outputs": [
    {
     "name": "stdout",
     "output_type": "stream",
     "text": [
      "cores: 16, device: cuda, batch_size: 128, epochs: 60, learning rate: 0.001\n"
     ]
    }
   ],
   "source": [
    "#get num_workers, device, batch size\n",
    "def count_workers() -> int: \n",
    "\ttry:\n",
    "\t\tvCPUs = os.cpu_count() \n",
    "\t\tif vCPUs is None: \n",
    "\t\t\tvCPUs = psutil.cpu_count(logical = False)\n",
    "\t\treturn vCPUs\n",
    "\texcept Exception as e:\n",
    "\t\treturn 1\n",
    "\t\n",
    "\n",
    "workers=count_workers()\n",
    "device = torch.device(\"cuda\" if torch.cuda.is_available() else \"cpu\")\n",
    "batch_size = 128\n",
    "epochs = 60\n",
    "lr=0.001\n",
    "\n",
    "print(f\"cores: {workers}, device: {device}, batch_size: {batch_size}, epochs: {epochs}, learning rate: {lr}\")"
   ]
  },
  {
   "cell_type": "code",
   "execution_count": 4,
   "id": "7bf240f9",
   "metadata": {},
   "outputs": [],
   "source": [
    "#load actual data\n",
    "train_data = ImageFolder(\"../data_test/train_subset\", transform=train_transforms)\n",
    "test_data = ImageFolder(\"../data_test/test_subset\", transform=test_transforms)\n",
    "\n",
    "#dataloaders\n",
    "train_loader = DataLoader(\n",
    "    train_data,\n",
    "    batch_size=batch_size,\n",
    "    shuffle=True,\n",
    "    #collate_fn=collate, #collate_fn is used to combine multiple samples into a batch\n",
    "    num_workers=workers, #number of workers to LOAD data in parallel (not to crunch numbers. for some reason it's different)\n",
    "    persistent_workers=True,\n",
    "    pin_memory=True, #pin_memory is used to speed up data transfer to GPU\n",
    "    pin_memory_device=str(device),\n",
    "\t)\n",
    "test_loader = DataLoader(\n",
    "    test_data,\n",
    "    batch_size=batch_size,\n",
    "    shuffle=False,\n",
    "    num_workers=workers,\n",
    "    persistent_workers=True,\n",
    "    pin_memory=True,\n",
    "    pin_memory_device=str(device),\n",
    "    )"
   ]
  },
  {
   "cell_type": "code",
   "execution_count": 5,
   "id": "42beacf8",
   "metadata": {},
   "outputs": [
    {
     "name": "stdout",
     "output_type": "stream",
     "text": [
      "4000\n",
      "800\n",
      "<class 'torchvision.datasets.folder.ImageFolder'>\n",
      "torch.Size([3, 32, 32])\n",
      "(tensor([[[0.3373, 0.3216, 0.3294,  ..., 0.3922, 0.3804, 0.3608],\n",
      "         [0.3333, 0.3333, 0.3529,  ..., 0.4078, 0.3765, 0.3529],\n",
      "         [0.3490, 0.3608, 0.3922,  ..., 0.4078, 0.3843, 0.3647],\n",
      "         ...,\n",
      "         [0.2667, 0.2549, 0.2549,  ..., 0.2941, 0.2902, 0.2863],\n",
      "         [0.2824, 0.2667, 0.2549,  ..., 0.2824, 0.2667, 0.2549],\n",
      "         [0.2784, 0.2588, 0.2431,  ..., 0.2196, 0.2000, 0.1843]],\n",
      "\n",
      "        [[0.2588, 0.2431, 0.2431,  ..., 0.3529, 0.3216, 0.2941],\n",
      "         [0.2549, 0.2549, 0.2667,  ..., 0.3686, 0.3176, 0.2941],\n",
      "         [0.2627, 0.2745, 0.3020,  ..., 0.3765, 0.3333, 0.3137],\n",
      "         ...,\n",
      "         [0.1882, 0.1804, 0.1686,  ..., 0.1961, 0.1922, 0.1843],\n",
      "         [0.2157, 0.2000, 0.1804,  ..., 0.1922, 0.1765, 0.1647],\n",
      "         [0.2157, 0.1961, 0.1725,  ..., 0.1294, 0.1098, 0.0941]],\n",
      "\n",
      "        [[0.2235, 0.2000, 0.2000,  ..., 0.2157, 0.2000, 0.1765],\n",
      "         [0.2118, 0.2118, 0.2157,  ..., 0.2275, 0.1882, 0.1647],\n",
      "         [0.2118, 0.2196, 0.2471,  ..., 0.2235, 0.1961, 0.1765],\n",
      "         ...,\n",
      "         [0.1451, 0.1255, 0.1255,  ..., 0.1098, 0.1137, 0.1176],\n",
      "         [0.1451, 0.1216, 0.1137,  ..., 0.1216, 0.1137, 0.1020],\n",
      "         [0.1255, 0.1059, 0.0863,  ..., 0.0588, 0.0549, 0.0392]]]), 0)\n"
     ]
    }
   ],
   "source": [
    "#check how many images in the dataset\n",
    "print(len(train_data)) #100k\n",
    "print(len(test_data)) #20k\n",
    "\n",
    "#check the classes\n",
    "print(type(train_data)) #torchvision.datasets.folder.ImageFolder\n",
    "# print(train_data.classes) #0 is fake and 1 is real\n",
    "# print(test_data.classes)\n",
    "\n",
    "#check the shape of the images\n",
    "print(train_data[0][0].shape) #3 channels, 32 x 32 px\n",
    "print(train_data[0]) #0 or 1, fake or real"
   ]
  },
  {
   "cell_type": "code",
   "execution_count": 147,
   "id": "c6b796c4",
   "metadata": {},
   "outputs": [
    {
     "data": {
      "image/png": "[encoded data removed]",
      "text/plain": [
       "<Figure size 640x480 with 5 Axes>"
      ]
     },
     "metadata": {},
     "output_type": "display_data"
    }
   ],
   "source": [
    "#print n images in train_data starting from starting_index\n",
    "n_images = 5\n",
    "starting_index=3908\n",
    "for i in range(n_images):\n",
    "\tplt.subplot(1, 5, i + 1) #subplot with 1 row and 5 columns\n",
    "\tplt.imshow(train_data[starting_index + i][0].permute(1, 2, 0)) #permute to get channels last\n",
    "\tplt.title(train_data[starting_index + i][1]) #show the label of the image, 0 is the index of the image\n",
    "\tplt.axis('off') #remove axis\n",
    "plt.show()"
   ]
  },
  {
   "cell_type": "code",
   "execution_count": 148,
   "id": "8b592c7c",
   "metadata": {},
   "outputs": [],
   "source": [
    "class CNN(nn.Module):\n",
    "    def __init__(self):\n",
    "        super().__init__()\n",
    "        self.conv1 = nn.Conv2d(3, 6, 5)\n",
    "        self.pool = nn.MaxPool2d(2, 2)\n",
    "        self.conv2 = nn.Conv2d(6, 16, 5)\n",
    "        self.fc1 = nn.Linear(16 * 5 * 5, 120)\n",
    "        self.fc2 = nn.Linear(120, 84)\n",
    "        self.fc3 = nn.Linear(84, 10)\n",
    "\n",
    "    def forward(self, x):\n",
    "        x = self.pool(F.relu(self.conv1(x)))\n",
    "        x = self.pool(F.relu(self.conv2(x)))\n",
    "        x = torch.flatten(x, 1) # flatten all dimensions except batch\n",
    "        x = F.relu(self.fc1(x))\n",
    "        x = F.relu(self.fc2(x))\n",
    "        x = self.fc3(x)\n",
    "        return x"
   ]
  },
  {
   "cell_type": "code",
   "execution_count": 149,
   "id": "972a8db1",
   "metadata": {},
   "outputs": [
    {
     "data": {
      "text/plain": [
       "CNN(\n",
       "  (conv1): Conv2d(3, 6, kernel_size=(5, 5), stride=(1, 1))\n",
       "  (pool): MaxPool2d(kernel_size=2, stride=2, padding=0, dilation=1, ceil_mode=False)\n",
       "  (conv2): Conv2d(6, 16, kernel_size=(5, 5), stride=(1, 1))\n",
       "  (fc1): Linear(in_features=400, out_features=120, bias=True)\n",
       "  (fc2): Linear(in_features=120, out_features=84, bias=True)\n",
       "  (fc3): Linear(in_features=84, out_features=10, bias=True)\n",
       ")"
      ]
     },
     "execution_count": 149,
     "metadata": {},
     "output_type": "execute_result"
    }
   ],
   "source": [
    "#initialize model\n",
    "model = CNN()\n",
    "model"
   ]
  },
  {
   "cell_type": "code",
   "execution_count": 150,
   "id": "09efc466",
   "metadata": {},
   "outputs": [],
   "source": [
    "optimizer = torch.optim.AdamW(model.parameters(), lr=lr, weight_decay=0.01)\n",
    "criterion = nn.CrossEntropyLoss()"
   ]
  },
  {
   "cell_type": "code",
   "execution_count": 151,
   "id": "a5977575",
   "metadata": {},
   "outputs": [],
   "source": [
    "#training loop\n",
    "def train_cnn(model: nn.Module, train_loader, test_loader, epochs: int = 1000):\n",
    "\tprint(f\"Training on {device}\")\n",
    "\t# Convert everything to tensors first\n",
    "\tloss_ls = []\n",
    "\tf1_ls = []\n",
    "\tmodel = model.to(device)\n",
    "\n",
    "\tfor epoch in tqdm(range(epochs)):\n",
    "\t\tmodel.train()\n",
    "\t\tfor features, target in train_loader:\n",
    "\t\t\tfeatures, target = features.to(device), target.to(device)\t\n",
    "\t\t\toptimizer.zero_grad()\n",
    "\t\t\toutputs = model(features)\n",
    "\t\t\tloss = criterion(outputs, target)\n",
    "\t\t\tloss.backward()\n",
    "\t\t\toptimizer.step()\n",
    "\n",
    "\t\tmodel.eval()\n",
    "\t\t#with torch.no_grad():\n",
    "\t\ttotal_loss = 0\n",
    "\t\tcombined = []\n",
    "\t\tfor features, target in test_loader:\n",
    "\t\t\tfeatures, target = features.to(device), target.to(device)\n",
    "\t\t\toutput = model(features)\n",
    "\t\t\tloss = criterion(output, target)\n",
    "\t\t\ttotal_loss += loss.item()\n",
    "\t\t\tlabel_out = torch.argmax(output, dim=1) #argmax returns the index of the maximum value in the tensor\n",
    "\t\t\tcombined.append((label_out, target))\n",
    "\t\t\t\n",
    "\t\tf1 = [f1_score(c[0].cpu().numpy(), c[1].cpu().numpy()) for c in combined]\n",
    "\t\tloss_ls.append(total_loss / len(test_loader))\n",
    "\t\tf1_ls.append(np.mean(f1))\n",
    "\t\tprint(f\"Epoch {epoch + 1} - Loss: {total_loss / len(test_loader)} - F1 Score: {np.mean(f1)}\")\n",
    "\treturn loss_ls, f1_ls"
   ]
  },
  {
   "cell_type": "code",
   "execution_count": 152,
   "id": "ff4fdf05",
   "metadata": {},
   "outputs": [
    {
     "name": "stdout",
     "output_type": "stream",
     "text": [
      "Training on cuda\n"
     ]
    },
    {
     "name": "stderr",
     "output_type": "stream",
     "text": [
      "  2%|▏         | 1/60 [01:07<1:06:14, 67.37s/it]"
     ]
    },
    {
     "name": "stdout",
     "output_type": "stream",
     "text": [
      "Epoch 1 - Loss: 0.685910484620503 - F1 Score: 0.5619047619047619\n"
     ]
    },
    {
     "name": "stderr",
     "output_type": "stream",
     "text": [
      "c:\\Users\\yiann\\miniconda3\\envs\\ML\\Lib\\site-packages\\sklearn\\metrics\\_classification.py:1565: UndefinedMetricWarning: F-score is ill-defined and being set to 0.0 due to no true nor predicted samples. Use `zero_division` parameter to control this behavior.\n",
      "  _warn_prf(average, modifier, f\"{metric.capitalize()} is\", len(result))\n",
      "c:\\Users\\yiann\\miniconda3\\envs\\ML\\Lib\\site-packages\\sklearn\\metrics\\_classification.py:1565: UndefinedMetricWarning: F-score is ill-defined and being set to 0.0 due to no true nor predicted samples. Use `zero_division` parameter to control this behavior.\n",
      "  _warn_prf(average, modifier, f\"{metric.capitalize()} is\", len(result))\n",
      "c:\\Users\\yiann\\miniconda3\\envs\\ML\\Lib\\site-packages\\sklearn\\metrics\\_classification.py:1565: UndefinedMetricWarning: F-score is ill-defined and being set to 0.0 due to no true nor predicted samples. Use `zero_division` parameter to control this behavior.\n",
      "  _warn_prf(average, modifier, f\"{metric.capitalize()} is\", len(result))\n",
      "  3%|▎         | 2/60 [01:08<27:11, 28.13s/it]  "
     ]
    },
    {
     "name": "stdout",
     "output_type": "stream",
     "text": [
      "Epoch 2 - Loss: 0.7368269222123283 - F1 Score: 0.0\n"
     ]
    },
    {
     "name": "stderr",
     "output_type": "stream",
     "text": [
      "  5%|▌         | 3/60 [01:08<14:39, 15.44s/it]"
     ]
    },
    {
     "name": "stdout",
     "output_type": "stream",
     "text": [
      "Epoch 3 - Loss: 0.6957409467015948 - F1 Score: 0.12463013551877444\n"
     ]
    },
    {
     "name": "stderr",
     "output_type": "stream",
     "text": [
      "  7%|▋         | 4/60 [01:08<08:51,  9.49s/it]"
     ]
    },
    {
     "name": "stdout",
     "output_type": "stream",
     "text": [
      "Epoch 4 - Loss: 0.6803470083645412 - F1 Score: 0.2518044197768803\n"
     ]
    },
    {
     "name": "stderr",
     "output_type": "stream",
     "text": [
      "  8%|▊         | 5/60 [01:09<05:43,  6.24s/it]"
     ]
    },
    {
     "name": "stdout",
     "output_type": "stream",
     "text": [
      "Epoch 5 - Loss: 0.6426227603639875 - F1 Score: 0.4010724170140191\n"
     ]
    },
    {
     "name": "stderr",
     "output_type": "stream",
     "text": [
      " 10%|█         | 6/60 [01:09<03:48,  4.24s/it]"
     ]
    },
    {
     "name": "stdout",
     "output_type": "stream",
     "text": [
      "Epoch 6 - Loss: 0.679428539105824 - F1 Score: 0.27756962451978134\n"
     ]
    },
    {
     "name": "stderr",
     "output_type": "stream",
     "text": [
      " 12%|█▏        | 7/60 [01:09<02:37,  2.97s/it]"
     ]
    },
    {
     "name": "stdout",
     "output_type": "stream",
     "text": [
      "Epoch 7 - Loss: 0.6643644656453814 - F1 Score: 0.3187010759669023\n"
     ]
    },
    {
     "name": "stderr",
     "output_type": "stream",
     "text": [
      " 13%|█▎        | 8/60 [01:10<01:51,  2.14s/it]"
     ]
    },
    {
     "name": "stdout",
     "output_type": "stream",
     "text": [
      "Epoch 8 - Loss: 0.5668493594442096 - F1 Score: 0.5107156114893059\n"
     ]
    },
    {
     "name": "stderr",
     "output_type": "stream",
     "text": [
      " 15%|█▌        | 9/60 [01:10<01:21,  1.59s/it]"
     ]
    },
    {
     "name": "stdout",
     "output_type": "stream",
     "text": [
      "Epoch 9 - Loss: 0.5732428729534149 - F1 Score: 0.4656611206268741\n"
     ]
    },
    {
     "name": "stderr",
     "output_type": "stream",
     "text": [
      " 17%|█▋        | 10/60 [01:11<01:00,  1.21s/it]"
     ]
    },
    {
     "name": "stdout",
     "output_type": "stream",
     "text": [
      "Epoch 10 - Loss: 0.5500435616288867 - F1 Score: 0.5090613412307271\n"
     ]
    },
    {
     "name": "stderr",
     "output_type": "stream",
     "text": [
      " 18%|█▊        | 11/60 [01:11<00:46,  1.05it/s]"
     ]
    },
    {
     "name": "stdout",
     "output_type": "stream",
     "text": [
      "Epoch 11 - Loss: 0.6094673361097064 - F1 Score: 0.40293605862314047\n"
     ]
    },
    {
     "name": "stderr",
     "output_type": "stream",
     "text": [
      " 20%|██        | 12/60 [01:11<00:37,  1.29it/s]"
     ]
    },
    {
     "name": "stdout",
     "output_type": "stream",
     "text": [
      "Epoch 12 - Loss: 0.535073093005589 - F1 Score: 0.5095689831734913\n"
     ]
    },
    {
     "name": "stderr",
     "output_type": "stream",
     "text": [
      " 22%|██▏       | 13/60 [01:12<00:31,  1.51it/s]"
     ]
    },
    {
     "name": "stdout",
     "output_type": "stream",
     "text": [
      "Epoch 13 - Loss: 0.5333851831299918 - F1 Score: 0.49744144625275494\n"
     ]
    },
    {
     "name": "stderr",
     "output_type": "stream",
     "text": [
      " 23%|██▎       | 14/60 [01:12<00:25,  1.79it/s]"
     ]
    },
    {
     "name": "stdout",
     "output_type": "stream",
     "text": [
      "Epoch 14 - Loss: 0.5254009621483939 - F1 Score: 0.4982362989429735\n"
     ]
    },
    {
     "name": "stderr",
     "output_type": "stream",
     "text": [
      " 25%|██▌       | 15/60 [01:12<00:22,  2.04it/s]"
     ]
    },
    {
     "name": "stdout",
     "output_type": "stream",
     "text": [
      "Epoch 15 - Loss: 0.5191405117511749 - F1 Score: 0.5243468737185586\n"
     ]
    },
    {
     "name": "stderr",
     "output_type": "stream",
     "text": [
      " 27%|██▋       | 16/60 [01:13<00:19,  2.28it/s]"
     ]
    },
    {
     "name": "stdout",
     "output_type": "stream",
     "text": [
      "Epoch 16 - Loss: 0.5244442777974265 - F1 Score: 0.5335982804798522\n"
     ]
    },
    {
     "name": "stderr",
     "output_type": "stream",
     "text": [
      " 28%|██▊       | 17/60 [01:13<00:17,  2.45it/s]"
     ]
    },
    {
     "name": "stdout",
     "output_type": "stream",
     "text": [
      "Epoch 17 - Loss: 0.5166325782026563 - F1 Score: 0.49590499955440687\n"
     ]
    },
    {
     "name": "stderr",
     "output_type": "stream",
     "text": [
      " 30%|███       | 18/60 [01:13<00:16,  2.58it/s]"
     ]
    },
    {
     "name": "stdout",
     "output_type": "stream",
     "text": [
      "Epoch 18 - Loss: 0.5275563555104392 - F1 Score: 0.5387759352745238\n"
     ]
    },
    {
     "name": "stderr",
     "output_type": "stream",
     "text": [
      " 32%|███▏      | 19/60 [01:14<00:15,  2.69it/s]"
     ]
    },
    {
     "name": "stdout",
     "output_type": "stream",
     "text": [
      "Epoch 19 - Loss: 0.491528651544026 - F1 Score: 0.5223525521802225\n"
     ]
    },
    {
     "name": "stderr",
     "output_type": "stream",
     "text": [
      " 33%|███▎      | 20/60 [01:14<00:14,  2.75it/s]"
     ]
    },
    {
     "name": "stdout",
     "output_type": "stream",
     "text": [
      "Epoch 20 - Loss: 0.49719655939510893 - F1 Score: 0.5237779562411625\n"
     ]
    },
    {
     "name": "stderr",
     "output_type": "stream",
     "text": [
      " 35%|███▌      | 21/60 [01:14<00:14,  2.72it/s]"
     ]
    },
    {
     "name": "stdout",
     "output_type": "stream",
     "text": [
      "Epoch 21 - Loss: 0.503479506288256 - F1 Score: 0.47468108086664784\n"
     ]
    },
    {
     "name": "stderr",
     "output_type": "stream",
     "text": [
      " 37%|███▋      | 22/60 [01:15<00:13,  2.75it/s]"
     ]
    },
    {
     "name": "stdout",
     "output_type": "stream",
     "text": [
      "Epoch 22 - Loss: 0.5115986466407776 - F1 Score: 0.5381789092106047\n"
     ]
    },
    {
     "name": "stderr",
     "output_type": "stream",
     "text": [
      " 38%|███▊      | 23/60 [01:15<00:13,  2.77it/s]"
     ]
    },
    {
     "name": "stdout",
     "output_type": "stream",
     "text": [
      "Epoch 23 - Loss: 0.5004957914352417 - F1 Score: 0.4776417560324906\n"
     ]
    },
    {
     "name": "stderr",
     "output_type": "stream",
     "text": [
      " 40%|████      | 24/60 [01:15<00:13,  2.67it/s]"
     ]
    },
    {
     "name": "stdout",
     "output_type": "stream",
     "text": [
      "Epoch 24 - Loss: 0.4716325104236603 - F1 Score: 0.5068822673870029\n"
     ]
    },
    {
     "name": "stderr",
     "output_type": "stream",
     "text": [
      " 42%|████▏     | 25/60 [01:16<00:13,  2.63it/s]"
     ]
    },
    {
     "name": "stdout",
     "output_type": "stream",
     "text": [
      "Epoch 25 - Loss: 0.49781381658145357 - F1 Score: 0.4783604256587232\n"
     ]
    },
    {
     "name": "stderr",
     "output_type": "stream",
     "text": [
      " 43%|████▎     | 26/60 [01:16<00:12,  2.71it/s]"
     ]
    },
    {
     "name": "stdout",
     "output_type": "stream",
     "text": [
      "Epoch 26 - Loss: 0.48422385113579886 - F1 Score: 0.5381610769699511\n"
     ]
    },
    {
     "name": "stderr",
     "output_type": "stream",
     "text": [
      " 45%|████▌     | 27/60 [01:17<00:12,  2.73it/s]"
     ]
    },
    {
     "name": "stdout",
     "output_type": "stream",
     "text": [
      "Epoch 27 - Loss: 0.4895331178392683 - F1 Score: 0.475738086628139\n"
     ]
    },
    {
     "name": "stderr",
     "output_type": "stream",
     "text": [
      " 47%|████▋     | 28/60 [01:17<00:11,  2.75it/s]"
     ]
    },
    {
     "name": "stdout",
     "output_type": "stream",
     "text": [
      "Epoch 28 - Loss: 0.4599701889923641 - F1 Score: 0.5149464701633791\n"
     ]
    },
    {
     "name": "stderr",
     "output_type": "stream",
     "text": [
      " 48%|████▊     | 29/60 [01:17<00:11,  2.73it/s]"
     ]
    },
    {
     "name": "stdout",
     "output_type": "stream",
     "text": [
      "Epoch 29 - Loss: 0.4801862048251288 - F1 Score: 0.5420894597830559\n"
     ]
    },
    {
     "name": "stderr",
     "output_type": "stream",
     "text": [
      " 50%|█████     | 30/60 [01:18<00:11,  2.73it/s]"
     ]
    },
    {
     "name": "stdout",
     "output_type": "stream",
     "text": [
      "Epoch 30 - Loss: 0.4789197998387473 - F1 Score: 0.5420910066990505\n"
     ]
    },
    {
     "name": "stderr",
     "output_type": "stream",
     "text": [
      " 52%|█████▏    | 31/60 [01:18<00:10,  2.73it/s]"
     ]
    },
    {
     "name": "stdout",
     "output_type": "stream",
     "text": [
      "Epoch 31 - Loss: 0.451167847429003 - F1 Score: 0.5264162176609131\n"
     ]
    },
    {
     "name": "stderr",
     "output_type": "stream",
     "text": [
      " 53%|█████▎    | 32/60 [01:18<00:10,  2.77it/s]"
     ]
    },
    {
     "name": "stdout",
     "output_type": "stream",
     "text": [
      "Epoch 32 - Loss: 0.4523159989288875 - F1 Score: 0.4974295006088841\n"
     ]
    },
    {
     "name": "stderr",
     "output_type": "stream",
     "text": [
      " 55%|█████▌    | 33/60 [01:19<00:09,  2.83it/s]"
     ]
    },
    {
     "name": "stdout",
     "output_type": "stream",
     "text": [
      "Epoch 33 - Loss: 0.4491854693208422 - F1 Score: 0.4978873095133896\n"
     ]
    },
    {
     "name": "stderr",
     "output_type": "stream",
     "text": [
      " 57%|█████▋    | 34/60 [01:19<00:09,  2.85it/s]"
     ]
    },
    {
     "name": "stdout",
     "output_type": "stream",
     "text": [
      "Epoch 34 - Loss: 0.4393163323402405 - F1 Score: 0.5349246449893229\n"
     ]
    },
    {
     "name": "stderr",
     "output_type": "stream",
     "text": [
      " 58%|█████▊    | 35/60 [01:19<00:08,  2.89it/s]"
     ]
    },
    {
     "name": "stdout",
     "output_type": "stream",
     "text": [
      "Epoch 35 - Loss: 0.43629914096423555 - F1 Score: 0.5297767216315158\n"
     ]
    },
    {
     "name": "stderr",
     "output_type": "stream",
     "text": [
      " 60%|██████    | 36/60 [01:20<00:08,  2.89it/s]"
     ]
    },
    {
     "name": "stdout",
     "output_type": "stream",
     "text": [
      "Epoch 36 - Loss: 0.4311759386743818 - F1 Score: 0.5160495638466266\n"
     ]
    },
    {
     "name": "stderr",
     "output_type": "stream",
     "text": [
      " 62%|██████▏   | 37/60 [01:20<00:08,  2.84it/s]"
     ]
    },
    {
     "name": "stdout",
     "output_type": "stream",
     "text": [
      "Epoch 37 - Loss: 0.4417902571814401 - F1 Score: 0.5414038164873587\n"
     ]
    },
    {
     "name": "stderr",
     "output_type": "stream",
     "text": [
      " 63%|██████▎   | 38/60 [01:20<00:07,  2.91it/s]"
     ]
    },
    {
     "name": "stdout",
     "output_type": "stream",
     "text": [
      "Epoch 38 - Loss: 0.42822298407554626 - F1 Score: 0.5084999402166047\n"
     ]
    },
    {
     "name": "stderr",
     "output_type": "stream",
     "text": [
      " 65%|██████▌   | 39/60 [01:21<00:07,  2.95it/s]"
     ]
    },
    {
     "name": "stdout",
     "output_type": "stream",
     "text": [
      "Epoch 39 - Loss: 0.45166149735450745 - F1 Score: 0.4832319291148634\n"
     ]
    },
    {
     "name": "stderr",
     "output_type": "stream",
     "text": [
      " 67%|██████▋   | 40/60 [01:21<00:06,  2.95it/s]"
     ]
    },
    {
     "name": "stdout",
     "output_type": "stream",
     "text": [
      "Epoch 40 - Loss: 0.4293985962867737 - F1 Score: 0.5118323191345504\n"
     ]
    },
    {
     "name": "stderr",
     "output_type": "stream",
     "text": [
      " 68%|██████▊   | 41/60 [01:21<00:06,  2.90it/s]"
     ]
    },
    {
     "name": "stdout",
     "output_type": "stream",
     "text": [
      "Epoch 41 - Loss: 0.4543029878820692 - F1 Score: 0.46949134267508275\n"
     ]
    },
    {
     "name": "stderr",
     "output_type": "stream",
     "text": [
      " 70%|███████   | 42/60 [01:22<00:06,  2.85it/s]"
     ]
    },
    {
     "name": "stdout",
     "output_type": "stream",
     "text": [
      "Epoch 42 - Loss: 0.43089654190199717 - F1 Score: 0.4948813204044096\n"
     ]
    },
    {
     "name": "stderr",
     "output_type": "stream",
     "text": [
      " 72%|███████▏  | 43/60 [01:22<00:05,  2.91it/s]"
     ]
    },
    {
     "name": "stdout",
     "output_type": "stream",
     "text": [
      "Epoch 43 - Loss: 0.40551136221204487 - F1 Score: 0.5278167691352101\n"
     ]
    },
    {
     "name": "stderr",
     "output_type": "stream",
     "text": [
      " 73%|███████▎  | 44/60 [01:23<00:05,  2.95it/s]"
     ]
    },
    {
     "name": "stdout",
     "output_type": "stream",
     "text": [
      "Epoch 44 - Loss: 0.4235095850058964 - F1 Score: 0.5426091388433724\n"
     ]
    },
    {
     "name": "stderr",
     "output_type": "stream",
     "text": [
      " 75%|███████▌  | 45/60 [01:23<00:05,  2.87it/s]"
     ]
    },
    {
     "name": "stdout",
     "output_type": "stream",
     "text": [
      "Epoch 45 - Loss: 0.44557152475629536 - F1 Score: 0.5445711274650124\n"
     ]
    },
    {
     "name": "stderr",
     "output_type": "stream",
     "text": [
      " 77%|███████▋  | 46/60 [01:23<00:05,  2.78it/s]"
     ]
    },
    {
     "name": "stdout",
     "output_type": "stream",
     "text": [
      "Epoch 46 - Loss: 0.431942594902856 - F1 Score: 0.49070475681732834\n"
     ]
    },
    {
     "name": "stderr",
     "output_type": "stream",
     "text": [
      " 78%|███████▊  | 47/60 [01:24<00:05,  2.49it/s]"
     ]
    },
    {
     "name": "stdout",
     "output_type": "stream",
     "text": [
      "Epoch 47 - Loss: 0.41179889866283964 - F1 Score: 0.5330647520854678\n"
     ]
    },
    {
     "name": "stderr",
     "output_type": "stream",
     "text": [
      " 80%|████████  | 48/60 [01:24<00:05,  2.40it/s]"
     ]
    },
    {
     "name": "stdout",
     "output_type": "stream",
     "text": [
      "Epoch 48 - Loss: 0.41305577754974365 - F1 Score: 0.5238283258477879\n"
     ]
    },
    {
     "name": "stderr",
     "output_type": "stream",
     "text": [
      " 82%|████████▏ | 49/60 [01:25<00:04,  2.51it/s]"
     ]
    },
    {
     "name": "stdout",
     "output_type": "stream",
     "text": [
      "Epoch 49 - Loss: 0.4366466062409537 - F1 Score: 0.4797798177402011\n"
     ]
    },
    {
     "name": "stderr",
     "output_type": "stream",
     "text": [
      " 83%|████████▎ | 50/60 [01:25<00:03,  2.63it/s]"
     ]
    },
    {
     "name": "stdout",
     "output_type": "stream",
     "text": [
      "Epoch 50 - Loss: 0.3978119705404554 - F1 Score: 0.5159577093436843\n"
     ]
    },
    {
     "name": "stderr",
     "output_type": "stream",
     "text": [
      " 85%|████████▌ | 51/60 [01:25<00:03,  2.70it/s]"
     ]
    },
    {
     "name": "stdout",
     "output_type": "stream",
     "text": [
      "Epoch 51 - Loss: 0.4272357225418091 - F1 Score: 0.4887784394739669\n"
     ]
    },
    {
     "name": "stderr",
     "output_type": "stream",
     "text": [
      " 87%|████████▋ | 52/60 [01:26<00:02,  2.76it/s]"
     ]
    },
    {
     "name": "stdout",
     "output_type": "stream",
     "text": [
      "Epoch 52 - Loss: 0.40907215646335054 - F1 Score: 0.5016298307233422\n"
     ]
    },
    {
     "name": "stderr",
     "output_type": "stream",
     "text": [
      " 88%|████████▊ | 53/60 [01:26<00:02,  2.82it/s]"
     ]
    },
    {
     "name": "stdout",
     "output_type": "stream",
     "text": [
      "Epoch 53 - Loss: 0.4026218035391399 - F1 Score: 0.5450971524582294\n"
     ]
    },
    {
     "name": "stderr",
     "output_type": "stream",
     "text": [
      " 90%|█████████ | 54/60 [01:26<00:02,  2.86it/s]"
     ]
    },
    {
     "name": "stdout",
     "output_type": "stream",
     "text": [
      "Epoch 54 - Loss: 0.409173595053809 - F1 Score: 0.5259289901604337\n"
     ]
    },
    {
     "name": "stderr",
     "output_type": "stream",
     "text": [
      " 92%|█████████▏| 55/60 [01:27<00:01,  2.88it/s]"
     ]
    },
    {
     "name": "stdout",
     "output_type": "stream",
     "text": [
      "Epoch 55 - Loss: 0.39161682554653715 - F1 Score: 0.5188066492526603\n"
     ]
    },
    {
     "name": "stderr",
     "output_type": "stream",
     "text": [
      " 93%|█████████▎| 56/60 [01:27<00:01,  2.90it/s]"
     ]
    },
    {
     "name": "stdout",
     "output_type": "stream",
     "text": [
      "Epoch 56 - Loss: 0.3983626535960606 - F1 Score: 0.5211565382549016\n"
     ]
    },
    {
     "name": "stderr",
     "output_type": "stream",
     "text": [
      " 95%|█████████▌| 57/60 [01:27<00:01,  2.90it/s]"
     ]
    },
    {
     "name": "stdout",
     "output_type": "stream",
     "text": [
      "Epoch 57 - Loss: 0.3947032115289143 - F1 Score: 0.5362161804801564\n"
     ]
    },
    {
     "name": "stderr",
     "output_type": "stream",
     "text": [
      " 97%|█████████▋| 58/60 [01:28<00:00,  2.92it/s]"
     ]
    },
    {
     "name": "stdout",
     "output_type": "stream",
     "text": [
      "Epoch 58 - Loss: 0.3971274026802608 - F1 Score: 0.5162225989446707\n"
     ]
    },
    {
     "name": "stderr",
     "output_type": "stream",
     "text": [
      " 98%|█████████▊| 59/60 [01:28<00:00,  2.73it/s]"
     ]
    },
    {
     "name": "stdout",
     "output_type": "stream",
     "text": [
      "Epoch 59 - Loss: 0.39840985408851076 - F1 Score: 0.5431828512108774\n"
     ]
    },
    {
     "name": "stderr",
     "output_type": "stream",
     "text": [
      "100%|██████████| 60/60 [01:28<00:00,  1.48s/it]"
     ]
    },
    {
     "name": "stdout",
     "output_type": "stream",
     "text": [
      "Epoch 60 - Loss: 0.4021012080567224 - F1 Score: 0.5341260718004519\n"
     ]
    },
    {
     "name": "stderr",
     "output_type": "stream",
     "text": [
      "\n"
     ]
    }
   ],
   "source": [
    "loss_ls, f1_ls = train_cnn(model, train_loader, test_loader, epochs)"
   ]
  },
  {
   "cell_type": "code",
   "execution_count": 153,
   "id": "ae7853d2",
   "metadata": {},
   "outputs": [
    {
     "data": {
      "image/png": "[encoded data removed]",
      "text/plain": [
       "<Figure size 640x480 with 1 Axes>"
      ]
     },
     "metadata": {},
     "output_type": "display_data"
    }
   ],
   "source": [
    "sns.lineplot(loss_ls)\n",
    "plt.xlabel(\"Epoch\")\n",
    "plt.ylabel(\"Test Loss\")\n",
    "plt.title(\"Test Loss over epochs\")\n",
    "plt.show();"
   ]
  },
  {
   "cell_type": "code",
   "execution_count": 154,
   "id": "af76f2fd",
   "metadata": {},
   "outputs": [
    {
     "data": {
      "image/png": "[encoded data removed]",
      "text/plain": [
       "<Figure size 640x480 with 1 Axes>"
      ]
     },
     "metadata": {},
     "output_type": "display_data"
    }
   ],
   "source": [
    "#test accuracy\n",
    "sns.lineplot(f1_ls)\n",
    "plt.xlabel(\"Epoch\")\n",
    "plt.ylabel(\"F1 Score\")\n",
    "plt.title(\"F1 Score of fake image detection over epochs\")\n",
    "plt.show();"
   ]
  },
  {
   "cell_type": "code",
   "execution_count": 155,
   "id": "1415403e",
   "metadata": {},
   "outputs": [],
   "source": [
    "# #save the model\n",
    "# torch.save(model.state_dict(), \"model.pth\")"
   ]
  },
  {
   "cell_type": "code",
   "execution_count": 159,
   "id": "94f34a30",
   "metadata": {},
   "outputs": [],
   "source": [
    "def display_cam(index, target_layer):\n",
    "\timage_tensor = test_data[index]\n",
    "\treal_class=image_tensor[1]\n",
    "\timage=image_tensor[0].permute(1, 2, 0)\n",
    "\timage_tensor = image_tensor[0].unsqueeze(0)\n",
    "\n",
    "\t#load the model\n",
    "\tmodel = CNN()\n",
    "\tmodel.load_state_dict(torch.load(\"model.pth\"))\n",
    "\t#load the model to the same device as before\n",
    "\tmodel = model.to(device)\n",
    "\tmodel.eval()\n",
    "\n",
    "\t#get the cam extractor\n",
    "\tcam_extractor = SmoothGradCAMpp(model, target_layer=target_layer)\n",
    "\n",
    "\t#load the model\n",
    "\tmodel = CNN()\n",
    "\tmodel.load_state_dict(torch.load(\"model.pth\"))\n",
    "\t#load the model to the same device as before\n",
    "\tmodel = model.to(device)\n",
    "\tmodel.eval()\n",
    "\n",
    "\toutput = model(image_tensor.to(device))\n",
    "\n",
    "\twith SmoothGradCAMpp(model, target_layer=target_layer) as cam_extractor:\n",
    "\t\toutput = model(image_tensor.to(device)) #move the image tensor to the same device as the model\n",
    "\t\tactivation_map = cam_extractor(output.squeeze(0).argmax().item(), output)\n",
    "\n",
    "\n",
    "\t#print actual vs prediction\n",
    "\tpredicted_class = output.argmax(dim=1).item()# # Set your CAM extractor\n",
    "\tprint(f\"Index: {index}\\nActual class: {\"Fake (0)\" if real_class==0 else \"Real (1)\"}, Predicted class: {\"Fake (0)\" if predicted_class==0 else \"Real (1)\"}\")\n",
    "\n",
    "\t#overlay the CAM on the image\n",
    "\tresult = overlay_mask(to_pil_image(image_tensor[0]), to_pil_image(activation_map[0].squeeze(0), mode='F'), alpha=0.5)\n",
    "\n",
    "\t#plot\n",
    "\t#print n images in train_data starting from starting_index\n",
    "\tplt.subplot(1, 2, 1) #subplot with 1 row and 5 columns\n",
    "\tplt.title(\"Original Image\")\n",
    "\tplt.imshow(image)\n",
    "\tplt.axis('off')\n",
    "\tplt.subplot(1, 2, 2)\n",
    "\tplt.title(\"CAM Overlay\")\n",
    "\tplt.imshow(result)\n",
    "\tplt.axis('off')\n"
   ]
  },
  {
   "cell_type": "code",
   "execution_count": null,
   "id": "358ddc4e",
   "metadata": {},
   "outputs": [],
   "source": [
    "# Get a random image by index, as an image tensor\n",
    "index=random.randint(0, 500) #randomly select an index from the test data\n",
    "# ls=[400, 422, 437, 461, 464, 541, 542, 543, 550, 555, 569, 580, 597, 616, 646, 667, 714, 723, 758, 770, 790, 792, 799]\n",
    "#real img pred fake"
   ]
  },
  {
   "cell_type": "code",
   "execution_count": 172,
   "id": "274502e5",
   "metadata": {},
   "outputs": [
    {
     "name": "stdout",
     "output_type": "stream",
     "text": [
      "Index: 456\n",
      "Actual class: Real (1), Predicted class: Real (1)\n"
     ]
    },
    {
     "data": {
      "image/png": "[encoded data removed]",
      "text/plain": [
       "<Figure size 640x480 with 2 Axes>"
      ]
     },
     "metadata": {},
     "output_type": "display_data"
    }
   ],
   "source": [
    "display_cam(index, target_layer=\"conv1\")"
   ]
  },
  {
   "cell_type": "code",
   "execution_count": 173,
   "id": "ee23b8cf",
   "metadata": {},
   "outputs": [
    {
     "name": "stdout",
     "output_type": "stream",
     "text": [
      "Index: 456\n",
      "Actual class: Real (1), Predicted class: Real (1)\n"
     ]
    },
    {
     "data": {
      "image/png": "[encoded data removed]",
      "text/plain": [
       "<Figure size 640x480 with 2 Axes>"
      ]
     },
     "metadata": {},
     "output_type": "display_data"
    }
   ],
   "source": [
    "display_cam(index, target_layer=\"conv2\")"
   ]
  },
  {
   "cell_type": "code",
   "execution_count": null,
   "id": "ff1e5667",
   "metadata": {},
   "outputs": [
    {
     "name": "stdout",
     "output_type": "stream",
     "text": [
      "[[294 106]\n",
      " [ 23 377]]\n"
     ]
    },
    {
     "data": {
      "image/png": "[encoded data removed]",
      "text/plain": [
       "<Figure size 800x600 with 2 Axes>"
      ]
     },
     "metadata": {},
     "output_type": "display_data"
    },
    {
     "name": "stdout",
     "output_type": "stream",
     "text": [
      "              precision    recall  f1-score   support\n",
      "\n",
      "    Fake (0)       0.93      0.73      0.82       400\n",
      "    Real (1)       0.78      0.94      0.85       400\n",
      "\n",
      "    accuracy                           0.84       800\n",
      "   macro avg       0.85      0.84      0.84       800\n",
      "weighted avg       0.85      0.84      0.84       800\n",
      "\n"
     ]
    }
   ],
   "source": [
    "model.eval()\n",
    "\n",
    "# Get the predictions for the test set\n",
    "y_true = []\n",
    "y_pred = []\n",
    "for features, target in test_loader:\n",
    "\tfeatures, target = features.to(device), target.to(device)\n",
    "\toutput = model(features)\n",
    "\tlabel_out = torch.argmax(output, dim=1) #argmax returns the index of the maximum value in the tensor\n",
    "\ty_true.extend(target.cpu().numpy())\n",
    "\ty_pred.extend(label_out.cpu().numpy())\n",
    "\n",
    "\n",
    "# Get the confusion matrix\n",
    "cm = confusion_matrix(y_true, y_pred, labels=[0, 1])\n",
    "print(cm)\n",
    "\n",
    "# Plot the confusion matrix\n",
    "plt.figure(figsize=(8, 6))\n",
    "sns.heatmap(cm, annot=True, fmt='d', cmap='Blues', xticklabels=[\"Fake (0)\", \"Real (1)\"], yticklabels=[\"Fake (0)\", \"Real (1)\"])\n",
    "plt.xlabel('Predicted')\n",
    "plt.ylabel('True')\n",
    "plt.title('Confusion Matrix')\n",
    "plt.show()\n",
    "\n",
    "# Get the classification report\n",
    "report = classification_report(y_true, y_pred, target_names=[\"Fake (0)\", \"Real (1)\"])\n",
    "print(report)"
   ]
  },
  {
   "cell_type": "code",
   "execution_count": 158,
   "id": "7df049c1",
   "metadata": {},
   "outputs": [
    {
     "name": "stdout",
     "output_type": "stream",
     "text": [
      "[400, 422, 437, 461, 464, 541, 542, 543, 550, 555, 569, 580, 597, 616, 646, 667, 714, 723, 758, 770, 790, 792, 799]\n"
     ]
    }
   ],
   "source": [
    "#get index of everything that's real but predicted fake\n",
    "\n",
    "ls=[]\n",
    "\n",
    "for i in range(len(y_pred)):\n",
    "\tif y_pred[i]==0 and y_true[i]==1:\n",
    "\t\tls.append(i)\n",
    "\n",
    "print(ls)"
   ]
  },
  {
   "cell_type": "code",
   "execution_count": 168,
   "id": "c0363529",
   "metadata": {},
   "outputs": [],
   "source": [
    "#save model\n",
    "torch.save(model.state_dict(), \"model_adamw.pth\")"
   ]
  },
  {
   "cell_type": "code",
   "execution_count": null,
   "id": "177143cb",
   "metadata": {},
   "outputs": [],
   "source": []
  }
 ],
 "metadata": {
  "kernelspec": {
   "display_name": "ML",
   "language": "python",
   "name": "python3"
  },
  "language_info": {
   "codemirror_mode": {
    "name": "ipython",
    "version": 3
   },
   "file_extension": ".py",
   "mimetype": "text/x-python",
   "name": "python",
   "nbconvert_exporter": "python",
   "pygments_lexer": "ipython3",
   "version": "3.12.0"
  }
 },
 "nbformat": 4,
 "nbformat_minor": 5
}
