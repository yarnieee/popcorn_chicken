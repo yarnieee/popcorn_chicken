{
 "cells": [
  {
   "cell_type": "code",
   "execution_count": 1,
   "id": "819586f8",
   "metadata": {},
   "outputs": [],
   "source": [
    "import os\n",
    "import random\n",
    "\n",
    "# Parameters\n",
    "folder_path = 'data/ye'\n",
    "\n",
    "# Get all files (ignore subfolders)\n",
    "all_files = [f for f in os.listdir(folder_path) if os.path.isfile(os.path.join(folder_path, f))]\n",
    "\n",
    "# Randomly choose half\n",
    "num_to_delete = len(all_files) // 2\n",
    "files_to_delete = random.sample(all_files, num_to_delete)\n",
    "\n",
    "# Delete the selected files\n",
    "for filename in files_to_delete:\n",
    "    file_path = os.path.join(folder_path, filename)\n",
    "    os.remove(file_path)"
   ]
  },
  {
   "cell_type": "code",
   "execution_count": null,
   "id": "0c3e73ea",
   "metadata": {},
   "outputs": [],
   "source": [
    "import os\n",
    "import random\n",
    "import shutil\n",
    "\n",
    "# Parameters\n",
    "src_dir = 'data/test/FAKE'\n",
    "dst_dir = 'data/test_subset/FAKE'\n",
    "num_files = 2000\n",
    "\n",
    "# Create destination if it doesn't exist\n",
    "os.makedirs(dst_dir, exist_ok=True)\n",
    "\n",
    "# Get all files (ignore subdirectories)\n",
    "all_files = [f for f in os.listdir(src_dir) if os.path.isfile(os.path.join(src_dir, f))]\n",
    "\n",
    "# Sample up to 2000 files\n",
    "sampled_files = random.sample(all_files, min(num_files, len(all_files)))\n",
    "\n",
    "# Copy files\n",
    "for filename in sampled_files:\n",
    "    src_path = os.path.join(src_dir, filename)\n",
    "    dst_path = os.path.join(dst_dir, filename)\n",
    "    shutil.copy2(src_path, dst_path)  # preserves metadata\n"
   ]
  },
  {
   "cell_type": "code",
   "execution_count": null,
   "id": "61931d85",
   "metadata": {},
   "outputs": [],
   "source": []
  }
 ],
 "metadata": {
  "kernelspec": {
   "display_name": "CS2109S_mini",
   "language": "python",
   "name": "python3"
  },
  "language_info": {
   "codemirror_mode": {
    "name": "ipython",
    "version": 3
   },
   "file_extension": ".py",
   "mimetype": "text/x-python",
   "name": "python",
   "nbconvert_exporter": "python",
   "pygments_lexer": "ipython3",
   "version": "3.12.9"
  }
 },
 "nbformat": 4,
 "nbformat_minor": 5
}
